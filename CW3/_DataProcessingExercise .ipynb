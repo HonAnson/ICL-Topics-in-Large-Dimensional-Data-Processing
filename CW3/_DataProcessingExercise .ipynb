{
 "cells": [
  {
   "cell_type": "markdown",
   "id": "5a6b0940",
   "metadata": {},
   "source": [
    "# Coursework 3\n",
    "\n",
    "### PLAGIARISM/COLLUSION DECLARATION\n",
    "\n",
    " \n",
    "\n",
    "Coursework submitted for assessment must be the original work of you and your group. Assignments are subjected to regular checks for plagiarism and/or collusion. Plagiarism is the presentation of another person’s thoughts or words (those outside your group) as if they were your own. Collusion involves obtaining help from someone outside your group to complete your work. In preparing your coursework, you should not seek help, or copy from any other person or source, including the\n",
    "\n",
    "Internet, without proper and explicit acknowledgement.\n",
    "\n",
    " \n",
    "\n",
    "There is a procedure in place for you to declare individual contributions within your group for courswork. You must declare the contributions fairly and accurately.\n",
    "\n",
    " \n",
    "\n",
    "You must not disclose your solutions or insights related to coursework with anyone else, including future students or the Internet.\n",
    "\n",
    " \n",
    "\n",
    "By acknowledging the the statements above, you are declaring that both this and all subsequent pieces of coursework are, and will remain, the original work of you and your group.\n",
    "\n",
    " \n",
    "\n",
    "* Submissions will not be accepted without the aforementioned declaration.\n",
    "\n",
    " \n",
    "\n",
    "* Members of a group are deemed to have collective responsibility for the integrity for work submitted and are liable for any penalty imposed, proportionate to their contributions."
   ]
  },
  {
   "cell_type": "code",
   "execution_count": null,
   "id": "156ebb80",
   "metadata": {},
   "outputs": [],
   "source": [
    "using JLD2,FileIO"
   ]
  },
  {
   "cell_type": "code",
   "execution_count": 6,
   "metadata": {},
   "outputs": [
    {
     "data": {
      "text/plain": [
       "CourseWork_3"
      ]
     },
     "metadata": {},
     "output_type": "display_data"
    }
   ],
   "source": [
    "Base.@kwdef mutable struct CourseWork_3\n",
    "    \n",
    "    CID::Int\n",
    "    Plagiarism_declare::Union{Missing,Bool}\n",
    "    Demo_willing::Union{Missing,Bool}\n",
    "    \n",
    "    # 8.1 Proximal Operator\n",
    "    \n",
    "    Q8_1_a_data_z::Vector\n",
    "    Q8_1_a_data_gamma::Float64\n",
    "    \n",
    "    Q8_1_a_ans_x::Union{Missing,Vector}\n",
    "    \n",
    "    Q8_1_b_data_z::Vector\n",
    "    Q8_1_b_data_gamma::Float64\n",
    "    \n",
    "    Q8_1_b_ans_x::Union{Missing,Vector}\n",
    "    \n",
    "    # 8.2  MRI CS Recovery: ADMM\n",
    "    \n",
    "    Q8_2_data_y::Vector\n",
    "    Q8_2_data_Omega::Matrix\n",
    "    Q8_2_data_X2_ini::Matrix\n",
    "    Q8_2_data_X3_ini::Matrix\n",
    "    Q8_2_data_X4_ini::Matrix\n",
    "    Q8_2_data_X5_ini::Matrix\n",
    "    Q8_2_data_U2_ini::Matrix\n",
    "    Q8_2_data_U3_ini::Matrix\n",
    "    Q8_2_data_U4_ini::Matrix\n",
    "    Q8_2_data_U5_ini::Matrix\n",
    "    Q8_2_data_lambda1::Float64\n",
    "    Q8_2_data_lambda2::Float64\n",
    "    Q8_2_data_lambda3::Float64\n",
    "    Q8_2_data_rho::Float64\n",
    "    \n",
    "    Q8_2_1_ans_X1::Union{Missing,Matrix}\n",
    "    \n",
    "    Q8_2_2_ans_X2::Union{Missing,Matrix}\n",
    "    Q8_2_2_ans_X3::Union{Missing,Matrix}\n",
    "    Q8_2_2_ans_X4::Union{Missing,Matrix}\n",
    "    Q8_2_2_ans_X5::Union{Missing,Matrix}\n",
    "    \n",
    "    Q8_2_3_ans_U2::Union{Missing,Matrix}\n",
    "    Q8_2_3_ans_U3::Union{Missing,Matrix}\n",
    "    Q8_2_3_ans_U4::Union{Missing,Matrix}\n",
    "    Q8_2_3_ans_U5::Union{Missing,Matrix}\n",
    "    \n",
    "    Q8_2_4_ans_Xhat::Union{Missing,Matrix}\n",
    "    \n",
    "    # 8.3. Blind Deconvolution: Convex Relaxation\n",
    "    \n",
    "    Q8_3_data_y::Vector\n",
    "    Q8_3_data_X2_ini::Matrix\n",
    "    Q8_3_data_X3_ini::Matrix\n",
    "    Q8_3_data_X4_ini::Matrix\n",
    "    Q8_3_data_U2_ini::Matrix\n",
    "    Q8_3_data_U3_ini::Matrix\n",
    "    Q8_3_data_U4_ini::Matrix\n",
    "    Q8_3_data_lambda1::Float64\n",
    "    Q8_3_data_lambda2::Float64\n",
    "    Q8_3_data_lambda3::Float64\n",
    "    \n",
    "    Q8_3_2_ans_X1::Union{Missing,Matrix}\n",
    "    \n",
    "    Q8_3_3_ans_X2::Union{Missing,Matrix}\n",
    "    Q8_3_3_ans_X3::Union{Missing,Matrix}\n",
    "    Q8_3_3_ans_X4::Union{Missing,Matrix}\n",
    "    \n",
    "    Q8_3_4_ans_U2::Union{Missing,Matrix}\n",
    "    Q8_3_4_ans_U3::Union{Missing,Matrix}\n",
    "    Q8_3_4_ans_U4::Union{Missing,Matrix}\n",
    "    \n",
    "    Q8_3_5_ans_Xhat::Union{Missing,Matrix}\n",
    "    \n",
    "    # Blind Deconvolution\n",
    "    \n",
    "    Q8_4_data_y::Vector\n",
    "    Q8_4_data_x1ini::Vector\n",
    "    Q8_4_data_x2ini::Vector\n",
    "    Q8_4_data_x3ini::Vector\n",
    "    Q8_4_data_h1ini::Vector\n",
    "    Q8_4_data_h2ini::Vector\n",
    "    Q8_4_data_alpha::Float64\n",
    "    \n",
    "    Q8_4_1_a_ans_H::Union{Missing,Matrix}\n",
    "    Q8_4_1_b_ans_tau::Union{Missing,Float64}\n",
    "    Q8_4_1_c_ans_x1::Union{Missing,Vector}\n",
    "    Q8_4_1_c_ans_x2::Union{Missing,Vector}\n",
    "    Q8_4_1_c_ans_x3::Union{Missing,Vector}\n",
    "    Q8_4_1_d_ans_subg::Union{Missing,Vector}\n",
    "    \n",
    "    Q8_4_2_a_ans_H::Union{Missing,Matrix}\n",
    "    Q8_4_2_b_ans_tau::Union{Missing,Float64}\n",
    "    Q8_4_2_c_ans_h1::Union{Missing,Vector}\n",
    "    Q8_4_2_c_ans_h2::Union{Missing,Vector}\n",
    "    Q8_4_2_d_ans_subg::Union{Missing,Vector}\n",
    "    \n",
    "    Q8_4_3_ans_subg::Union{Missing,Vector}\n",
    "    \n",
    "    Q8_4_4_ans_x1::Union{Missing,Vector}\n",
    "    Q8_4_4_ans_h1::Union{Missing,Vector}\n",
    "    \n",
    "    \n",
    "    \n",
    "end"
   ]
  },
  {
   "cell_type": "code",
   "execution_count": null,
   "id": "30132ba3",
   "metadata": {},
   "outputs": [],
   "source": [
    "# Download and upload data from JLD file, refer to https://juliaio.github.io/JLD2.jl/dev/ \n",
    "\n",
    "Example\n",
    "A = JLD2.load(\"Chin Young Anson, Hon1260366StudentFile.jld2\");\n",
    "A = A[ \"CourseWork_3\" ];\n",
    "A.Demo_willing = true;\n"
   ]
  },
  {
   "cell_type": "code",
   "execution_count": null,
   "metadata": {},
   "outputs": [],
   "source": [
    "jldopen(\"Chin Young Anson, Hon1260366StudentFile.jld2\", \"w\") do file\n",
    "    write(file, \"CourseWork_3\", A)\n",
    " end"
   ]
  },
  {
   "cell_type": "markdown",
   "id": "6861a416",
   "metadata": {},
   "source": [
    "## 8.1. Proximal Operator (Continued)\n"
   ]
  },
  {
   "cell_type": "markdown",
   "id": "90b22aba",
   "metadata": {},
   "source": [
    "### 1. (a)"
   ]
  },
  {
   "cell_type": "code",
   "execution_count": null,
   "id": "ee609657",
   "metadata": {},
   "outputs": [],
   "source": [
    "\n"
   ]
  },
  {
   "cell_type": "markdown",
   "id": "d2cfd18e",
   "metadata": {},
   "source": [
    "### 1. (b)"
   ]
  },
  {
   "cell_type": "code",
   "execution_count": null,
   "id": "fa8a298f",
   "metadata": {},
   "outputs": [],
   "source": [
    "\n"
   ]
  },
  {
   "cell_type": "markdown",
   "id": "b46463fa",
   "metadata": {},
   "source": [
    "## 8.2. MRI CS Recovery: ADMM"
   ]
  },
  {
   "cell_type": "markdown",
   "id": "9f7bae6e",
   "metadata": {},
   "source": [
    "### 1"
   ]
  },
  {
   "cell_type": "code",
   "execution_count": null,
   "id": "e605f2a0",
   "metadata": {},
   "outputs": [],
   "source": []
  },
  {
   "cell_type": "markdown",
   "id": "53c78f0e",
   "metadata": {},
   "source": [
    "### 2"
   ]
  },
  {
   "cell_type": "code",
   "execution_count": null,
   "id": "e1412b01",
   "metadata": {},
   "outputs": [],
   "source": []
  },
  {
   "cell_type": "markdown",
   "id": "0d2bce10",
   "metadata": {},
   "source": [
    "### 3"
   ]
  },
  {
   "cell_type": "code",
   "execution_count": null,
   "id": "ee090674",
   "metadata": {},
   "outputs": [],
   "source": []
  },
  {
   "cell_type": "markdown",
   "metadata": {},
   "source": [
    "### 4"
   ]
  },
  {
   "cell_type": "code",
   "execution_count": null,
   "metadata": {},
   "outputs": [],
   "source": []
  },
  {
   "cell_type": "markdown",
   "id": "77c36de1",
   "metadata": {},
   "source": [
    "## 8.3. Blind Deconvolution: Convex Relaxation"
   ]
  },
  {
   "cell_type": "markdown",
   "id": "09e41bde",
   "metadata": {},
   "source": [
    "### 1"
   ]
  },
  {
   "cell_type": "code",
   "execution_count": null,
   "id": "630f68f0",
   "metadata": {},
   "outputs": [],
   "source": []
  },
  {
   "cell_type": "markdown",
   "id": "4f5d56bb",
   "metadata": {},
   "source": [
    "### 2"
   ]
  },
  {
   "cell_type": "code",
   "execution_count": null,
   "id": "9a058116",
   "metadata": {},
   "outputs": [],
   "source": []
  },
  {
   "cell_type": "markdown",
   "id": "526d9c1c",
   "metadata": {},
   "source": [
    "### 3"
   ]
  },
  {
   "cell_type": "code",
   "execution_count": null,
   "id": "9beb3748",
   "metadata": {},
   "outputs": [],
   "source": []
  },
  {
   "cell_type": "markdown",
   "metadata": {},
   "source": [
    "### 4"
   ]
  },
  {
   "cell_type": "code",
   "execution_count": null,
   "metadata": {},
   "outputs": [],
   "source": []
  },
  {
   "cell_type": "markdown",
   "metadata": {},
   "source": [
    "### 5"
   ]
  },
  {
   "cell_type": "code",
   "execution_count": null,
   "metadata": {},
   "outputs": [],
   "source": []
  },
  {
   "cell_type": "markdown",
   "id": "febd0c11",
   "metadata": {},
   "source": [
    "## 8.4. Blind Deconvolution"
   ]
  },
  {
   "cell_type": "markdown",
   "id": "ec24e1db",
   "metadata": {},
   "source": [
    "### 1"
   ]
  },
  {
   "cell_type": "code",
   "execution_count": null,
   "id": "fe31f310",
   "metadata": {},
   "outputs": [],
   "source": []
  },
  {
   "cell_type": "markdown",
   "id": "257491c3",
   "metadata": {},
   "source": [
    "### 2"
   ]
  },
  {
   "cell_type": "code",
   "execution_count": null,
   "id": "76f2ba8d",
   "metadata": {},
   "outputs": [],
   "source": []
  },
  {
   "cell_type": "markdown",
   "id": "e7b7a294",
   "metadata": {},
   "source": [
    "### 3"
   ]
  },
  {
   "cell_type": "code",
   "execution_count": null,
   "id": "ee9a35e2",
   "metadata": {},
   "outputs": [],
   "source": []
  },
  {
   "cell_type": "markdown",
   "metadata": {},
   "source": [
    "### 4"
   ]
  },
  {
   "cell_type": "code",
   "execution_count": null,
   "metadata": {},
   "outputs": [],
   "source": []
  },
  {
   "cell_type": "code",
   "execution_count": null,
   "metadata": {},
   "outputs": [],
   "source": [
    "jldopen(\"Chin Young Anson, Hon1260366StudentFile.jld2\", \"w\") do file\n",
    "    write(file, \"CourseWork_3\", A)\n",
    " end"
   ]
  }
 ],
 "metadata": {
  "kernelspec": {
   "display_name": "Julia 1.9.3",
   "language": "julia",
   "name": "julia-1.9"
  },
  "language_info": {
   "file_extension": ".jl",
   "mimetype": "application/julia",
   "name": "julia",
   "version": "1.9.3"
  }
 },
 "nbformat": 4,
 "nbformat_minor": 5
}

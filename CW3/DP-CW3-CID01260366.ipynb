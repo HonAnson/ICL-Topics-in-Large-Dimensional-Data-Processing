{
 "cells": [
  {
   "cell_type": "markdown",
   "id": "5a6b0940",
   "metadata": {},
   "source": [
    "# Coursework 3\n",
    "\n",
    "### PLAGIARISM/COLLUSION DECLARATION\n",
    "\n",
    " \n",
    "\n",
    "Coursework submitted for assessment must be the original work of you and your group. Assignments are subjected to regular checks for plagiarism and/or collusion. Plagiarism is the presentation of another person’s thoughts or words (those outside your group) as if they were your own. Collusion involves obtaining help from someone outside your group to complete your work. In preparing your coursework, you should not seek help, or copy from any other person or source, including the\n",
    "\n",
    "Internet, without proper and explicit acknowledgement.\n",
    "\n",
    " \n",
    "\n",
    "There is a procedure in place for you to declare individual contributions within your group for courswork. You must declare the contributions fairly and accurately.\n",
    "\n",
    " \n",
    "\n",
    "You must not disclose your solutions or insights related to coursework with anyone else, including future students or the Internet.\n",
    "\n",
    " \n",
    "\n",
    "By acknowledging the the statements above, you are declaring that both this and all subsequent pieces of coursework are, and will remain, the original work of you and your group.\n",
    "\n",
    " \n",
    "\n",
    "* Submissions will not be accepted without the aforementioned declaration.\n",
    "\n",
    " \n",
    "\n",
    "* Members of a group are deemed to have collective responsibility for the integrity for work submitted and are liable for any penalty imposed, proportionate to their contributions."
   ]
  },
  {
   "cell_type": "code",
   "execution_count": 346,
   "id": "156ebb80",
   "metadata": {},
   "outputs": [],
   "source": [
    "using JLD2,FileIO\n",
    "using LinearAlgebra, Wavelets, FFTW, LinearMaps, IterativeSolvers, LinearOperators, Plots"
   ]
  },
  {
   "cell_type": "code",
   "execution_count": 347,
   "metadata": {},
   "outputs": [
    {
     "data": {
      "text/plain": [
       "CourseWork_3"
      ]
     },
     "metadata": {},
     "output_type": "display_data"
    }
   ],
   "source": [
    "Base.@kwdef mutable struct CourseWork_3\n",
    "    \n",
    "    CID::Int\n",
    "    Plagiarism_declare::Union{Missing,Bool}\n",
    "    Demo_willing::Union{Missing,Bool}\n",
    "    \n",
    "    # 8.1 Proximal Operator\n",
    "    \n",
    "    Q8_1_a_data_z::Vector\n",
    "    Q8_1_a_data_gamma::Float64\n",
    "    \n",
    "    Q8_1_a_ans_x::Union{Missing,Vector}\n",
    "    \n",
    "    Q8_1_b_data_z::Vector\n",
    "    Q8_1_b_data_gamma::Float64\n",
    "    \n",
    "    Q8_1_b_ans_x::Union{Missing,Vector}\n",
    "    \n",
    "    # 8.2  MRI CS Recovery: ADMM\n",
    "    \n",
    "    Q8_2_data_y::Vector\n",
    "    Q8_2_data_Omega::Matrix\n",
    "    Q8_2_data_X2_ini::Matrix\n",
    "    Q8_2_data_X3_ini::Matrix\n",
    "    Q8_2_data_X4_ini::Matrix\n",
    "    Q8_2_data_X5_ini::Matrix\n",
    "    Q8_2_data_U2_ini::Matrix\n",
    "    Q8_2_data_U3_ini::Matrix\n",
    "    Q8_2_data_U4_ini::Matrix\n",
    "    Q8_2_data_U5_ini::Matrix\n",
    "    Q8_2_data_lambda1::Float64\n",
    "    Q8_2_data_lambda2::Float64\n",
    "    Q8_2_data_lambda3::Float64\n",
    "    Q8_2_data_rho::Float64\n",
    "    \n",
    "    Q8_2_1_ans_X1::Union{Missing,Matrix}\n",
    "    \n",
    "    Q8_2_2_ans_X2::Union{Missing,Matrix}\n",
    "    Q8_2_2_ans_X3::Union{Missing,Matrix}\n",
    "    Q8_2_2_ans_X4::Union{Missing,Matrix}\n",
    "    Q8_2_2_ans_X5::Union{Missing,Matrix}\n",
    "    \n",
    "    Q8_2_3_ans_U2::Union{Missing,Matrix}\n",
    "    Q8_2_3_ans_U3::Union{Missing,Matrix}\n",
    "    Q8_2_3_ans_U4::Union{Missing,Matrix}\n",
    "    Q8_2_3_ans_U5::Union{Missing,Matrix}\n",
    "    \n",
    "    Q8_2_4_ans_Xhat::Union{Missing,Matrix}\n",
    "    \n",
    "    # 8.3. Blind Deconvolution: Convex Relaxation\n",
    "    \n",
    "    Q8_3_data_y::Vector\n",
    "    Q8_3_data_X2_ini::Matrix\n",
    "    Q8_3_data_X3_ini::Matrix\n",
    "    Q8_3_data_X4_ini::Matrix\n",
    "    Q8_3_data_U2_ini::Matrix\n",
    "    Q8_3_data_U3_ini::Matrix\n",
    "    Q8_3_data_U4_ini::Matrix\n",
    "    Q8_3_data_lambda1::Float64\n",
    "    Q8_3_data_lambda2::Float64\n",
    "    Q8_3_data_lambda3::Float64\n",
    "    \n",
    "    Q8_3_2_ans_X1::Union{Missing,Matrix}\n",
    "    \n",
    "    Q8_3_3_ans_X2::Union{Missing,Matrix}\n",
    "    Q8_3_3_ans_X3::Union{Missing,Matrix}\n",
    "    Q8_3_3_ans_X4::Union{Missing,Matrix}\n",
    "    \n",
    "    Q8_3_4_ans_U2::Union{Missing,Matrix}\n",
    "    Q8_3_4_ans_U3::Union{Missing,Matrix}\n",
    "    Q8_3_4_ans_U4::Union{Missing,Matrix}\n",
    "    \n",
    "    Q8_3_5_ans_Xhat::Union{Missing,Matrix}\n",
    "    \n",
    "    # Blind Deconvolution\n",
    "    \n",
    "    Q8_4_data_y::Vector\n",
    "    Q8_4_data_x1ini::Vector\n",
    "    Q8_4_data_x2ini::Vector\n",
    "    Q8_4_data_x3ini::Vector\n",
    "    Q8_4_data_h1ini::Vector\n",
    "    Q8_4_data_h2ini::Vector\n",
    "    Q8_4_data_alpha::Float64\n",
    "    \n",
    "    Q8_4_1_a_ans_H::Union{Missing,Matrix}\n",
    "    Q8_4_1_b_ans_tau::Union{Missing,Float64}\n",
    "    Q8_4_1_c_ans_x1::Union{Missing,Vector}\n",
    "    Q8_4_1_c_ans_x2::Union{Missing,Vector}\n",
    "    Q8_4_1_c_ans_x3::Union{Missing,Vector}\n",
    "    Q8_4_1_d_ans_subg::Union{Missing,Vector}\n",
    "    \n",
    "    Q8_4_2_a_ans_H::Union{Missing,Matrix}\n",
    "    Q8_4_2_b_ans_tau::Union{Missing,Float64}\n",
    "    Q8_4_2_c_ans_h1::Union{Missing,Vector}\n",
    "    Q8_4_2_c_ans_h2::Union{Missing,Vector}\n",
    "    Q8_4_2_d_ans_subg::Union{Missing,Vector}\n",
    "    \n",
    "    Q8_4_3_ans_subg::Union{Missing,Vector}\n",
    "    \n",
    "    Q8_4_4_ans_x1::Union{Missing,Vector}\n",
    "    Q8_4_4_ans_h1::Union{Missing,Vector}\n",
    "    \n",
    "    \n",
    "    \n",
    "end"
   ]
  },
  {
   "cell_type": "code",
   "execution_count": 348,
   "id": "30132ba3",
   "metadata": {},
   "outputs": [],
   "source": [
    "# Download and upload data from JLD file, refer to https://juliaio.github.io/JLD2.jl/dev/ \n",
    "\n",
    "# Example\n",
    "A = JLD2.load(\"Chin Young Anson, Hon1260366StudentFile.jld2\");\n",
    "A = A[ \"CourseWork_3\" ];\n",
    "A.Demo_willing = true;\n"
   ]
  },
  {
   "cell_type": "code",
   "execution_count": 349,
   "metadata": {},
   "outputs": [],
   "source": [
    "jldopen(\"Chin Young Anson, Hon1260366StudentFile.jld2\", \"w\") do file\n",
    "    write(file, \"CourseWork_3\", A)\n",
    " end"
   ]
  },
  {
   "cell_type": "markdown",
   "id": "6861a416",
   "metadata": {},
   "source": [
    "## 8.1. Proximal Operator (Continued)\n"
   ]
  },
  {
   "cell_type": "markdown",
   "id": "90b22aba",
   "metadata": {},
   "source": [
    "### 1. (a)"
   ]
  },
  {
   "cell_type": "code",
   "execution_count": 350,
   "id": "ee609657",
   "metadata": {},
   "outputs": [],
   "source": [
    "\n"
   ]
  },
  {
   "cell_type": "markdown",
   "id": "d2cfd18e",
   "metadata": {},
   "source": [
    "### 1. (b)"
   ]
  },
  {
   "cell_type": "code",
   "execution_count": 351,
   "id": "fa8a298f",
   "metadata": {},
   "outputs": [],
   "source": [
    "\n"
   ]
  },
  {
   "cell_type": "markdown",
   "id": "b46463fa",
   "metadata": {},
   "source": [
    "## 8.2. MRI CS Recovery: ADMM"
   ]
  },
  {
   "cell_type": "markdown",
   "id": "9f7bae6e",
   "metadata": {},
   "source": [
    "### 1"
   ]
  },
  {
   "cell_type": "code",
   "execution_count": 352,
   "id": "e605f2a0",
   "metadata": {},
   "outputs": [],
   "source": []
  },
  {
   "cell_type": "markdown",
   "id": "53c78f0e",
   "metadata": {},
   "source": [
    "### 2"
   ]
  },
  {
   "cell_type": "code",
   "execution_count": 353,
   "id": "e1412b01",
   "metadata": {},
   "outputs": [],
   "source": []
  },
  {
   "cell_type": "markdown",
   "id": "0d2bce10",
   "metadata": {},
   "source": [
    "### 3"
   ]
  },
  {
   "cell_type": "code",
   "execution_count": 354,
   "id": "ee090674",
   "metadata": {},
   "outputs": [],
   "source": []
  },
  {
   "cell_type": "markdown",
   "metadata": {},
   "source": [
    "### 4"
   ]
  },
  {
   "cell_type": "code",
   "execution_count": 355,
   "metadata": {},
   "outputs": [],
   "source": []
  },
  {
   "cell_type": "markdown",
   "id": "77c36de1",
   "metadata": {},
   "source": [
    "## 8.3. Blind Deconvolution: Convex Relaxation"
   ]
  },
  {
   "cell_type": "markdown",
   "id": "09e41bde",
   "metadata": {},
   "source": [
    "### 1"
   ]
  },
  {
   "cell_type": "code",
   "execution_count": 356,
   "id": "630f68f0",
   "metadata": {},
   "outputs": [
    {
     "data": {
      "text/plain": [
       "0.1"
      ]
     },
     "metadata": {},
     "output_type": "display_data"
    }
   ],
   "source": [
    "A.Q8_3_data_y      \n",
    "A.Q8_3_data_X2_ini \n",
    "A.Q8_3_data_X3_ini \n",
    "A.Q8_3_data_X4_ini \n",
    "A.Q8_3_data_U2_ini \n",
    "A.Q8_3_data_U3_ini \n",
    "A.Q8_3_data_U4_ini \n",
    "A.Q8_3_data_lambda1\n",
    "A.Q8_3_data_lambda2\n",
    "A.Q8_3_data_lambda3"
   ]
  },
  {
   "cell_type": "markdown",
   "id": "4f5d56bb",
   "metadata": {},
   "source": [
    "### 2"
   ]
  },
  {
   "cell_type": "code",
   "execution_count": 357,
   "id": "9a058116",
   "metadata": {},
   "outputs": [],
   "source": []
  },
  {
   "cell_type": "markdown",
   "id": "526d9c1c",
   "metadata": {},
   "source": [
    "### 3"
   ]
  },
  {
   "cell_type": "code",
   "execution_count": 358,
   "id": "9beb3748",
   "metadata": {},
   "outputs": [],
   "source": []
  },
  {
   "cell_type": "markdown",
   "metadata": {},
   "source": [
    "### 4"
   ]
  },
  {
   "cell_type": "code",
   "execution_count": 359,
   "metadata": {},
   "outputs": [],
   "source": []
  },
  {
   "cell_type": "markdown",
   "metadata": {},
   "source": [
    "### 5"
   ]
  },
  {
   "cell_type": "code",
   "execution_count": 360,
   "metadata": {},
   "outputs": [],
   "source": []
  },
  {
   "cell_type": "code",
   "execution_count": 361,
   "metadata": {},
   "outputs": [],
   "source": []
  },
  {
   "cell_type": "markdown",
   "id": "febd0c11",
   "metadata": {},
   "source": [
    "## 8.4. Blind Deconvolution"
   ]
  },
  {
   "cell_type": "markdown",
   "id": "ec24e1db",
   "metadata": {},
   "source": [
    "### 1"
   ]
  },
  {
   "cell_type": "code",
   "execution_count": 362,
   "id": "fe31f310",
   "metadata": {},
   "outputs": [],
   "source": [
    "y_data = A.Q8_4_data_y    \n",
    "x1ini_data =  A.Q8_4_data_x1ini\n",
    "x2ini_data =  A.Q8_4_data_x2ini\n",
    "x3ini_data =  A.Q8_4_data_x3ini\n",
    "h1ini_data =  A.Q8_4_data_h1ini\n",
    "h2ini_data =  A.Q8_4_data_h2ini\n",
    "# alpha_data =  A.Q8_4_data_alpha #15\n",
    "alpha_data = 15\n",
    "lambda_data = 0.1\n",
    "\n",
    "### Adjust dimension for y, since the end of y is zeros anyways\n",
    "y_new = zeros(209)\n",
    "y_new[1:200] = y_data;"
   ]
  },
  {
   "cell_type": "markdown",
   "id": "c1a4362d",
   "metadata": {},
   "source": [
    "Create Necessary Operators"
   ]
  },
  {
   "cell_type": "code",
   "execution_count": 363,
   "metadata": {},
   "outputs": [
    {
     "data": {
      "text/plain": [
       "Convolution (generic function with 1 method)"
      ]
     },
     "metadata": {},
     "output_type": "display_data"
    }
   ],
   "source": [
    "### Create matrix operator D for TV operation\n",
    "m = size(x1ini_data)[1]\n",
    "I_200 = Matrix{Float64}(I, m, m)    # Create identity square matrix of size m*m, size of x1\n",
    "I_trunk_top = I_200[2:m,:]          # Truncate top row of I\n",
    "I_trunk_bottom = I_200[1:m-1,:]     # Truncate bottom row of I\n",
    "D = I_trunk_top - I_trunk_bottom;   # TV matrix operator 'D' = top truncated iden matrix - bottom truncated iden matrix\n",
    "\n",
    "# Also, use 4.3.3a to obtain cyclic convolution matrix operators\n",
    "function Convolution(x,h)\n",
    "    n=length(x)\n",
    "    m=length(h)\n",
    "    C_h=zeros(n+m-1,n)\n",
    "    for i in 1:(n+m-1)\n",
    "        for j in 1:n\n",
    "            if i-j>=0 && i-j<m\n",
    "                C_h[i,j]=h[i-j+1]\n",
    "            end\n",
    "        end\n",
    "    end\n",
    "    C_star=transpose(C_h)\n",
    "    return C_h,C_star\n",
    "end\n"
   ]
  },
  {
   "cell_type": "markdown",
   "id": "05621146",
   "metadata": {},
   "source": [
    "8.4.1a: Compute and assemble Hessian Matrix"
   ]
  },
  {
   "cell_type": "code",
   "execution_count": 364,
   "metadata": {},
   "outputs": [],
   "source": [
    "# create I_199 for computing x3\n",
    "I_199 = Matrix{Float64}(I, m-1, m-1);\n",
    "\n",
    "# Compute Each Block in Hessian Matrix using differenciation\n",
    "H_11 = alpha_data*I_200 + alpha_data*(D'*D)  # differenciate w.r.t. x1 twice \n",
    "H_12 = -alpha_data*I_200                     # differenciate w.r.t. x1 then x2\n",
    "H_13 = -alpha_data*D'                        # so on\n",
    "H_22 = alpha_data*I_200\n",
    "H_23 = zeros(m,m-1)\n",
    "H_33 = alpha_data*I_199;\n",
    "\n",
    "# Stack each block back to 1 Hessian matrix\n",
    "H_r1 = hcat(H_11, H_12, H_13)\n",
    "H_r2 = hcat(H_12', H_22, H_23)\n",
    "H_r3 = hcat(H_13',H_23', H_33 )\n",
    "Hess = vcat(H_r1, H_r2, H_r3)\n",
    "\n",
    "### 8.4.1a Assign to Answer\n",
    "A.Q8_4_1_a_ans_H = Hess;"
   ]
  },
  {
   "cell_type": "markdown",
   "id": "cca0ac0e",
   "metadata": {},
   "source": [
    "8.4.1b: Get Upper Bounds  \n",
    "As per Yiming's instruction, I return the smallest upper bound"
   ]
  },
  {
   "cell_type": "code",
   "execution_count": 365,
   "metadata": {},
   "outputs": [],
   "source": [
    "# c. The Liptich constant is just the largest eigen value of each hessian matrix for double differenciation of x1, x2 and x3\n",
    "# As svd() automitally sort the eigen values, we simply choose the first eigen value using svd() function\n",
    "_, e1, _ = svd(Hess[1:200,1:200])\n",
    "l1 = e1[1]\n",
    "_, e2, _ = svd(Hess[201:400,201:400])\n",
    "l2 = e2[1]\n",
    "_, e3, _ = svd(Hess[401:599,401:599])\n",
    "l3 = e3[1]\n",
    "\n",
    "# Upper bound = 1/Liptich constant\n",
    "u1 = 1/l1\n",
    "u2 = 1/l2\n",
    "u3 = 1/l3\n",
    "\n",
    "### 8.4.1b Assign to Answer\n",
    "A.Q8_4_1_b_ans_tau = minimum([u1, u2, u3]); # Return smallest upper bound"
   ]
  },
  {
   "cell_type": "markdown",
   "id": "d6deb545",
   "metadata": {},
   "source": [
    "8.4.1c: update x1:3"
   ]
  },
  {
   "cell_type": "code",
   "execution_count": 366,
   "metadata": {},
   "outputs": [
    {
     "data": {
      "text/plain": [
       "prox_grad_x3 (generic function with 1 method)"
      ]
     },
     "metadata": {},
     "output_type": "display_data"
    }
   ],
   "source": [
    "### Make function to run proximal gradient of 1 step for x1, x2 and x3\n",
    "function prox_grad_x1(x1,x2,x3,h1,gamma)\n",
    "    # First, get the matrix operator 'H' for convolution:\n",
    "    H, _ = Convolution(x1, h1);\n",
    "\n",
    "    # Obtain gradient of \"Smooth\" part of proximal operator for x1\n",
    "    # differenciate: 1/2 * norm(y - x1 conv h1) + alpha/2 * norm(x2-x1) + alpha/2 * norm(x3-D*x1), w.r.t. x1 to get grad\n",
    "    grad = alpha_data*(x1-x2+D'*(D*x1-x3))  # NOTE: D is TV operator\n",
    "    z = x1 - gamma * grad \n",
    "\n",
    "    # We solve for x1 from the following least square problem, which is the proximal operator for x1:\n",
    "    # min 1/2* x1'(H'H+(1/gamma)I)x1 + (-H'y-z)'x1\n",
    "    # use cg library to solve least square problem gives:\n",
    "    op = LinearMap(H'*H+(1/gamma)*I_200)\n",
    "    b = -(H'*y_new+z)'\n",
    "    output = cg(op, b, maxiter=1000)\n",
    "    return output\n",
    "end\n",
    "\n",
    "function prox_grad_x2(x1,x2,x3,gamma)\n",
    "\n",
    "    # Obtain gradient of \"Smooth\" part of proximal operator for x2\n",
    "    # differenciate: alpha/2 * norm(x2-x1) w.r.t. x2 to get grad\n",
    "    grad = alpha_data*(x2-x1)\n",
    "    z = x2 - gamma*grad\n",
    "\n",
    "    # Solve the following proximal operator\n",
    "    # min delta(norm(x2) = 1) + 1/2gamma *norm(x2-z)\n",
    "    #####\n",
    "    # Using solution from 6.1h:\n",
    "    output = z / norm(z, 2)\n",
    "    return output\n",
    "\n",
    "end\n",
    "\n",
    "function prox_grad_x3(x1,x2,x3,gamma)\n",
    "\n",
    "    # Obtain gradient of \"Smooth\" part of proximal operator for x3ini_data\n",
    "    grad = alpha_data*(x3 - D*x1)\n",
    "    z = x3 - gamma*grad\n",
    "\n",
    "    # We then have proximal operator:\n",
    "    # min lambda*norm(x3,0) + 1/2gamma *norm(x3-z)\n",
    "    #####\n",
    "    # Using solution from 6.1d:\n",
    "    output = zeros(length(z))\n",
    "    Sorted_indices = sortperm(z, rev = true)\n",
    "    for i in Sorted_indices\n",
    "        if z[i]^2 / (2 * (gamma*lambda_data)) > 1   # check if element is worth setting to non zero\n",
    "            output[i] = z[i]                        # if so, we set output[i] to z[i]\n",
    "        end                                         # terminate if no longer worth setting to non-zero, indices are sorted already anyways\n",
    "    end\n",
    "    return output\n",
    "end"
   ]
  },
  {
   "cell_type": "code",
   "execution_count": 367,
   "id": "6feebbc7",
   "metadata": {},
   "outputs": [],
   "source": [
    "### Apply Proximal gradient method with backtracking\n",
    "# obtain initial values\n",
    "gamma_x = 0.8*minimum([u1, u2, u3])   # choose step size as 0.8*upper bound\n",
    "x1 = x1ini_data\n",
    "x2 = x2ini_data\n",
    "x3 = x3ini_data\n",
    "h1 = h1ini_data\n",
    "h2 = h2ini_data\n",
    "\n",
    "x1 = prox_grad_x1(x1,x2,x3,h1,gamma_x) # update x1\n",
    "x2 = prox_grad_x2(x1,x2,x3,gamma_x) # update x2\n",
    "x3 = prox_grad_x3(x1,x2,x3,gamma_x) # update x3\n",
    "\n",
    "### 8.4.1c Assign to answer:\n",
    "A.Q8_4_1_c_ans_x1 = x1;\n",
    "A.Q8_4_1_c_ans_x2 = x2;\n",
    "A.Q8_4_1_c_ans_x3 = x3;"
   ]
  },
  {
   "cell_type": "markdown",
   "id": "c4def29e",
   "metadata": {},
   "source": [
    "8.4.1d"
   ]
  },
  {
   "cell_type": "code",
   "execution_count": 368,
   "id": "022a0c5f",
   "metadata": {},
   "outputs": [],
   "source": [
    "# First, get the matrix operator 'H' for convolution:\n",
    "H, _ = Convolution(x1, h1)\n",
    "\n",
    "# Note that:\n",
    "# subgradient of delta(norm(x2,2)=1) = 0 only when norm(x2,2) = 1\n",
    "# subgradient of norm(x3,0) = 0 only when only when x3 = 0, otherwise subgradient for x3 does not exist\n",
    "# subgradient of x1 is simply its differential, as x1 is convex\n",
    "# Since x3 is not a 0 vector, there is no subgradient for x3.\n",
    "\n",
    "\n",
    "# Differenciating experssion with respect to x1 gives:\n",
    "subg_x1 = (-H'*y_new + H'*H*x1) + alpha_data*(x1-x2+D'*D*x1-D'*x3)\n",
    "subg_x2 = alpha_data*(x2-x1)\n",
    "subg = vcat(subg_x1, subg_x2)\n",
    "\n",
    "### 8.4.1d Assign to answer:\n",
    "A.Q8_4_1_d_ans_subg = subg;"
   ]
  },
  {
   "cell_type": "markdown",
   "id": "257491c3",
   "metadata": {},
   "source": [
    "### 2"
   ]
  },
  {
   "cell_type": "markdown",
   "id": "74dfb587",
   "metadata": {},
   "source": [
    "8.4.2a: hessian matrix of h1 and h2"
   ]
  },
  {
   "cell_type": "code",
   "execution_count": 369,
   "id": "76f2ba8d",
   "metadata": {},
   "outputs": [],
   "source": [
    "# Similarly, Compute each block in Hessian Matrix using differenciation\n",
    "n = length(h1ini_data)\n",
    "I_10 = Matrix{Float64}(I, n, n) # Create 10x10 identity matrix\n",
    "H_11 = alpha_data * I_10            # differenciate w.r.t. x1 twice \n",
    "H_12 = -alpha_data * I_10           # differenciate w.r.t. x1 then x2\n",
    "H_21 = -alpha_data * I_10\n",
    "H_22 = alpha_data * I_10\n",
    "\n",
    "# Stack them to 1 Hessian matrix\n",
    "H_r1 = hcat(H_11,H_12)\n",
    "H_r2 = hcat(H_21,H_22)\n",
    "Hess = vcat(H_r1, H_r2)\n",
    "\n",
    "### 8.4.2a Assign to Answer\n",
    "A.Q8_4_2_a_ans_H = Hess;"
   ]
  },
  {
   "cell_type": "markdown",
   "id": "e26927b6",
   "metadata": {},
   "source": [
    "8.4.2b: Find Upperbound for proximal gradient for h1:2"
   ]
  },
  {
   "cell_type": "code",
   "execution_count": 370,
   "id": "4fee8ab3",
   "metadata": {},
   "outputs": [],
   "source": [
    "# Similarly, find Liptich constant for hessian matrix:\n",
    "# Actually its just alpha, \n",
    "# but still, I choose get largest eigen value for good practice\n",
    "_, e1, _ = svd(H_11)\n",
    "l1 = e1[1]\n",
    "_, e2, _ = svd(H_12)\n",
    "l2 = e2[1]\n",
    "\n",
    "# Upper bound = 1/Lpitich constant\n",
    "upb = 1/maximum([l1,l2])\n",
    "\n",
    "### 8.4.2b Assign to answer:\n",
    "A.Q8_4_1_b_ans_tau = upb;"
   ]
  },
  {
   "cell_type": "markdown",
   "id": "05150914",
   "metadata": {},
   "source": [
    "8.4.2c: Update h1:2 using one step of proximal operator"
   ]
  },
  {
   "cell_type": "code",
   "execution_count": 371,
   "id": "a49d409d",
   "metadata": {},
   "outputs": [
    {
     "data": {
      "text/plain": [
       "prox_grad_h2 (generic function with 1 method)"
      ]
     },
     "metadata": {},
     "output_type": "display_data"
    }
   ],
   "source": [
    "### Make function to run proximal gradient of 1 step for h1, h2\n",
    "function prox_grad_h1(x1,h1,h2,gamma)\n",
    "    # Get convolution operator for h1:\n",
    "    H,_ = Convolution(h1,x1)\n",
    "\n",
    "    # Obtain gradient for \"smooth\" part\n",
    "    grad = alpha_data*(h1-h2)\n",
    "    z = h1 - gamma*grad\n",
    "\n",
    "    # Solve proximal operator, which is the following least square problem:\n",
    "    # min 1/2* h1'(H'H+(1/gamma)I)h1 + (-H'y-z)'x1\n",
    "    op = LinearMap(H'*H+(1/gamma)*I_10)\n",
    "    b = -H'*y_new -z\n",
    "    output = cg(op, b, maxiter=1000)\n",
    "    return b\n",
    "end\n",
    "\n",
    "\n",
    "function prox_grad_h2(h1, h2, gamma)\n",
    "    # Obtain gradient of \"smooth\" part through differenciation\n",
    "    grad = alpha_data*(h2-h1)\n",
    "    z = h2 - gamma*grad\n",
    "    \n",
    "    # Solve proximal operator with closed form solution\n",
    "    #####\n",
    "    # Using solution from 6.1d: \n",
    "    output = zeros(length(z))\n",
    "    Sorted_indices = sortperm(z, rev = true)\n",
    "    for i in Sorted_indices\n",
    "        if z[i]^2 / (2 * (gamma*lambda_data)) > 1   # check if element is worth setting to non zero\n",
    "            output[i] = z[i]                        # if so, we set output[i] to z[i]\n",
    "        end                                         # terminate if no longer worth setting to non-zero, indices are sorted already anyways\n",
    "    end\n",
    "    return output\n",
    "end"
   ]
  },
  {
   "cell_type": "code",
   "execution_count": 372,
   "id": "3579799a",
   "metadata": {},
   "outputs": [],
   "source": [
    "# Choose step size as 0.8 upperbound:\n",
    "gamma_h = 0.8*upb\n",
    "\n",
    "# Run 1 step proximal operator to update h1 and h2\n",
    "h1 = prox_grad_h1(x1,h1,h2,gamma_h)\n",
    "h2 = prox_grad_h2(h1, h2, gamma_h)\n",
    "\n",
    "### 8.4.2c Assign answer:\n",
    "A.Q8_4_2_c_ans_h1 = h1\n",
    "A.Q8_4_2_c_ans_h2 = h2;"
   ]
  },
  {
   "cell_type": "markdown",
   "id": "994f0c6c",
   "metadata": {},
   "source": [
    "8.4.2d: Subgradient with respect to h1:2"
   ]
  },
  {
   "cell_type": "code",
   "execution_count": 373,
   "id": "391b84af",
   "metadata": {},
   "outputs": [
    {
     "data": {
      "text/plain": [
       "10-element Vector{Float64}:\n",
       " 10.034051425244616\n",
       "  1.9779559319064988\n",
       " -5.166723642321663\n",
       "  6.166349865351114\n",
       " -4.219563565396487\n",
       " -6.648405153553401\n",
       "  2.6106476625562194\n",
       "  4.2090796148757175\n",
       "  4.60558296231305\n",
       " -2.338808804087447"
      ]
     },
     "metadata": {},
     "output_type": "display_data"
    }
   ],
   "source": [
    "# Get convolution operator\n",
    "H,_ = Convolution(h1,x1)\n",
    "# norm(h2,0) has no subgradient unless h2 = 0\n",
    "# thus, we can only get subgradient with respect to h1.\n",
    "# which is obained through differenciation, since h1 is convex\n",
    "# We can differenciate the followign term with respect to h1 and get the subgradient:\n",
    "# (1/2)*h1'*(H'H+alpha*I) + alpha/2 * norm(h2-h1,2)\n",
    "# Differenciating gives:\n",
    "subg_h1 = (H'*H*h1 - 2*H'*y_new) + alpha_data*(h1-h2)\n",
    "\n",
    "### 8.4.2d Assign to answer:\n",
    "A.Q8_4_2_d_ans_subg = subg_h1"
   ]
  },
  {
   "cell_type": "markdown",
   "id": "e7b7a294",
   "metadata": {},
   "source": [
    "### 3"
   ]
  },
  {
   "cell_type": "markdown",
   "id": "81d5869b",
   "metadata": {},
   "source": [
    "3. Evaluate subgradient again, using updated x1:3 and h1:2"
   ]
  },
  {
   "cell_type": "code",
   "execution_count": 374,
   "id": "ee9a35e2",
   "metadata": {},
   "outputs": [],
   "source": [
    "# First, get the matrix operator 'H' for convolution:\n",
    "H, _ = Convolution(x1, h1)\n",
    "\n",
    "# Differenciating experssion with respect to x1 gives:\n",
    "subg_x1 = (-H'*y_new + H'*H*x1) + alpha_data*(x1-x2+D'*D*x1-D'*x3)\n",
    "subg_x2 = alpha_data*(x2-x1)\n",
    "subg = vcat(subg_x1, subg_x2)\n",
    "\n",
    "### 8.4.3 Assign to answer:\n",
    "A.Q8_4_3_ans_subg = subg;\n"
   ]
  },
  {
   "cell_type": "markdown",
   "metadata": {},
   "source": [
    "### 4"
   ]
  },
  {
   "cell_type": "markdown",
   "id": "c5b9d41e",
   "metadata": {},
   "source": [
    "Complete Alternating minization, using at most 500 iteration, feel free to tunne hyperparameters"
   ]
  },
  {
   "cell_type": "code",
   "execution_count": null,
   "metadata": {},
   "outputs": [],
   "source": [
    "### Variables to be optimized:\n",
    "# x1\n",
    "# x2\n",
    "# x3\n",
    "# h1\n",
    "# h2\n",
    "### Fixed hyperparameter:\n",
    "# gamma_x\n",
    "# gamma_h\n",
    "### Tunnable hyperparameter:\n",
    "# alpha\n",
    "# lambda\n",
    "#####################\n",
    "# We now run alternating minization for 500 iterations:\n",
    "for i in 1:500\n",
    "    # update x1:3\n",
    "    x1 = prox_grad_x1(x1,x2,x3,h1,gamma_x) # update x1\n",
    "    x2 = prox_grad_x2(x1,x2,x3,gamma_x) # update x2\n",
    "    x3 = prox_grad_x3(x1,x2,x3,gamma_x) # update x3\n",
    "    # update h1:3\n",
    "    h1 = prox_grad_h1(x1,h1,h2,gamma_h)\n",
    "    h2 = prox_grad_h2(h1, h2, gamma_h)\n",
    "end\n",
    "\n",
    "### Assign to answer:\n",
    "A.Q8_4_4_ans_x1 = x1\n",
    "A.Q8_4_4_ans_h1 = h1"
   ]
  },
  {
   "cell_type": "code",
   "execution_count": null,
   "metadata": {},
   "outputs": [],
   "source": []
  },
  {
   "cell_type": "code",
   "execution_count": null,
   "metadata": {},
   "outputs": [],
   "source": [
    "jldopen(\"Chin Young Anson, Hon1260366StudentFile.jld2\", \"w\") do file\n",
    "    write(file, \"CourseWork_3\", A)\n",
    " end"
   ]
  }
 ],
 "metadata": {
  "kernelspec": {
   "display_name": "Julia 1.9.3",
   "language": "julia",
   "name": "julia-1.9"
  },
  "language_info": {
   "file_extension": ".jl",
   "mimetype": "application/julia",
   "name": "julia",
   "version": "1.9.3"
  }
 },
 "nbformat": 4,
 "nbformat_minor": 5
}

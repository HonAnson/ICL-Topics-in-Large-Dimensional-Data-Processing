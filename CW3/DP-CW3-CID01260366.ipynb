{
 "cells": [
  {
   "cell_type": "markdown",
   "id": "5a6b0940",
   "metadata": {},
   "source": [
    "# Coursework 3\n",
    "\n",
    "### PLAGIARISM/COLLUSION DECLARATION\n",
    "\n",
    " \n",
    "\n",
    "Coursework submitted for assessment must be the original work of you and your group. Assignments are subjected to regular checks for plagiarism and/or collusion. Plagiarism is the presentation of another person’s thoughts or words (those outside your group) as if they were your own. Collusion involves obtaining help from someone outside your group to complete your work. In preparing your coursework, you should not seek help, or copy from any other person or source, including the\n",
    "\n",
    "Internet, without proper and explicit acknowledgement.\n",
    "\n",
    " \n",
    "\n",
    "There is a procedure in place for you to declare individual contributions within your group for courswork. You must declare the contributions fairly and accurately.\n",
    "\n",
    " \n",
    "\n",
    "You must not disclose your solutions or insights related to coursework with anyone else, including future students or the Internet.\n",
    "\n",
    " \n",
    "\n",
    "By acknowledging the the statements above, you are declaring that both this and all subsequent pieces of coursework are, and will remain, the original work of you and your group.\n",
    "\n",
    " \n",
    "\n",
    "* Submissions will not be accepted without the aforementioned declaration.\n",
    "\n",
    " \n",
    "\n",
    "* Members of a group are deemed to have collective responsibility for the integrity for work submitted and are liable for any penalty imposed, proportionate to their contributions."
   ]
  },
  {
   "cell_type": "code",
   "execution_count": 320,
   "id": "156ebb80",
   "metadata": {},
   "outputs": [],
   "source": [
    "using JLD2,FileIO\n",
    "using LinearAlgebra, Wavelets, FFTW, LinearMaps, IterativeSolvers, LinearOperators, Plots\n"
   ]
  },
  {
   "cell_type": "code",
   "execution_count": 321,
   "metadata": {},
   "outputs": [
    {
     "data": {
      "text/plain": [
       "CourseWork_3"
      ]
     },
     "metadata": {},
     "output_type": "display_data"
    }
   ],
   "source": [
    "Base.@kwdef mutable struct CourseWork_3\n",
    "    \n",
    "    CID::Int\n",
    "    Plagiarism_declare::Union{Missing,Bool}\n",
    "    Demo_willing::Union{Missing,Bool}\n",
    "    \n",
    "    # 8.1 Proximal Operator\n",
    "    \n",
    "    Q8_1_a_data_z::Vector\n",
    "    Q8_1_a_data_gamma::Float64\n",
    "    \n",
    "    Q8_1_a_ans_x::Union{Missing,Vector}\n",
    "    \n",
    "    Q8_1_b_data_z::Vector\n",
    "    Q8_1_b_data_gamma::Float64\n",
    "    \n",
    "    Q8_1_b_ans_x::Union{Missing,Vector}\n",
    "    \n",
    "    # 8.2  MRI CS Recovery: ADMM\n",
    "    \n",
    "    Q8_2_data_y::Vector\n",
    "    Q8_2_data_Omega::Matrix\n",
    "    Q8_2_data_X2_ini::Matrix\n",
    "    Q8_2_data_X3_ini::Matrix\n",
    "    Q8_2_data_X4_ini::Matrix\n",
    "    Q8_2_data_X5_ini::Matrix\n",
    "    Q8_2_data_U2_ini::Matrix\n",
    "    Q8_2_data_U3_ini::Matrix\n",
    "    Q8_2_data_U4_ini::Matrix\n",
    "    Q8_2_data_U5_ini::Matrix\n",
    "    Q8_2_data_lambda1::Float64\n",
    "    Q8_2_data_lambda2::Float64\n",
    "    Q8_2_data_lambda3::Float64\n",
    "    Q8_2_data_rho::Float64\n",
    "    \n",
    "    Q8_2_1_ans_X1::Union{Missing,Matrix}\n",
    "    \n",
    "    Q8_2_2_ans_X2::Union{Missing,Matrix}\n",
    "    Q8_2_2_ans_X3::Union{Missing,Matrix}\n",
    "    Q8_2_2_ans_X4::Union{Missing,Matrix}\n",
    "    Q8_2_2_ans_X5::Union{Missing,Matrix}\n",
    "    \n",
    "    Q8_2_3_ans_U2::Union{Missing,Matrix}\n",
    "    Q8_2_3_ans_U3::Union{Missing,Matrix}\n",
    "    Q8_2_3_ans_U4::Union{Missing,Matrix}\n",
    "    Q8_2_3_ans_U5::Union{Missing,Matrix}\n",
    "    \n",
    "    Q8_2_4_ans_Xhat::Union{Missing,Matrix}\n",
    "    \n",
    "    # 8.3. Blind Deconvolution: Convex Relaxation\n",
    "    \n",
    "    Q8_3_data_y::Vector\n",
    "    Q8_3_data_X2_ini::Matrix\n",
    "    Q8_3_data_X3_ini::Matrix\n",
    "    Q8_3_data_X4_ini::Matrix\n",
    "    Q8_3_data_U2_ini::Matrix\n",
    "    Q8_3_data_U3_ini::Matrix\n",
    "    Q8_3_data_U4_ini::Matrix\n",
    "    Q8_3_data_lambda1::Float64\n",
    "    Q8_3_data_lambda2::Float64\n",
    "    Q8_3_data_lambda3::Float64\n",
    "    \n",
    "    Q8_3_2_ans_X1::Union{Missing,Matrix}\n",
    "    \n",
    "    Q8_3_3_ans_X2::Union{Missing,Matrix}\n",
    "    Q8_3_3_ans_X3::Union{Missing,Matrix}\n",
    "    Q8_3_3_ans_X4::Union{Missing,Matrix}\n",
    "    \n",
    "    Q8_3_4_ans_U2::Union{Missing,Matrix}\n",
    "    Q8_3_4_ans_U3::Union{Missing,Matrix}\n",
    "    Q8_3_4_ans_U4::Union{Missing,Matrix}\n",
    "    \n",
    "    Q8_3_5_ans_Xhat::Union{Missing,Matrix}\n",
    "    \n",
    "    # Blind Deconvolution\n",
    "    \n",
    "    Q8_4_data_y::Vector\n",
    "    Q8_4_data_x1ini::Vector\n",
    "    Q8_4_data_x2ini::Vector\n",
    "    Q8_4_data_x3ini::Vector\n",
    "    Q8_4_data_h1ini::Vector\n",
    "    Q8_4_data_h2ini::Vector\n",
    "    Q8_4_data_alpha::Float64\n",
    "    \n",
    "    Q8_4_1_a_ans_H::Union{Missing,Matrix}\n",
    "    Q8_4_1_b_ans_tau::Union{Missing,Float64}\n",
    "    Q8_4_1_c_ans_x1::Union{Missing,Vector}\n",
    "    Q8_4_1_c_ans_x2::Union{Missing,Vector}\n",
    "    Q8_4_1_c_ans_x3::Union{Missing,Vector}\n",
    "    Q8_4_1_d_ans_subg::Union{Missing,Vector}\n",
    "    \n",
    "    Q8_4_2_a_ans_H::Union{Missing,Matrix}\n",
    "    Q8_4_2_b_ans_tau::Union{Missing,Float64}\n",
    "    Q8_4_2_c_ans_h1::Union{Missing,Vector}\n",
    "    Q8_4_2_c_ans_h2::Union{Missing,Vector}\n",
    "    Q8_4_2_d_ans_subg::Union{Missing,Vector}\n",
    "    \n",
    "    Q8_4_3_ans_subg::Union{Missing,Vector}\n",
    "    \n",
    "    Q8_4_4_ans_x1::Union{Missing,Vector}\n",
    "    Q8_4_4_ans_h1::Union{Missing,Vector}\n",
    "    \n",
    "    \n",
    "    \n",
    "end"
   ]
  },
  {
   "cell_type": "code",
   "execution_count": 322,
   "id": "30132ba3",
   "metadata": {},
   "outputs": [],
   "source": [
    "# Download and upload data from JLD file, refer to https://juliaio.github.io/JLD2.jl/dev/ \n",
    "\n",
    "# Example\n",
    "A = JLD2.load(\"Thomas Auguste2508302StudentFile.jld2\");\n",
    "A = A[ \"CourseWork_3\" ];\n",
    "A.Demo_willing = true;\n"
   ]
  },
  {
   "cell_type": "code",
   "execution_count": 323,
   "metadata": {},
   "outputs": [],
   "source": [
    "jldopen(\"Thomas Auguste2508302StudentFile.jld2\", \"w\") do file\n",
    "    write(file, \"CourseWork_3\", A)\n",
    " end"
   ]
  },
  {
   "cell_type": "markdown",
   "id": "6861a416",
   "metadata": {},
   "source": [
    "## 8.1. Proximal Operator (Continued)\n"
   ]
  },
  {
   "cell_type": "markdown",
   "id": "90b22aba",
   "metadata": {},
   "source": [
    "### 1. (a)"
   ]
  },
  {
   "cell_type": "code",
   "execution_count": 324,
   "id": "01dd36c5",
   "metadata": {},
   "outputs": [
    {
     "data": {
      "text/plain": [
       "compute_error (generic function with 1 method)"
      ]
     },
     "metadata": {},
     "output_type": "display_data"
    }
   ],
   "source": [
    "# useful function to compute the proximal term error\n",
    "function compute_error(element, gamma)\n",
    "    (1 / (2 * gamma)) * norm(element, 2)^2\n",
    "end"
   ]
  },
  {
   "cell_type": "code",
   "execution_count": 325,
   "id": "ee609657",
   "metadata": {},
   "outputs": [
    {
     "name": "stdout",
     "output_type": "stream",
     "text": [
      "7.014355312278699"
     ]
    }
   ],
   "source": [
    "z = A.Q8_1_a_data_z\n",
    "gamma = A.Q8_1_a_data_gamma\n",
    "\n",
    "# Differentiable least square problem.\n",
    "# Differentiating with respect to x and then set to zero gives:\n",
    "x = z / (gamma + 1)\n",
    "\n",
    "error_x = (1/2) * norm(x, 2)^2 + compute_error(x - z, gamma)\n",
    "print(error_x)\n",
    "\n",
    "### 8.1a Assign to answer: \n",
    "A.Q8_1_a_ans_x = x;"
   ]
  },
  {
   "cell_type": "markdown",
   "id": "d2cfd18e",
   "metadata": {},
   "source": [
    "### 1. (b)"
   ]
  },
  {
   "cell_type": "code",
   "execution_count": 326,
   "id": "96ea13dc",
   "metadata": {},
   "outputs": [
    {
     "name": "stdout",
     "output_type": "stream",
     "text": [
      "9.679834669208836"
     ]
    }
   ],
   "source": [
    "z = A.Q8_1_b_data_z\n",
    "gamma = A.Q8_1_b_data_gamma\n",
    "\n",
    "function prox_eucl_norm(z, gamma)\n",
    "    # Use closed form solution for L2 norm \n",
    "    temp = 1-gamma/norm(z)  \n",
    "    temp2 = maximum([0,temp])       # Choose maximum of 0 vs 1-gamma/norm(z)\n",
    "    return temp2*z\n",
    "end\n",
    "\n",
    "x = prox_eucl_norm(z, gamma)\n",
    "error_x = norm(x, 2) + compute_error(x - z, gamma)\n",
    "print(error_x)\n",
    "### 8.1b Assign to answer: \n",
    "A.Q8_1_b_ans_x = x;"
   ]
  },
  {
   "cell_type": "markdown",
   "id": "b46463fa",
   "metadata": {},
   "source": [
    "## 8.2. MRI CS Recovery: ADMM"
   ]
  },
  {
   "cell_type": "markdown",
   "id": "9f7bae6e",
   "metadata": {},
   "source": [
    "### 1"
   ]
  },
  {
   "cell_type": "code",
   "execution_count": 327,
   "id": "e605f2a0",
   "metadata": {},
   "outputs": [
    {
     "data": {
      "text/plain": [
       "A_Op (generic function with 1 method)"
      ]
     },
     "metadata": {},
     "output_type": "display_data"
    }
   ],
   "source": [
    "function A_Op(X, Omega)\n",
    "    X = reshape(X, size(Omega))\n",
    "    O1 = fft(X)\n",
    "    O2 = fftshift(O1)\n",
    "    O3 = Omega .* O2\n",
    "    filter(x -> x != 0, vec(O3))\n",
    "end"
   ]
  },
  {
   "cell_type": "code",
   "execution_count": 328,
   "id": "9bec4bc9",
   "metadata": {},
   "outputs": [
    {
     "data": {
      "text/plain": [
       "Adjoint (generic function with 1 method)"
      ]
     },
     "metadata": {},
     "output_type": "display_data"
    }
   ],
   "source": [
    "function Adjoint(z, Omega)\n",
    "    (m, n) = size(Omega)\n",
    "    k = 1\n",
    "    reverse_subsamp = zeros(m, n)im\n",
    "    for j in 1:m\n",
    "        for i in 1:m\n",
    "            if Omega[i, j] == 1\n",
    "                reverse_subsamp[i, j] = z[k]\n",
    "                k = k + 1\n",
    "            end\n",
    "        end\n",
    "    end\n",
    "    O5 = ifftshift(reverse_subsamp)\n",
    "    real(ifft(O5))\n",
    "end"
   ]
  },
  {
   "cell_type": "code",
   "execution_count": 329,
   "id": "b7cb8013",
   "metadata": {},
   "outputs": [
    {
     "data": {
      "text/plain": [
       "Add_row_of_zeros (generic function with 1 method)"
      ]
     },
     "metadata": {},
     "output_type": "display_data"
    }
   ],
   "source": [
    "function Add_row_of_zeros(original_matrix)\n",
    "    # Number of columns in the original matrix\n",
    "    num_columns = size(original_matrix, 2)\n",
    "\n",
    "    # Row of zeros to add\n",
    "    row_of_zeros = zeros(1, num_columns)\n",
    "\n",
    "    # Add a row of zeros at the bottom\n",
    "    matrix_with_zeros = vcat(original_matrix, row_of_zeros)\n",
    "end"
   ]
  },
  {
   "cell_type": "code",
   "execution_count": 330,
   "id": "9ec49997",
   "metadata": {},
   "outputs": [
    {
     "data": {
      "text/plain": [
       "update_X1 (generic function with 2 methods)"
      ]
     },
     "metadata": {},
     "output_type": "display_data"
    }
   ],
   "source": [
    "function update_X1()\n",
    "    print(\"TODO\")\n",
    "end"
   ]
  },
  {
   "cell_type": "markdown",
   "id": "53c78f0e",
   "metadata": {},
   "source": [
    "### 2"
   ]
  },
  {
   "cell_type": "code",
   "execution_count": 331,
   "id": "e1412b01",
   "metadata": {},
   "outputs": [],
   "source": []
  },
  {
   "cell_type": "markdown",
   "id": "0d2bce10",
   "metadata": {},
   "source": [
    "### 3"
   ]
  },
  {
   "cell_type": "code",
   "execution_count": 332,
   "id": "ee090674",
   "metadata": {},
   "outputs": [],
   "source": []
  },
  {
   "cell_type": "markdown",
   "metadata": {},
   "source": [
    "### 4"
   ]
  },
  {
   "cell_type": "code",
   "execution_count": 333,
   "metadata": {},
   "outputs": [],
   "source": []
  },
  {
   "cell_type": "markdown",
   "id": "77c36de1",
   "metadata": {},
   "source": [
    "## 8.3. Blind Deconvolution: Convex Relaxation"
   ]
  },
  {
   "cell_type": "markdown",
   "id": "db2b2661",
   "metadata": {},
   "source": []
  },
  {
   "cell_type": "markdown",
   "id": "09e41bde",
   "metadata": {},
   "source": [
    "### 1"
   ]
  },
  {
   "cell_type": "markdown",
   "id": "213b2755",
   "metadata": {},
   "source": [
    "$L_{\\rho} = \\frac{1}{2} \\|y - A(X_1)\\|_2^2 + \\lambda_1 \\|X_2\\|_{\\star} + \\lambda_2 TV_{col}(X_1, X_3) + \\lambda_3 \\|X_4\\|_{2,1} + \\langle U_2, X_2 - X_1 \\rangle + \\frac{\\rho}{2} \\|X_2 - X_1\\|_F^2 + \\langle U_3, X_3 - (X_1)_{2:m,:} + (X_1)_{1:m-1,:} \\rangle + \\frac{\\rho}{2} \\|X_3 - (X_1)_{2:m,:} + (X_1)_{1:m-1,:}\\|_F^2 + \\langle U_4, X_4 - X_1 \\rangle + \\frac{\\rho}{2} \\|X_4 - X_1\\|_F^2$"
   ]
  },
  {
   "cell_type": "markdown",
   "id": "4f5d56bb",
   "metadata": {},
   "source": [
    "### 2"
   ]
  },
  {
   "cell_type": "code",
   "execution_count": 334,
   "id": "20b6d199",
   "metadata": {},
   "outputs": [
    {
     "data": {
      "text/plain": [
       "buildA (generic function with 1 method)"
      ]
     },
     "metadata": {},
     "output_type": "display_data"
    }
   ],
   "source": [
    "function buildA(m, n)\n",
    "    ref_m = Matrix(1.0I, m, m)\n",
    "    A = Matrix(1.0I, m, m)\n",
    "    for i in 1:n-1\n",
    "        ref_m = vcat(zeros(1, m), ref_m[1:m-1,:])\n",
    "        A = hcat(A, ref_m)\n",
    "    end\n",
    "    A\n",
    "end\n"
   ]
  },
  {
   "cell_type": "code",
   "execution_count": 335,
   "id": "9a058116",
   "metadata": {},
   "outputs": [
    {
     "data": {
      "text/plain": [
       "update_X1 (generic function with 2 methods)"
      ]
     },
     "metadata": {},
     "output_type": "display_data"
    }
   ],
   "source": [
    "function update_X1(X2, X3, X4, U2, U3, U4, y, rho)\n",
    "    (m, n) = size(X2)\n",
    "    A = buildA(m, n)\n",
    "\n",
    "    iden = Matrix(1.0I, m-1, m-1)\n",
    "    iden_n = Matrix(1.0I, n, n)\n",
    "    k1 = hcat(zeros(m-1), iden)\n",
    "    k2 = hcat(iden, zeros(m-1))\n",
    "    K1 = kron(iden_n, k1)\n",
    "    K2 = kron(iden_n, k2)\n",
    "    dK = K2 - K1\n",
    "    nK = norm(vec(dK), 2)\n",
    "\n",
    "    D = A' * A + (rho * (2 + nK^2)) * I\n",
    "    c = - A' * y - vec(U2) - rho * (vec(X2) + vec(X4)) + dK' * vec(U3) - vec(U4) + rho * dK' * vec(X3)\n",
    "\n",
    "    X1 = - D \\ c\n",
    "    reshape(X1, m, n)\n",
    "end"
   ]
  },
  {
   "cell_type": "code",
   "execution_count": 336,
   "id": "014b2320",
   "metadata": {},
   "outputs": [],
   "source": [
    "y = A.Q8_3_data_y\n",
    "X2_0 = A.Q8_3_data_X2_ini\n",
    "X3_0 = A.Q8_3_data_X3_ini\n",
    "X4_0 = A.Q8_3_data_X4_ini\n",
    "U2_0 = A.Q8_3_data_U2_ini\n",
    "U3_0 = A.Q8_3_data_U3_ini\n",
    "U4_0 = A.Q8_3_data_U4_ini\n",
    "\n",
    "rho = 1000\n",
    "\n",
    "X1 = update_X1(X2_0, X3_0, X4_0, U2_0, U3_0, U4_0, y, rho)\n",
    "\n",
    "A.Q8_3_2_ans_X1 = X1;"
   ]
  },
  {
   "cell_type": "markdown",
   "id": "526d9c1c",
   "metadata": {},
   "source": [
    "### 3"
   ]
  },
  {
   "cell_type": "code",
   "execution_count": 337,
   "id": "9beb3748",
   "metadata": {},
   "outputs": [
    {
     "data": {
      "text/plain": [
       "soft_threshold (generic function with 1 method)"
      ]
     },
     "metadata": {},
     "output_type": "display_data"
    }
   ],
   "source": [
    "function soft_threshold(x, gamma) \n",
    "    sign(x) * max(abs(x) - gamma, 0)\n",
    "end"
   ]
  },
  {
   "cell_type": "code",
   "execution_count": 338,
   "id": "c9d82e3f",
   "metadata": {},
   "outputs": [
    {
     "data": {
      "text/plain": [
       "update_X2 (generic function with 1 method)"
      ]
     },
     "metadata": {},
     "output_type": "display_data"
    }
   ],
   "source": [
    "function update_X2(X1, U2, rho, lambda1)\n",
    "    Z = X1 - (1/rho) * U2\n",
    "    decomp = svd(Z)\n",
    "    SV = Vector{Float64}()\n",
    "    \n",
    "    for sv in decomp.S\n",
    "        push!(SV, soft_threshold(sv, lambda1/rho))\n",
    "    end\n",
    "\n",
    "    S = Diagonal(SV)\n",
    "    decomp.U * S * decomp.Vt\n",
    "end"
   ]
  },
  {
   "cell_type": "code",
   "execution_count": 339,
   "id": "bb56120e",
   "metadata": {},
   "outputs": [
    {
     "data": {
      "text/plain": [
       "update_X3 (generic function with 1 method)"
      ]
     },
     "metadata": {},
     "output_type": "display_data"
    }
   ],
   "source": [
    "function update_X3(X1, U3, rho, lambda2)\n",
    "    (m, n) = size(U3)\n",
    "    \n",
    "    iden = Matrix(1.0I, m, m)\n",
    "    K1 = hcat(zeros(m), iden)\n",
    "    K2 = hcat(iden, zeros(m))\n",
    "    dK = K2 - K1\n",
    "\n",
    "    X3T = zeros(n)\n",
    "    Z = X1' * (K1 - K2)' - (1/rho) * U3'\n",
    "    for i in 1:m\n",
    "        z = Z[:,i]\n",
    "        x = ((norm(z, 2) - (lambda3/rho)) / norm(z, 2)) * z\n",
    "        X3T = hcat(X3T, x)\n",
    "    end\n",
    "\n",
    "    X3T[:,2:end]'\n",
    "end"
   ]
  },
  {
   "cell_type": "code",
   "execution_count": 340,
   "id": "47b32bb5",
   "metadata": {},
   "outputs": [
    {
     "data": {
      "text/plain": [
       "update_X4 (generic function with 1 method)"
      ]
     },
     "metadata": {},
     "output_type": "display_data"
    }
   ],
   "source": [
    "function update_X4(X1, U4, rho, lambda3)\n",
    "    (m, n) = size(U4)\n",
    "    X4 = zeros(m)\n",
    "    Z = X1 - (1/rho) * U4\n",
    "\n",
    "    for i in 1:n\n",
    "        z = Z[:,i]\n",
    "        x = ((norm(z, 2) - (lambda3/rho)) / norm(z, 2)) * z\n",
    "        X4 = hcat(X4, x)\n",
    "    end\n",
    "\n",
    "    X4[:,2:end]\n",
    "end"
   ]
  },
  {
   "cell_type": "code",
   "execution_count": 341,
   "id": "f25668c7",
   "metadata": {},
   "outputs": [],
   "source": [
    "U2_0 = A.Q8_3_data_U2_ini\n",
    "U3_0 = A.Q8_3_data_U3_ini\n",
    "U4_0 = A.Q8_3_data_U4_ini\n",
    "lambda1 = A.Q8_3_data_lambda1\n",
    "lambda2 = A.Q8_3_data_lambda2\n",
    "lambda3 = A.Q8_3_data_lambda3\n",
    "\n",
    "X1_1 = A.Q8_3_2_ans_X1\n",
    "\n",
    "rho = 1000\n",
    "\n",
    "A.Q8_3_3_ans_X2 = update_X2(X1_1, U2_0, rho, lambda1)\n",
    "A.Q8_3_3_ans_X3 = update_X3(X1_1, U3_0, rho, lambda2)\n",
    "A.Q8_3_3_ans_X4 = update_X4(X1_1, U4_0, rho, lambda3);"
   ]
  },
  {
   "cell_type": "markdown",
   "metadata": {},
   "source": [
    "### 4"
   ]
  },
  {
   "cell_type": "code",
   "execution_count": 342,
   "metadata": {},
   "outputs": [
    {
     "data": {
      "text/plain": [
       "update_U2 (generic function with 1 method)"
      ]
     },
     "metadata": {},
     "output_type": "display_data"
    }
   ],
   "source": [
    "function update_U2(U2_p, rho, X1_n, X2_n)\n",
    "    U2_p + rho * (X2_n - X1_n)\n",
    "end"
   ]
  },
  {
   "cell_type": "code",
   "execution_count": 343,
   "id": "f855eb13",
   "metadata": {},
   "outputs": [
    {
     "data": {
      "text/plain": [
       "update_U3 (generic function with 1 method)"
      ]
     },
     "metadata": {},
     "output_type": "display_data"
    }
   ],
   "source": [
    "function update_U3(U3_p, rho, X1_n, X3_n)\n",
    "    (m, n) = size(X1_n)\n",
    "    iden = Matrix(1.0I, m-1, m-1)\n",
    "    K1 = hcat(zeros(m-1), iden)\n",
    "    K2 = hcat(iden, zeros(m-1))\n",
    "\n",
    "    U3_p + rho * (X3_n - K1 * X1_n + K2 * X1_n)\n",
    "end"
   ]
  },
  {
   "cell_type": "code",
   "execution_count": 344,
   "id": "888c7be7",
   "metadata": {},
   "outputs": [
    {
     "data": {
      "text/plain": [
       "update_U4 (generic function with 1 method)"
      ]
     },
     "metadata": {},
     "output_type": "display_data"
    }
   ],
   "source": [
    "function update_U4(U4_p, rho, X1_n, X4_n)\n",
    "    U4_p + rho * (X4_n - X1_n)\n",
    "end"
   ]
  },
  {
   "cell_type": "code",
   "execution_count": 345,
   "id": "c4c4ac26",
   "metadata": {},
   "outputs": [],
   "source": [
    "y = A.Q8_3_data_y\n",
    "X2_0 = A.Q8_3_data_X2_ini\n",
    "X3_0 = A.Q8_3_data_X3_ini\n",
    "X4_0 = A.Q8_3_data_X4_ini\n",
    "U2_0 = A.Q8_3_data_U2_ini\n",
    "U3_0 = A.Q8_3_data_U3_ini\n",
    "U4_0 = A.Q8_3_data_U4_ini\n",
    "\n",
    "rho = 1000\n",
    "\n",
    "X1_1 = update_X1(X2_0, X3_0, X4_0, U2_0, U3_0, U4_0, y, rho)\n",
    "X2_1 = update_X2(X1_1, U2_0, rho, lambda1)\n",
    "X3_1 = update_X3(X1_1, U3_0, rho, lambda2)\n",
    "X4_1 = update_X4(X1_1, U4_0, rho, lambda3)\n",
    "\n",
    "A.Q8_3_4_ans_U2 = update_U2(U2_0, rho, X1_1, X2_1)\n",
    "A.Q8_3_4_ans_U3 = update_U3(U3_0, rho, X1_1, X3_1)\n",
    "A.Q8_3_4_ans_U4 = update_U4(U4_0, rho, X1_1, X4_1);"
   ]
  },
  {
   "cell_type": "markdown",
   "metadata": {},
   "source": [
    "### 5"
   ]
  },
  {
   "cell_type": "code",
   "execution_count": 346,
   "metadata": {},
   "outputs": [
    {
     "data": {
      "text/plain": [
       "l21norm (generic function with 1 method)"
      ]
     },
     "metadata": {},
     "output_type": "display_data"
    }
   ],
   "source": [
    "function l21norm(X)\n",
    "    sum(norm(X[:, j]) for j in 1:size(X, 2))\n",
    "end"
   ]
  },
  {
   "cell_type": "code",
   "execution_count": 347,
   "metadata": {},
   "outputs": [
    {
     "data": {
      "text/plain": [
       "nuclear_norm (generic function with 1 method)"
      ]
     },
     "metadata": {},
     "output_type": "display_data"
    }
   ],
   "source": [
    "function nuclear_norm(X)\n",
    "    sum(svd(X).S)\n",
    "end"
   ]
  },
  {
   "cell_type": "code",
   "execution_count": 348,
   "id": "1a5ba7af",
   "metadata": {},
   "outputs": [
    {
     "data": {
      "text/plain": [
       "cost (generic function with 1 method)"
      ]
     },
     "metadata": {},
     "output_type": "display_data"
    }
   ],
   "source": [
    "function cost(X1, X2, X3, X4, U2, U3, U4, y, rho, lambda1, lambda2, lambda3)\n",
    "    (m, n) = size(X1)\n",
    "    A = buildA(m, n)\n",
    "    (1/2) * norm(y - A * vec(X1), 2)^2 + lambda1 * nuclear_norm(X2) + lambda2 * l21norm(X3') + lambda3 * l21norm(X4)\n",
    "end"
   ]
  },
  {
   "cell_type": "code",
   "execution_count": 349,
   "id": "b0f4389a",
   "metadata": {},
   "outputs": [
    {
     "data": {
      "text/plain": [
       "ADMM (generic function with 1 method)"
      ]
     },
     "metadata": {},
     "output_type": "display_data"
    }
   ],
   "source": [
    "function ADMM(X2, X3, X4, U2, U3, U4, y, rho, lambda1, lambda2, lambda3, max_iter)\n",
    "    X1 = []\n",
    "    for i in 1:max_iter\n",
    "        X1 = update_X1(X2, X3, X4, U2, U3, U4, y, rho)\n",
    "        X2 = update_X2(X1, U2_0, rho, lambda1)\n",
    "        X3 = update_X3(X1, U3_0, rho, lambda2)\n",
    "        X4 = update_X4(X1, U4_0, rho, lambda3)\n",
    "\n",
    "        U2 = update_U2(U2, rho, X1, X2)\n",
    "        U3 = update_U3(U3, rho, X1, X3)\n",
    "        U4 = update_U4(U4, rho, X1, X4)\n",
    "        print(cost(X1, X2, X3, X4, U2, U3, U4, y, rho, lambda1, lambda2, lambda3))\n",
    "    end\n",
    "    X1\n",
    "end"
   ]
  },
  {
   "cell_type": "code",
   "execution_count": 350,
   "id": "843826e4",
   "metadata": {},
   "outputs": [
    {
     "name": "stdout",
     "output_type": "stream",
     "text": [
      "1.9882878863844471.9650305383955526"
     ]
    },
    {
     "name": "stdout",
     "output_type": "stream",
     "text": [
      "1.9650741995143814"
     ]
    },
    {
     "name": "stdout",
     "output_type": "stream",
     "text": [
      "1.9651188116596598"
     ]
    },
    {
     "name": "stdout",
     "output_type": "stream",
     "text": [
      "1.9651634526226818"
     ]
    },
    {
     "name": "stdout",
     "output_type": "stream",
     "text": [
      "1.9652081210297594"
     ]
    },
    {
     "name": "stdout",
     "output_type": "stream",
     "text": [
      "1.9652528168414867"
     ]
    },
    {
     "name": "stdout",
     "output_type": "stream",
     "text": [
      "1.965297540020744"
     ]
    },
    {
     "name": "stdout",
     "output_type": "stream",
     "text": [
      "1.9653422905304592"
     ]
    },
    {
     "name": "stdout",
     "output_type": "stream",
     "text": [
      "1.9653870683336099"
     ]
    },
    {
     "name": "stdout",
     "output_type": "stream",
     "text": [
      "1.9654318733932175"
     ]
    },
    {
     "name": "stdout",
     "output_type": "stream",
     "text": [
      "1.9654767056723532"
     ]
    },
    {
     "name": "stdout",
     "output_type": "stream",
     "text": [
      "1.9655215651341331"
     ]
    },
    {
     "name": "stdout",
     "output_type": "stream",
     "text": [
      "1.965566451741718"
     ]
    },
    {
     "name": "stdout",
     "output_type": "stream",
     "text": [
      "1.96561136545832"
     ]
    },
    {
     "name": "stdout",
     "output_type": "stream",
     "text": [
      "1.9656563062471946"
     ]
    },
    {
     "name": "stdout",
     "output_type": "stream",
     "text": [
      "1.9657012740716433"
     ]
    },
    {
     "name": "stdout",
     "output_type": "stream",
     "text": [
      "1.965746268895016"
     ]
    },
    {
     "name": "stdout",
     "output_type": "stream",
     "text": [
      "1.9657912906807098"
     ]
    },
    {
     "name": "stdout",
     "output_type": "stream",
     "text": [
      "1.9658363393921663"
     ]
    },
    {
     "name": "stdout",
     "output_type": "stream",
     "text": [
      "1.9658814149928752"
     ]
    },
    {
     "name": "stdout",
     "output_type": "stream",
     "text": [
      "1.9659265174463714"
     ]
    },
    {
     "name": "stdout",
     "output_type": "stream",
     "text": [
      "1.9659716467162374"
     ]
    },
    {
     "name": "stdout",
     "output_type": "stream",
     "text": [
      "1.9660168027661025"
     ]
    },
    {
     "name": "stdout",
     "output_type": "stream",
     "text": [
      "1.9660619855596406"
     ]
    },
    {
     "name": "stdout",
     "output_type": "stream",
     "text": [
      "1.9661071950605749"
     ]
    },
    {
     "name": "stdout",
     "output_type": "stream",
     "text": [
      "1.966152431232673"
     ]
    },
    {
     "name": "stdout",
     "output_type": "stream",
     "text": [
      "1.9661976940397494"
     ]
    },
    {
     "name": "stdout",
     "output_type": "stream",
     "text": [
      "1.9662429834456656"
     ]
    },
    {
     "name": "stdout",
     "output_type": "stream",
     "text": [
      "1.9662882994143287"
     ]
    },
    {
     "name": "stdout",
     "output_type": "stream",
     "text": [
      "1.9663336419096928"
     ]
    },
    {
     "name": "stdout",
     "output_type": "stream",
     "text": [
      "1.9663790108957584"
     ]
    },
    {
     "name": "stdout",
     "output_type": "stream",
     "text": [
      "1.9664244063365728"
     ]
    },
    {
     "name": "stdout",
     "output_type": "stream",
     "text": [
      "1.9664698281962278"
     ]
    },
    {
     "name": "stdout",
     "output_type": "stream",
     "text": [
      "1.9665152764388638"
     ]
    },
    {
     "name": "stdout",
     "output_type": "stream",
     "text": [
      "1.966560751028667"
     ]
    },
    {
     "name": "stdout",
     "output_type": "stream",
     "text": [
      "1.9666062519298688"
     ]
    },
    {
     "name": "stdout",
     "output_type": "stream",
     "text": [
      "1.9666517791067473"
     ]
    },
    {
     "name": "stdout",
     "output_type": "stream",
     "text": [
      "1.9666973325236283"
     ]
    },
    {
     "name": "stdout",
     "output_type": "stream",
     "text": [
      "1.9667429121448818"
     ]
    },
    {
     "name": "stdout",
     "output_type": "stream",
     "text": [
      "1.9667885179349254"
     ]
    },
    {
     "name": "stdout",
     "output_type": "stream",
     "text": [
      "1.9668341498582227"
     ]
    },
    {
     "name": "stdout",
     "output_type": "stream",
     "text": [
      "1.966879807879283"
     ]
    },
    {
     "name": "stdout",
     "output_type": "stream",
     "text": [
      "1.9669254919626635"
     ]
    },
    {
     "name": "stdout",
     "output_type": "stream",
     "text": [
      "1.9669712020729637"
     ]
    },
    {
     "name": "stdout",
     "output_type": "stream",
     "text": [
      "1.967016938174834"
     ]
    },
    {
     "name": "stdout",
     "output_type": "stream",
     "text": [
      "1.9670627002329675"
     ]
    },
    {
     "name": "stdout",
     "output_type": "stream",
     "text": [
      "1.9671084882121053"
     ]
    },
    {
     "name": "stdout",
     "output_type": "stream",
     "text": [
      "1.9671543020770332"
     ]
    },
    {
     "name": "stdout",
     "output_type": "stream",
     "text": [
      "1.9672001417925842"
     ]
    },
    {
     "name": "stdout",
     "output_type": "stream",
     "text": [
      "1.967246007323637"
     ]
    },
    {
     "name": "stdout",
     "output_type": "stream",
     "text": [
      "1.9672918986351167"
     ]
    },
    {
     "name": "stdout",
     "output_type": "stream",
     "text": [
      "1.9673378156919927"
     ]
    },
    {
     "name": "stdout",
     "output_type": "stream",
     "text": [
      "1.9673837584592828"
     ]
    },
    {
     "name": "stdout",
     "output_type": "stream",
     "text": [
      "1.967429726902049"
     ]
    },
    {
     "name": "stdout",
     "output_type": "stream",
     "text": [
      "1.9674757209854001"
     ]
    },
    {
     "name": "stdout",
     "output_type": "stream",
     "text": [
      "1.9675217406744905"
     ]
    },
    {
     "name": "stdout",
     "output_type": "stream",
     "text": [
      "1.9675677859345202"
     ]
    },
    {
     "name": "stdout",
     "output_type": "stream",
     "text": [
      "1.9676138567307366"
     ]
    },
    {
     "name": "stdout",
     "output_type": "stream",
     "text": [
      "1.9676599530284307"
     ]
    },
    {
     "name": "stdout",
     "output_type": "stream",
     "text": [
      "1.9677060747929411"
     ]
    },
    {
     "name": "stdout",
     "output_type": "stream",
     "text": [
      "1.967752221989651"
     ]
    },
    {
     "name": "stdout",
     "output_type": "stream",
     "text": [
      "1.96779839458399"
     ]
    },
    {
     "name": "stdout",
     "output_type": "stream",
     "text": [
      "1.9678445925414338"
     ]
    },
    {
     "name": "stdout",
     "output_type": "stream",
     "text": [
      "1.9678908158275037"
     ]
    },
    {
     "name": "stdout",
     "output_type": "stream",
     "text": [
      "1.9679370644077658"
     ]
    },
    {
     "name": "stdout",
     "output_type": "stream",
     "text": [
      "1.967983338247833"
     ]
    },
    {
     "name": "stdout",
     "output_type": "stream",
     "text": [
      "1.9680296373133634"
     ]
    },
    {
     "name": "stdout",
     "output_type": "stream",
     "text": [
      "1.9680759615700603"
     ]
    },
    {
     "name": "stdout",
     "output_type": "stream",
     "text": [
      "1.968122310983674"
     ]
    },
    {
     "name": "stdout",
     "output_type": "stream",
     "text": [
      "1.968168685519998"
     ]
    },
    {
     "name": "stdout",
     "output_type": "stream",
     "text": [
      "1.9682150851448748"
     ]
    },
    {
     "name": "stdout",
     "output_type": "stream",
     "text": [
      "1.9682615098241893"
     ]
    },
    {
     "name": "stdout",
     "output_type": "stream",
     "text": [
      "1.9683079595238733"
     ]
    },
    {
     "name": "stdout",
     "output_type": "stream",
     "text": [
      "1.9683544342099033"
     ]
    },
    {
     "name": "stdout",
     "output_type": "stream",
     "text": [
      "1.9684009338483033"
     ]
    },
    {
     "name": "stdout",
     "output_type": "stream",
     "text": [
      "1.9684474584051403"
     ]
    },
    {
     "name": "stdout",
     "output_type": "stream",
     "text": [
      "1.9684940078465276"
     ]
    },
    {
     "name": "stdout",
     "output_type": "stream",
     "text": [
      "1.968540582138626"
     ]
    },
    {
     "name": "stdout",
     "output_type": "stream",
     "text": [
      "1.9685871812476372"
     ]
    },
    {
     "name": "stdout",
     "output_type": "stream",
     "text": [
      "1.9686338051398122"
     ]
    },
    {
     "name": "stdout",
     "output_type": "stream",
     "text": [
      "1.9686804537814446"
     ]
    },
    {
     "name": "stdout",
     "output_type": "stream",
     "text": [
      "1.9687271271388762"
     ]
    },
    {
     "name": "stdout",
     "output_type": "stream",
     "text": [
      "1.9687738251784916"
     ]
    },
    {
     "name": "stdout",
     "output_type": "stream",
     "text": [
      "1.9688205478667211"
     ]
    },
    {
     "name": "stdout",
     "output_type": "stream",
     "text": [
      "1.9688672951700414"
     ]
    },
    {
     "name": "stdout",
     "output_type": "stream",
     "text": [
      "1.9689140670549725"
     ]
    },
    {
     "name": "stdout",
     "output_type": "stream",
     "text": [
      "1.9689608634880815"
     ]
    },
    {
     "name": "stdout",
     "output_type": "stream",
     "text": [
      "1.96900768443597831.969054529865321"
     ]
    },
    {
     "name": "stdout",
     "output_type": "stream",
     "text": [
      "1.9691013997428104"
     ]
    },
    {
     "name": "stdout",
     "output_type": "stream",
     "text": [
      "1.9691482940351923"
     ]
    },
    {
     "name": "stdout",
     "output_type": "stream",
     "text": [
      "1.969195212709259"
     ]
    },
    {
     "name": "stdout",
     "output_type": "stream",
     "text": [
      "1.9692421557318467"
     ]
    },
    {
     "name": "stdout",
     "output_type": "stream",
     "text": [
      "1.969289123069837"
     ]
    },
    {
     "name": "stdout",
     "output_type": "stream",
     "text": [
      "1.9693361146901562"
     ]
    },
    {
     "name": "stdout",
     "output_type": "stream",
     "text": [
      "1.969383130559775"
     ]
    },
    {
     "name": "stdout",
     "output_type": "stream",
     "text": [
      "1.9694301706457098"
     ]
    },
    {
     "name": "stdout",
     "output_type": "stream",
     "text": [
      "1.9694772349150225"
     ]
    },
    {
     "name": "stdout",
     "output_type": "stream",
     "text": [
      "1.9695243233348176"
     ]
    }
   ],
   "source": [
    "y = A.Q8_3_data_y\n",
    "X2_0 = A.Q8_3_data_X2_ini\n",
    "X3_0 = A.Q8_3_data_X3_ini\n",
    "X4_0 = A.Q8_3_data_X4_ini\n",
    "U2_0 = A.Q8_3_data_U2_ini\n",
    "U3_0 = A.Q8_3_data_U3_ini\n",
    "U4_0 = A.Q8_3_data_U4_ini\n",
    "lambda1 = A.Q8_3_data_lambda1\n",
    "lambda2 = A.Q8_3_data_lambda2\n",
    "lambda3 = A.Q8_3_data_lambda3\n",
    "\n",
    "rho = 1000\n",
    "\n",
    "X = ADMM(X2_0, X3_0, X4_0, U2_0, U3_0, U4_0, y, rho, lambda1, lambda2, lambda3, 100)\n",
    "\n",
    "A.Q8_3_5_ans_Xhat = X;\n"
   ]
  },
  {
   "cell_type": "markdown",
   "id": "febd0c11",
   "metadata": {},
   "source": [
    "## 8.4. Blind Deconvolution"
   ]
  },
  {
   "cell_type": "markdown",
   "id": "ec24e1db",
   "metadata": {},
   "source": [
    "### 1"
   ]
  },
  {
   "cell_type": "code",
   "execution_count": 351,
   "id": "fe31f310",
   "metadata": {},
   "outputs": [],
   "source": [
    "y_data = A.Q8_4_data_y    \n",
    "x1ini_data =  A.Q8_4_data_x1ini\n",
    "x2ini_data =  A.Q8_4_data_x2ini\n",
    "x3ini_data =  A.Q8_4_data_x3ini\n",
    "h1ini_data =  A.Q8_4_data_h1ini\n",
    "h2ini_data =  A.Q8_4_data_h2ini\n",
    "alpha_data =  A.Q8_4_data_alpha \n",
    "lambda_data = 0.1\n",
    "\n",
    "### Adjust dimension for y\n",
    "y_new = zeros(209)\n",
    "y_new[1:200] = y_data;"
   ]
  },
  {
   "cell_type": "markdown",
   "id": "c1a4362d",
   "metadata": {},
   "source": [
    "Create Necessary Operators"
   ]
  },
  {
   "cell_type": "code",
   "execution_count": 352,
   "metadata": {},
   "outputs": [
    {
     "data": {
      "text/plain": [
       "Convolution (generic function with 1 method)"
      ]
     },
     "metadata": {},
     "output_type": "display_data"
    }
   ],
   "source": [
    "### Create matrix operator D for TV operation\n",
    "m = size(x1ini_data)[1]\n",
    "I_200 = Matrix{Float64}(I, m, m)    # Create identity square matrix of size m*m, size of x1\n",
    "I_trunk_top = I_200[2:m,:]          # Truncate top row of I\n",
    "I_trunk_bottom = I_200[1:m-1,:]     # Truncate bottom row of I\n",
    "D = I_trunk_top - I_trunk_bottom;   # TV matrix operator 'D' = top truncated iden matrix - bottom truncated iden matrix\n",
    "\n",
    "# Also, use 4.3.3a to obtain convolution matrix operators\n",
    "function Convolution(x,h)\n",
    "    n=length(x)\n",
    "    m=length(h)\n",
    "    C_h=zeros(n+m-1,n)\n",
    "    for i in 1:(n+m-1)\n",
    "        for j in 1:n\n",
    "            if i-j>=0 && i-j<m\n",
    "                C_h[i,j]=h[i-j+1]\n",
    "            end\n",
    "        end\n",
    "    end\n",
    "    C_star=transpose(C_h)\n",
    "    return C_h,C_star\n",
    "end\n"
   ]
  },
  {
   "cell_type": "markdown",
   "id": "19cb6dbf",
   "metadata": {},
   "source": [
    "Closed Form Solutions for Proximal Opeartors:"
   ]
  },
  {
   "cell_type": "code",
   "execution_count": 353,
   "id": "55acc4f0",
   "metadata": {},
   "outputs": [],
   "source": [
    "### Closed form solution from 6.1d\n",
    "function closed_form_0norm(z,gamma)\n",
    "    # find the absolute values of z\n",
    "    z_abs = abs.(z)\n",
    "    min_error = 1.0e9\n",
    "    final_x = zeros(length(z))\n",
    "\n",
    "    # iterate through till the length of z\n",
    "    for k_i in 1:length(z)\n",
    "        x = zeros(length(z))\n",
    "\n",
    "        # find the indices of k_i largest absolute values of z\n",
    "        top_ki_indices = sortperm(z_abs, rev=true)[1:min(k_i, length(z_abs))]\n",
    "\n",
    "        # copy the largest values of z to x\n",
    "        x[top_ki_indices] = z[top_ki_indices]\n",
    "        error = norm(x, 0) + (1/(2*gamma) * (norm((x-z),2)^2))\n",
    "        \n",
    "        # println(\"Error: \", error)\n",
    "        if (error < min_error)\n",
    "            min_error = error\n",
    "            final_x = x\n",
    "        end\n",
    "    end\n",
    "    return final_x\n",
    "end\n",
    "\n",
    "### Closed form solution from 6.1h\n",
    "function closed_form_normis1(z,gamma)\n",
    "    x = z / norm(z, 2)\n",
    "    return x\n",
    "end;\n"
   ]
  },
  {
   "cell_type": "markdown",
   "id": "05621146",
   "metadata": {},
   "source": [
    "8.4.1a: Compute and assemble Hessian Matrix"
   ]
  },
  {
   "cell_type": "code",
   "execution_count": 354,
   "metadata": {},
   "outputs": [],
   "source": [
    "# create I_199 for computing H_33\n",
    "I_199 = Matrix{Float64}(I, m-1, m-1);\n",
    "\n",
    "# Compute Each Block in Hessian Matrix using differenciation\n",
    "H_11 = alpha_data*I_200 + alpha_data*(D'*D)  # differenciate w.r.t. x1 twice \n",
    "H_12 = -alpha_data*I_200                     # differenciate w.r.t. x1 then x2\n",
    "H_13 = -alpha_data*D'                        # so on\n",
    "H_22 = alpha_data*I_200\n",
    "H_23 = zeros(m,m-1)\n",
    "H_33 = alpha_data*I_199;\n",
    "\n",
    "# Stack each block back to 1 Hessian matrix\n",
    "H_r1 = hcat(H_11, H_12, H_13)\n",
    "H_r2 = hcat(H_12', H_22, H_23)\n",
    "H_r3 = hcat(H_13',H_23', H_33 )\n",
    "Hess = vcat(H_r1, H_r2, H_r3)\n",
    "\n",
    "### 8.4.1a Assign to Answer\n",
    "A.Q8_4_1_a_ans_H = Hess;"
   ]
  },
  {
   "cell_type": "markdown",
   "id": "cca0ac0e",
   "metadata": {},
   "source": [
    "8.4.1b: Get Upper Bounds  \n",
    "NOTE: Use the smallest upperbound"
   ]
  },
  {
   "cell_type": "code",
   "execution_count": 355,
   "metadata": {},
   "outputs": [],
   "source": [
    "# c. The Liptich constant is just the largest eigen value of each hessian matrix for double differenciation of x1, x2 and x3\n",
    "# As svd() automitally sort the eigen values, we simply choose the first eigen value using svd() function\n",
    "_, e1, _ = svd(Hess[1:200,1:200])\n",
    "l1 = e1[1]\n",
    "_, e2, _ = svd(Hess[201:400,201:400])\n",
    "l2 = e2[1]\n",
    "_, e3, _ = svd(Hess[401:599,401:599])\n",
    "l3 = e3[1]\n",
    "\n",
    "# Upper bound = 1/Liptich constant\n",
    "u1 = 1/l1\n",
    "u2 = 1/l2\n",
    "u3 = 1/l3\n",
    "\n",
    "### 8.4.1b Assign to Answer\n",
    "A.Q8_4_1_b_ans_tau = minimum([u1, u2, u3]); # Return smallest upper bound"
   ]
  },
  {
   "cell_type": "markdown",
   "id": "d6deb545",
   "metadata": {},
   "source": [
    "8.4.1c: update x1:3 with one step proximal gradient descent"
   ]
  },
  {
   "cell_type": "code",
   "execution_count": 356,
   "metadata": {},
   "outputs": [],
   "source": [
    "### Make function to run proximal gradient of 1 step for x1, x2 and x3\n",
    "function prox_grad_x1(x1,x2,x3,h1,gamma)\n",
    "    # First, get the matrix operator 'H' for convolution:\n",
    "    H, _ = Convolution(x1, h1)\n",
    "\n",
    "    # Obtain gradient of \"Smooth\" part of proximal operator for x1\n",
    "    # differenciate: 1/2 * norm(y - x1 conv h1) + alpha/2 * norm(x2-x1) + alpha/2 * norm(x3-D*x1), w.r.t. x1 to get grad\n",
    "    grad = alpha_data*(x1-x2+D'*(D*x1-x3))  # NOTE: D is TV operator\n",
    "    z = x1 - gamma * grad \n",
    "\n",
    "    # We solve for x1 from the following least square problem, which is the proximal operator for x1:\n",
    "    # min 1/2* x1'(H'H+(1/gamma)I)x1 + (-H'y-z)'x1\n",
    "    # use cg to solve least square problem:\n",
    "    op = LinearOperator(H'*H+(1/gamma)*I_200)  # LinearOpeartor for better accuracy compared to LinearMap\n",
    "    b = -(H'*y_new+z)'\n",
    "    output = cg(op, b, maxiter=1000)\n",
    "    return output, grad\n",
    "end\n",
    "\n",
    "function prox_grad_x2(x1,x2,x3,gamma)\n",
    "\n",
    "    # Obtain gradient of \"Smooth\" part of proximal operator for x2\n",
    "    # differenciate: alpha/2 * norm(x2-x1) w.r.t. x2 to get grad\n",
    "    grad = alpha_data*(x2-x1)\n",
    "    z = x2 - gamma*grad\n",
    "\n",
    "    # Solve the following proximal operator\n",
    "    # min delta(norm(x2) = 1) + 1/2gamma *norm(x2-z)\n",
    "    #####\n",
    "    # Using solution from 6.1h:\n",
    "    output = closed_form_normis1(z,gamma)\n",
    "    return output, grad\n",
    "\n",
    "end\n",
    "\n",
    "function prox_grad_x3(x1,x2,x3,gamma)\n",
    "    # Obtain gradient of \"Smooth\" part of proximal operator for x3ini_data\n",
    "    grad = alpha_data*(x3 - D*x1)\n",
    "    z = x3 - gamma*grad\n",
    "\n",
    "    # We then have proximal operator:\n",
    "    # min lambda*norm(x3,0) + 1/2gamma *norm(x3-z)\n",
    "    #####\n",
    "    output = closed_form_0norm(z,gamma)\n",
    "    return output, grad\n",
    "end;"
   ]
  },
  {
   "cell_type": "code",
   "execution_count": 357,
   "id": "6feebbc7",
   "metadata": {},
   "outputs": [],
   "source": [
    "### Apply Proximal gradient\n",
    "# obtain initial values\n",
    "gamma_x = 0.8*minimum([u1, u2, u3])   # choose step size as 0.8*upper bound\n",
    "x1 = x1ini_data\n",
    "x2 = x2ini_data\n",
    "x3 = x3ini_data\n",
    "h1 = h1ini_data\n",
    "h2 = h2ini_data\n",
    "\n",
    "x1,grad_x1_1 = prox_grad_x1(x1,x2,x3,h1,gamma_x) # update x1\n",
    "x2,grad_x2_1 = prox_grad_x2(x1,x2,x3,gamma_x) # update x2\n",
    "x3,grad_x3_1 = prox_grad_x3(x1,x2,x3,gamma_x) # update x3\n",
    "\n",
    "### 8.4.1c Assign to answer:\n",
    "A.Q8_4_1_c_ans_x1 = x1;\n",
    "A.Q8_4_1_c_ans_x2 = x2;\n",
    "A.Q8_4_1_c_ans_x3 = x3;"
   ]
  },
  {
   "cell_type": "markdown",
   "id": "c4def29e",
   "metadata": {},
   "source": [
    "8.4.1d"
   ]
  },
  {
   "cell_type": "code",
   "execution_count": 358,
   "id": "022a0c5f",
   "metadata": {},
   "outputs": [],
   "source": [
    "# Note that:\n",
    "# Using lecture notes, subgradient of F could be given by:\n",
    "# del(f_l) - del(f_l-1) - 1/gamma (x_l - x_l-1)\n",
    "\n",
    "function subg_x(x1, x2, x3, h1)\n",
    "    subg_x1 = alpha_data*(x1-x2+D'*(D*x1-x3))\n",
    "    subg_x2 = alpha_data*(x2-x1)\n",
    "    subg_x3 = alpha_data*(x3 - D*x1)\n",
    "    subg = vcat(subg_x1, subg_x2,subg_x3)\n",
    "    return subg\n",
    "end\n",
    "\n",
    "_,grad_x1_2 = prox_grad_x1(x1,x2,x3,h1,gamma_x) # Not updating x1\n",
    "_,grad_x2_2 = prox_grad_x2(x1,x2,x3,gamma_x) # Not updating x2\n",
    "_,grad_x3_2 = prox_grad_x3(x1,x2,x3,gamma_x) # Not updating x3\n",
    "\n",
    "subg_x1 = grad_x1_2 - grad_x1_1  - (1/gamma_x) * (x1 - x1ini_data)\n",
    "subg_x2 = grad_x2_2 - grad_x2_1  - (1/gamma_x) * (x2 - x2ini_data)\n",
    "subg_x3 = grad_x3_2 - grad_x3_1  - (1/gamma_x) * (x3 - x3ini_data)\n",
    "\n",
    "### 8.4.1d Assign to answer:\n",
    "# A.Q8_4_1_d_ans_subg = subg_x(x1, x2, x3, h1);\n",
    "A.Q8_4_1_d_ans_subg = vcat(subg_x1,subg_x2,subg_x3);\n"
   ]
  },
  {
   "cell_type": "markdown",
   "id": "257491c3",
   "metadata": {},
   "source": [
    "### 2"
   ]
  },
  {
   "cell_type": "markdown",
   "id": "74dfb587",
   "metadata": {},
   "source": [
    "8.4.2a: hessian matrix of h1 and h2"
   ]
  },
  {
   "cell_type": "code",
   "execution_count": 359,
   "id": "76f2ba8d",
   "metadata": {},
   "outputs": [],
   "source": [
    "# Similarly, Compute each block in Hessian Matrix using differenciation\n",
    "n = length(h1ini_data)\n",
    "I_10 = Matrix{Float64}(I, n, n) # Create 10x10 identity matrix\n",
    "H_11 = alpha_data * I_10            # differenciate w.r.t. x1 twice \n",
    "H_12 = -alpha_data * I_10           # differenciate w.r.t. x1 then x2\n",
    "H_21 = -alpha_data * I_10\n",
    "H_22 = alpha_data * I_10\n",
    "\n",
    "# Stack them to 1 Hessian matrix\n",
    "H_r1 = hcat(H_11,H_12)\n",
    "H_r2 = hcat(H_21,H_22)\n",
    "Hess = vcat(H_r1, H_r2)\n",
    "\n",
    "### 8.4.2a Assign to Answer\n",
    "A.Q8_4_2_a_ans_H = Hess;"
   ]
  },
  {
   "cell_type": "markdown",
   "id": "e26927b6",
   "metadata": {},
   "source": [
    "8.4.2b: Find Upperbound for proximal gradient for h1:2"
   ]
  },
  {
   "cell_type": "code",
   "execution_count": 360,
   "id": "4fee8ab3",
   "metadata": {},
   "outputs": [],
   "source": [
    "# Similarly, find Liptich constant for hessian matrix:\n",
    "# Actually its just alpha\n",
    "# but still, choose largest eigen value for good practice\n",
    "_, e1, _ = svd(H_11)\n",
    "l1 = e1[1]\n",
    "_, e2, _ = svd(H_12)\n",
    "l2 = e2[1]\n",
    "\n",
    "# Upper bound = 1/Lpitich constant\n",
    "upb = 1/maximum([l1,l2])\n",
    "\n",
    "### 8.4.2b Assign to answer:\n",
    "A.Q8_4_2_b_ans_tau = upb;"
   ]
  },
  {
   "cell_type": "markdown",
   "id": "05150914",
   "metadata": {},
   "source": [
    "8.4.2c: Update h1:2 using one step of proximal operator"
   ]
  },
  {
   "cell_type": "code",
   "execution_count": 361,
   "id": "a49d409d",
   "metadata": {},
   "outputs": [
    {
     "data": {
      "text/plain": [
       "prox_grad_h2 (generic function with 1 method)"
      ]
     },
     "metadata": {},
     "output_type": "display_data"
    }
   ],
   "source": [
    "### Make function to run proximal gradient of 1 step for h1, h2\n",
    "function prox_grad_h1(x1,h1,h2,gamma)\n",
    "    # Get convolution operator for h1:\n",
    "    H,_ = Convolution(h1,x1)\n",
    "\n",
    "    # Obtain gradient for \"smooth\" part\n",
    "    grad = alpha_data*(h1-h2)\n",
    "    z = h1 - gamma*grad\n",
    "\n",
    "    # Solve proximal operator, which is the following least square problem:\n",
    "    # min 1/2* h1'(H'H+(1/gamma)I)h1 + (-H'y-z)'x1\n",
    "    op = LinearOperator(H'*H+(1/gamma)*I_10)\n",
    "    b = -H'*y_new - (1/gamma)*z\n",
    "    output = cg(op, b, maxiter=1000)\n",
    "    return output, grad\n",
    "end\n",
    "\n",
    "function prox_grad_h2(h1, h2, gamma)\n",
    "    # Obtain gradient of \"smooth\" part through differenciation\n",
    "    grad = alpha_data*(h2-h1)\n",
    "    z = h2 - gamma*grad\n",
    "    \n",
    "    # Solve proximal operator with closed form solution\n",
    "    #####\n",
    "    # Using solution from 6.1d:\n",
    "    output = closed_form_0norm(z,gamma)\n",
    "    return output, grad\n",
    "end"
   ]
  },
  {
   "cell_type": "code",
   "execution_count": 362,
   "id": "3579799a",
   "metadata": {},
   "outputs": [],
   "source": [
    "# Choose step size as 0.8 upperbound:\n",
    "gamma_h = 0.8*upb\n",
    "\n",
    "# Run 1 step proximal operator to update h1 and h2\n",
    "h1, grad_h1_1 = prox_grad_h1(x1,h1,h2,gamma_h)\n",
    "h2, grad_h2_1 = prox_grad_h2(h1, h2, gamma_h)\n",
    "\n",
    "### 8.4.2c Assign answer:\n",
    "A.Q8_4_2_c_ans_h1 = h1\n",
    "A.Q8_4_2_c_ans_h2 = h2;"
   ]
  },
  {
   "cell_type": "markdown",
   "id": "994f0c6c",
   "metadata": {},
   "source": [
    "8.4.2d: Subgradient with respect to h1:2"
   ]
  },
  {
   "cell_type": "code",
   "execution_count": 363,
   "id": "391b84af",
   "metadata": {},
   "outputs": [
    {
     "data": {
      "text/plain": [
       "20-element Vector{Float64}:\n",
       " -37.63738268582866\n",
       " -32.087145012230465\n",
       "  -5.556423119106611\n",
       "   9.845651032113674\n",
       " -24.218467793925136\n",
       "  31.339872202373606\n",
       "   2.550732346279421\n",
       "  49.41255826119698\n",
       " -25.365934765205058\n",
       "  38.47876785564023\n",
       "  -7.64982000090486\n",
       "  -6.975433934702028\n",
       "  -2.3213501601506934\n",
       "   1.282332582432561\n",
       "  -5.515894660458152\n",
       "   7.229271766817689\n",
       "   1.3611502787691494\n",
       "   9.547412694901077\n",
       "  -5.270852970226567\n",
       "   7.584976780894131"
      ]
     },
     "metadata": {},
     "output_type": "display_data"
    }
   ],
   "source": [
    "# subg for h1 is obained through differenciation, since h1 is convex\n",
    "# We can differenciate the followign term with respect to h1 and get the subgradient:\n",
    "# (1/2)*h1'*(H'H+alpha*I) + alpha/2 * norm(h2-h1,2)\n",
    "# Differenciating gives:\n",
    "function subg_h(h1, h2, x1)\n",
    "    # Get convolution operator\n",
    "    H,_ = Convolution(h1,x1)\n",
    "    subg_h1 = (H'*H*h1 - 2*H'*y_new) + alpha_data*(h1-h2)\n",
    "    subg_h2 = alpha_data * (h2-h1)\n",
    "    subg = vcat(subg_h1, subg_h2)\n",
    "    return subg\n",
    "end\n",
    "\n",
    "_,grad_h1_2 = prox_grad_h1(x1,h1,h2,gamma_h) # Not updating h1\n",
    "_,grad_h2_2 = prox_grad_h2(h1, h2, gamma_h) # Not updating h2\n",
    "\n",
    "\n",
    "subg_h1 = grad_h1_2 - grad_h1_1  - (1/gamma_h) * (h1 - h1ini_data)\n",
    "subg_h2 = grad_h2_2 - grad_h2_1  - (1/gamma_h) * (h2 - h2ini_data)\n",
    "\n",
    "\n",
    "### 8.4.2d Assign to answer:\n",
    "# A.Q8_4_2_d_ans_subg = subg_h(h1, h2, x1);\n",
    "A.Q8_4_2_d_ans_subg = vcat(subg_h1, subg_h2)"
   ]
  },
  {
   "cell_type": "markdown",
   "id": "e7b7a294",
   "metadata": {},
   "source": [
    "### 3"
   ]
  },
  {
   "cell_type": "markdown",
   "id": "81d5869b",
   "metadata": {},
   "source": [
    "3. Evaluate subgradient w.r.t. x1:3 again, using updated x1:3 and h1:2"
   ]
  },
  {
   "cell_type": "code",
   "execution_count": 364,
   "id": "ee9a35e2",
   "metadata": {},
   "outputs": [],
   "source": [
    "_,grad_x1_2 = prox_grad_x1(x1,x2,x3,h1,gamma_x) # Not updating x1\n",
    "_,grad_x2_2 = prox_grad_x2(x1,x2,x3,gamma_x) # Not updating x2\n",
    "_,grad_x3_2 = prox_grad_x3(x1,x2,x3,gamma_x) # Not updating x3\n",
    "\n",
    "subg_x1 = grad_x1_2 - grad_x1_1  - (1/gamma_x) * (x1 - x1ini_data)\n",
    "subg_x2 = grad_x2_2 - grad_x2_1  - (1/gamma_x) * (x2 - x2ini_data)\n",
    "subg_x3 = grad_x3_2 - grad_x3_1  - (1/gamma_x) * (x3 - x3ini_data)\n",
    "\n",
    "\n",
    "### 8.4.3 Assign to answer:\n",
    "# A.Q8_4_3_ans_subg = subg_x(x1, x2, x3, h1);\n",
    "A.Q8_4_3_ans_subg = vcat(subg_x1, subg_x2, subg_x3);\n"
   ]
  },
  {
   "cell_type": "markdown",
   "metadata": {},
   "source": [
    "### 4"
   ]
  },
  {
   "cell_type": "markdown",
   "id": "c5b9d41e",
   "metadata": {},
   "source": [
    "Complete Alternating minization, using at most 500 iteration, feel free to tunne hyperparameters"
   ]
  },
  {
   "cell_type": "markdown",
   "id": "8dbd04aa",
   "metadata": {},
   "source": [
    "Here, we implement proximal gradient descent as per question requirement"
   ]
  },
  {
   "cell_type": "code",
   "execution_count": 372,
   "metadata": {},
   "outputs": [
    {
     "data": {
      "text/plain": [
       "10-element Vector{Float64}:\n",
       " -2.733407652387365e-6\n",
       "  3.655817567093565e-7\n",
       "  4.251358838372334e-6\n",
       " -1.4301170274438085e-5\n",
       "  1.1090849005373199e-5\n",
       " -7.277352632594897e-6\n",
       " -1.091671982328324e-5\n",
       " -4.7003104989072e-6\n",
       "  6.241589854112628e-6\n",
       " -2.2043148307665335e-6"
      ]
     },
     "metadata": {},
     "output_type": "display_data"
    }
   ],
   "source": [
    "### Variables to be optimized:\n",
    "x1 = x1ini_data\n",
    "x2 = x2ini_data\n",
    "x3 = x3ini_data\n",
    "h1 = h1ini_data\n",
    "h2 = h2ini_data\n",
    "\n",
    "### Tunnable hyperparameter:\n",
    "# alpha_data = 100.0 #15\n",
    "# lambda_data += 50  #0.1\n",
    "# gamma_x\n",
    "# gamma_h\n",
    "\n",
    "#####################\n",
    "# We now run alternating minization for 500 iterations at most, as per question requirement:\n",
    "iter = 500\n",
    "epsilon = 1e-5\n",
    "\n",
    "### Records for algorithm:\n",
    "loss = zeros(iter)\n",
    "g_x1 = zeros(length(x1),iter)\n",
    "g_x2 = zeros(length(x2),iter)\n",
    "g_x3 = zeros(length(x3),iter)\n",
    "g_h1 = zeros(length(h1),iter)\n",
    "g_h2 = zeros(length(h2),iter)\n",
    "subg_x_rec = zeros(iter)\n",
    "subg_h_rec = zeros(iter)\n",
    "crit_x_rec = zeros(iter)\n",
    "crit_h_rec = zeros(iter)\n",
    "\n",
    "# NOTE: Stopping criteria of at most 500 iteration is incooperated in max number of loop variable\n",
    "for i in 1:iter\n",
    "    ########### Alternate Updating ############\n",
    "    ### Find new x1:3 with fixed h1:2\n",
    "    x1_new, g_x1[:,i] = prox_grad_x1(x1,x2,x3,h1,gamma_x)   \n",
    "    x2_new, g_x2[:,i] = prox_grad_x2(x1,x2,x3,gamma_x) \n",
    "    x3_new, g_x3[:,i] = prox_grad_x3(x1,x2,x3,gamma_x)\n",
    "    # calculate norm of subgradient and make record\n",
    "    if i > 1\n",
    "        subg_x1 = g_x1[:,i] - g_x1[:,i-1] - (1/gamma_x) * (x1_new - x1)\n",
    "        subg_x2 = g_x2[:,i] - g_x2[:,i-1] - (1/gamma_x) * (x2_new - x2)\n",
    "        subg_x3 = g_x3[:,i] - g_x3[:,i-1] - (1/gamma_x) * (x3_new - x3)\n",
    "        subg_x_rec[i] = norm(vcat(subg_x1,subg_x2,subg_x3))\n",
    "    end\n",
    "    # Update x1:3 \n",
    "    x1 = x1_new\n",
    "    x2 = x2_new\n",
    "    x3 = x3_new\n",
    "    \n",
    "    ### Find new h1:2 with fixed x1:3\n",
    "    h1_new, g_h1[:,i] = prox_grad_h1(x1,h1,h2,gamma_h)\n",
    "    h2_new, g_h2[:,i] = prox_grad_h2(h1,h2,gamma_h)\n",
    "\n",
    "    # calculate norm of subgradient and make record\n",
    "    if i>1\n",
    "        subg_h1 = g_h1[:,i] - g_h1[:,i-1] - (1/gamma_h) * (h1_new - h1)\n",
    "        subg_h2 = g_h2[:,i] - g_h2[:,i-1] - (1/gamma_h) * (h2_new - h2)\n",
    "        subg_h_rec[i] = norm(vcat(subg_h1,subg_h2))\n",
    "    end\n",
    "    # Update h1:2\n",
    "    h1 = h1_new\n",
    "    h2 = h2_new\n",
    "\n",
    "    ########### Evaluation ############\n",
    "    # Make a record for the objective function value:\n",
    "    H, _ = Convolution(x1, h1)\n",
    "    loss[i] =   (1/2)*norm(y_new - H*x1)^2 + \n",
    "                lambda_data*(norm(x3,0)^2+norm(h2,0)^2) +\n",
    "                (alpha_data/2)*(norm(x2-x1)^2 + norm(x3-D*x1)^2 + norm(h2-h1)^2)\n",
    "\n",
    "\n",
    "    ### Exit criteria implement as mentioned in lecture note\n",
    "    # if norm of subg is less than max of {norm(gradf), norm(gradf_l-1), norm(x), norm(x_l-1)}\n",
    "    # we exit the optimazation \n",
    "    x_crit = 0\n",
    "    h_crit = 0\n",
    "    if i > 1 \n",
    "        x_crit = max(norm(vcat(g_x1[:,i],g_x2[:,i],g_x3[:,i])),\n",
    "                    norm(vcat(g_x1[:,i-1],g_x2[:,i-1],g_x3[:,i-1])),\n",
    "                    norm(vcat(x1_new,x2_new,x3_new)),\n",
    "                    norm(vcat(x1,x2,x3))\n",
    "                    )\n",
    "        crit_x_rec[i] = x_crit\n",
    "        h_crit = max(norm(vcat(g_h1[:,i],g_h2[:,i])),\n",
    "                    norm(vcat(g_h1[:,i-1],g_h2[:,i-1])),\n",
    "                    norm(vcat(h1_new,h2_new)),\n",
    "                    norm(vcat(h1,h2))\n",
    "                    )\n",
    "        crit_h_rec[i] = h_crit\n",
    "    end \n",
    "\n",
    "    if i > 2 &&  subg_x_rec[i] < epsilon*x_crit && subg_h_rec[i] < epsilon*h_crit\n",
    "            break\n",
    "    end\n",
    "end\n",
    "\n",
    "### Assign to answer:\n",
    "A.Q8_4_4_ans_x1 = x1\n",
    "A.Q8_4_4_ans_h1 = h1"
   ]
  },
  {
   "cell_type": "markdown",
   "id": "89b2b07a",
   "metadata": {},
   "source": [
    "We also implement closed form alternate minization to compare optimisation result"
   ]
  },
  {
   "cell_type": "markdown",
   "id": "1da85ef4",
   "metadata": {},
   "source": [
    "Closed form minization for x1, x2 and x3"
   ]
  },
  {
   "cell_type": "code",
   "execution_count": 366,
   "id": "67fd1962",
   "metadata": {},
   "outputs": [],
   "source": [
    "### Closed form could be use to update x1, x2 and x3 in alternating minization\n",
    "function closed_form_x1(x1,x2,x3,h1)\n",
    "    H, _ = Convolution(x1, h1)\n",
    "    A = H'*H + alpha_data*I_200 + alpha_data*D'*D\n",
    "    op = LinearOperator(A)\n",
    "    b = -(H'*y_new+x2+D'*x3)\n",
    "    output = cg(op, b, maxiter=1000)\n",
    "    return output\n",
    "end\n",
    "\n",
    "function closed_form_x2(x1)\n",
    "    output = x1/norm(x1)\n",
    "    return output\n",
    "end\n",
    "\n",
    "function closed_form_x3(x1)\n",
    "    z = D*x1\n",
    "    gamma = lambda_data / alpha_data\n",
    "    return closed_form_0norm(z,gamma)\n",
    "end;\n"
   ]
  },
  {
   "cell_type": "markdown",
   "id": "c656d4de",
   "metadata": {},
   "source": [
    "Here, Also implement closed form minization for h1 and h2"
   ]
  },
  {
   "cell_type": "code",
   "execution_count": 367,
   "id": "a0c063a8",
   "metadata": {},
   "outputs": [],
   "source": [
    "### Closed form for updating h1 and h2\n",
    "function closed_form_h1(x1, h1, h2)\n",
    "    # Get convolution operator for h1:\n",
    "    H,_ = Convolution(h1,x1)\n",
    "    # Solve least square\n",
    "    A = H'*H + alpha_data*I_10\n",
    "    op = LinearOperator(A)\n",
    "    b = -H'*y_new - alpha_data*h2\n",
    "    output = cg(op, b, maxiter=1000)\n",
    "    return output\n",
    "end\n",
    "\n",
    "function closed_form_h2(h1, h2)\n",
    "    z = h1\n",
    "    gamma = lambda_data / alpha_data\n",
    "    return closed_form_0norm(z,gamma)\n",
    "end;"
   ]
  },
  {
   "cell_type": "code",
   "execution_count": 368,
   "id": "87dfe4c1",
   "metadata": {},
   "outputs": [],
   "source": [
    "### Variables to be optimized:\n",
    "x1_cf = x1ini_data\n",
    "x2_cf = x2ini_data\n",
    "x3_cf = x3ini_data\n",
    "h1_cf = h1ini_data\n",
    "h2_cf = h2ini_data\n",
    "\n",
    "### Tunnable hyperparameter:\n",
    "# alpha_data += 200.0 #15\n",
    "# lambda_data += 50  #0.1\n",
    "\n",
    "#####################\n",
    "# We now run alternating minization for 500 iterations:\n",
    "iter = 500\n",
    "loss_cf= zeros(iter)\n",
    "\n",
    "# NOTE: Stopping criteria of at most 500 iteration is incooperated in max number of loop variable\n",
    "for i in 1:iter\n",
    "    # Closed form implementation\n",
    "    # Update x in alternating order\n",
    "    x1_cf_new = closed_form_x1(x1_cf,x2_cf,x3_cf,h1_cf)\n",
    "    x1_cf = x1_cf_new\n",
    "    x2_cf_new = closed_form_x2(x1_cf)\n",
    "    x3_cf_new = closed_form_x3(x1_cf)\n",
    "    x2_cf = x2_cf_new\n",
    "    x3_cf = x3_cf_new\n",
    "    # Update h in alternating order\n",
    "    h1_cf_new = closed_form_h1(x1_cf, h1_cf, h2_cf)\n",
    "    h1_cf = h1_cf_new\n",
    "    h2_cf_new = closed_form_h2(h1_cf, h2_cf)\n",
    "    h2_cf = h2_cf_new\n",
    "\n",
    "    # calculate loss for plotting:\n",
    "    H, _ = Convolution(x1_cf, h1_cf)\n",
    "    loss_cf[i] = (1/2)*norm(y_new - H*x1_cf)^2 + \n",
    "                lambda_data*\n",
    "                (norm(x3_cf,0) + norm(h2_cf,0)) +\n",
    "                (alpha_data/2)*\n",
    "                (norm(x2_cf-x1_cf)^2 + norm(x3_cf-D*x1_cf)^2 + norm(h2_cf-h1_cf)^2)\n",
    "                \n",
    "\n",
    "end"
   ]
  },
  {
   "cell_type": "code",
   "execution_count": 371,
   "id": "9304c1e0",
   "metadata": {},
   "outputs": [
    {
     "data": {
      "text/plain": [
       "500-element Vector{Float64}:\n",
       " 9.362601767852674\n",
       " 8.757563310508758\n",
       " 8.488422442040084\n",
       " 8.4789507257354\n",
       " 8.480479208810928\n",
       " 8.482801345540587\n",
       " 8.485185739380736\n",
       " 8.487570925474854\n",
       " 8.489957475310025\n",
       " 8.492349604739465\n",
       " ⋮\n",
       " 8.708326496054381\n",
       " 8.708620448032448\n",
       " 8.708905331932751\n",
       " 8.70918130394702\n",
       " 8.709220531437222\n",
       " 8.611928084530607\n",
       " 8.628814849167531\n",
       " 8.62390169060332\n",
       " 8.622228183381312"
      ]
     },
     "metadata": {},
     "output_type": "display_data"
    }
   ],
   "source": [
    "loss_cf"
   ]
  },
  {
   "cell_type": "code",
   "execution_count": 370,
   "metadata": {},
   "outputs": [],
   "source": [
    "jldopen(\"Thomas Auguste2508302StudentFile.jld2\", \"w\") do file\n",
    "    write(file, \"CourseWork_3\", A)\n",
    " end"
   ]
  }
 ],
 "metadata": {
  "kernelspec": {
   "display_name": "Julia 1.9.3",
   "language": "julia",
   "name": "julia-1.9"
  },
  "language_info": {
   "file_extension": ".jl",
   "mimetype": "application/julia",
   "name": "julia",
   "version": "1.9.3"
  }
 },
 "nbformat": 4,
 "nbformat_minor": 5
}

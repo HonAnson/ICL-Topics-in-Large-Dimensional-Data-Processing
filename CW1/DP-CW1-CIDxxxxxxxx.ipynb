{
 "cells": [
  {
   "cell_type": "markdown",
   "id": "5a6b0940",
   "metadata": {},
   "source": [
    "# Coursework 1 \n",
    "\n",
    "### PLAGIARISM/COLLUSION DECLARATION\n",
    "\n",
    " \n",
    "\n",
    "Coursework submitted for assessment must be the original work of you and your group. Assignments are subjected to regular checks for plagiarism and/or collusion. Plagiarism is the presentation of another person’s thoughts or words (those outside your group) as if they were your own. Collusion involves obtaining help from someone outside your group to complete your work. In preparing your coursework, you should not seek help, or copy from any other person or source, including the\n",
    "\n",
    "Internet, without proper and explicit acknowledgement.\n",
    "\n",
    " \n",
    "\n",
    "There is a procedure in place for you to declare individual contributions within your group for courswork. You must declare the contributions fairly and accurately.\n",
    "\n",
    " \n",
    "\n",
    "You must not disclose your solutions or insights related to coursework with anyone else, including future students or the Internet.\n",
    "\n",
    " \n",
    "\n",
    "By acknowledging the the statements above, you are declaring that both this and all subsequent pieces of coursework are, and will remain, the original work of you and your group.\n",
    "\n",
    " \n",
    "\n",
    "* Submissions will not be accepted without the aforementioned declaration.\n",
    "\n",
    " \n",
    "\n",
    "* Members of a group are deemed to have collective responsibility for the integrity for work submitted and are liable for any penalty imposed, proportionate to their contributions."
   ]
  },
  {
   "cell_type": "code",
   "execution_count": 1,
   "id": "156ebb80",
   "metadata": {},
   "outputs": [],
   "source": [
    "using JLD2,FileIO"
   ]
  },
  {
   "cell_type": "code",
   "execution_count": 2,
   "id": "b570716e",
   "metadata": {},
   "outputs": [
    {
     "data": {
      "text/plain": [
       "CourseWork_1"
      ]
     },
     "metadata": {},
     "output_type": "display_data"
    }
   ],
   "source": [
    "# Run this code before you start doing the coursework\n",
    "\n",
    "Base.@kwdef mutable struct CourseWork_1\n",
    "    CID::Int\n",
    "    Plagiarism_declare::Union{Missing,Bool}\n",
    "    Demo_willing::Union{Missing,Bool}\n",
    "    \n",
    "    # 4.1. Trace and Inner Product of Matrices\n",
    "    \n",
    "    Q4_1_1_data_m::Int\n",
    "    Q4_1_1_data_n::Int\n",
    "    \n",
    "    Q4_1_1_a_ans_rows::Union{Missing,Int}\n",
    "    Q4_1_1_a_ans_columns::Union{Missing,Int}\n",
    "    Q4_1_1_b_ans_rows::Union{Missing,Int}\n",
    "    Q4_1_1_b_ans_columns::Union{Missing,Int}\n",
    "    Q4_1_1_c_ans::Union{Missing,Bool}\n",
    "    \n",
    "    Q4_1_2_ans::Union{Missing,Bool}\n",
    "    \n",
    "    Q4_1_3_data_k::Int\n",
    "    Q4_1_3_data_l::Int\n",
    "    Q4_1_3_data_m::Int\n",
    "    Q4_1_3_data_n::Int\n",
    "\n",
    "    Q4_1_3_a_ans_Urows::Union{Missing,Int}\n",
    "    Q4_1_3_a_ans_Ucolumns::Union{Missing,Int}\n",
    "    Q4_1_3_a_ans_Vrows::Union{Missing,Int}\n",
    "    Q4_1_3_a_ans_Vcolumns::Union{Missing,Int}\n",
    "    Q4_1_3_b_ans::Union{Missing,Bool}\n",
    "    \n",
    "    # 4.2. The Matrix of the Linear Map\n",
    "    \n",
    "    Q4_2_1_ans::Union{Missing,Bool}\n",
    "    \n",
    "    # 4.3. Adjoint Operator\n",
    "    \n",
    "    Q4_3_1_data_n::Int\n",
    "    Q4_3_1_data_Omega::Vector{Int}\n",
    "    Q4_3_1_data_x::Vector\n",
    "   \n",
    "    Q4_3_1_a_ans_Operator::Union{Missing,Matrix}\n",
    "    Q4_3_1_a_ans_AdjointOperator::Union{Missing,Matrix}\n",
    "    Q4_3_1_b_ans_y::Union{Missing,Vector}\n",
    "    Q4_3_1_c_ans_z::Union{Missing,Vector}\n",
    "    \n",
    "    \n",
    "    Q4_3_2_data_p::Int\n",
    "    Q4_3_2_data_q::Int\n",
    "    Q4_3_2_data_x::Vector\n",
    "    \n",
    "    Q4_3_2_a_ans_Operator::Union{Missing,Matrix}\n",
    "    Q4_3_2_a_ans_AdjointOperator::Union{Missing,Matrix}\n",
    "    Q4_3_2_b_ans_H::Union{Missing,Matrix}\n",
    "    Q4_3_2_c_ans_z::Union{Missing,Vector}\n",
    "    Q4_3_2_d_ans::Union{Missing,Vector}\n",
    "    \n",
    "    Q4_3_3_data_h::Vector\n",
    "    Q4_3_3_data_x::Vector\n",
    "    \n",
    "    Q4_3_3_a_ans_Operator::Union{Missing,Matrix}\n",
    "    Q4_3_3_a_ans_AdjointOperator::Union{Missing,Matrix}\n",
    "    Q4_3_3_b_ans_y::Union{Missing,Vector}\n",
    "    Q4_3_3_c_ans_z::Union{Missing,Vector}\n",
    "    \n",
    "    Q4_3_4_data_h::Vector\n",
    "    Q4_3_4_data_x::Vector\n",
    "    \n",
    "    Q4_3_4_a_ans_Operator::Union{Missing,Matrix}\n",
    "    Q4_3_4_a_ans_AdjointOperator::Union{Missing,Matrix}\n",
    "    Q4_3_4_b_ans_y::Union{Missing,Vector}\n",
    "    Q4_3_4_c_ans_z::Union{Missing,Vector}\n",
    "    \n",
    "    Q4_3_5_data_X::Matrix{Float64}\n",
    "    Q4_3_5_data_Omega::Matrix\n",
    "    \n",
    "    Q4_3_5_a_ans_O1::Union{Missing,Matrix}\n",
    "    Q4_3_5_a_ans_O2::Union{Missing,Matrix}\n",
    "    Q4_3_5_a_ans_O3::Union{Missing,Vector}\n",
    "    Q4_3_5_b_ans_O1::Union{Missing,Matrix}\n",
    "    Q4_3_5_b_ans_O2::Union{Missing,Matrix}\n",
    "    Q4_3_5_b_ans_O3::Union{Missing,Matrix}\n",
    "    \n",
    "    # 5.1. The Netflix Problem\n",
    "    \n",
    "    Q5_1_data_y::Vector\n",
    "    Q5_1_data_Omega::Matrix\n",
    "    Q5_1_data_Uini::Matrix{Float64}\n",
    "    \n",
    "    Q5_1_a_ans_V::Union{Missing,Matrix}\n",
    "    Q5_1_b_ans_U::Union{Missing,Matrix}\n",
    "    Q5_1_c_ans_U::Union{Missing,Matrix}\n",
    "    Q5_1_c_ans_V::Union{Missing,Matrix}\n",
    "    \n",
    "    \n",
    "    # 5.2. Estimation Accuracy\n",
    "    \n",
    "    Q5_2_data_A::Matrix{Float64}\n",
    "    \n",
    "    Q5_2_a_ans_w::Union{Missing,Vector}\n",
    "    Q5_2_a_ans_err::Union{Missing,Float64}\n",
    "    Q5_2_b_ans_w::Union{Missing,Vector}\n",
    "    Q5_2_b_ans_err::Union{Missing,Float64}\n",
    "    Q5_2_c_ans_err::Union{Missing,Float64}\n",
    "    \n",
    "    # 5.3. LS Recovery from Convolution\n",
    "    \n",
    "    Q5_3_data_y::Vector\n",
    "    Q5_3_data_h::Vector\n",
    "    Q5_3_data_Omega::Vector\n",
    "    Q5_3_data_n::Int\n",
    "    Q5_3_data_alpha::Float64\n",
    "    Q5_3_data_u::Vector\n",
    "    Q5_3_data_v::Vector\n",
    "    \n",
    "    Q5_3_1_a_ans_A::Union{Missing,Matrix}\n",
    "    Q5_3_1_a_ans_b::Union{Missing,Vector}\n",
    "    Q5_3_1_b_ans_x::Union{Missing,Vector}\n",
    "    Q5_3_2_a_ans_uAv::Union{Missing,Float64}\n",
    "    Q5_3_2_a_ans_bu::Union{Missing,Float64}\n",
    "    Q5_3_2_b_ans_x::Union{Missing,Vector}\n",
    "    \n",
    "    # 5.4. LS Recovery for MRI\n",
    "    \n",
    "    Q5_4_data_X::Matrix\n",
    "    Q5_4_data_Omega::Matrix\n",
    "    Q5_4_data_alpha::Float64\n",
    "    Q5_4_data_u::Vector{Float64}\n",
    "    Q5_4_data_v::Vector{Float64}\n",
    "    Q5_4_data_z::Vector{Float64}\n",
    "    \n",
    "    Q5_4_1_a_ans_y::Union{Missing,Vector}\n",
    "    Q5_4_1_b_ans_uAv::Union{Missing,Float64}\n",
    "    Q5_4_1_b_ans_bz::Union{Missing,Float64}\n",
    "    Q5_4_1_c_ans_X_hat::Union{Missing,Matrix}\n",
    "end"
   ]
  },
  {
   "cell_type": "code",
   "execution_count": 3,
   "id": "30132ba3",
   "metadata": {},
   "outputs": [],
   "source": [
    "# Download and upload data from JLD file, refer to https://juliaio.github.io/JLD2.jl/dev/\n",
    "\n",
    " \n",
    "\n",
    "# Example\n",
    "\n",
    "A = JLD2.load(\"old_Chin Young Anson, Hon1260366StudentFile.jld2\");\n",
    "\n",
    "A = A[ \"CourseWork_1\" ];\n",
    "\n",
    "A.Demo_willing = true;\n",
    "\n",
    " \n",
    "\n",
    "jldopen(\"old_Chin Young Anson, Hon1260366StudentFile.jld2\", \"w\") do file\n",
    "\n",
    "   write(file, \"CourseWork_1\", A)\n",
    "\n",
    "end"
   ]
  },
  {
   "cell_type": "markdown",
   "id": "6861a416",
   "metadata": {},
   "source": [
    "## 4.1. Trace and Inner Product of Matrices\n"
   ]
  },
  {
   "cell_type": "markdown",
   "id": "90b22aba",
   "metadata": {},
   "source": [
    "### 1. (a)"
   ]
  },
  {
   "cell_type": "code",
   "execution_count": 4,
   "id": "ee609657",
   "metadata": {},
   "outputs": [
    {
     "data": {
      "text/plain": [
       "63"
      ]
     },
     "metadata": {},
     "output_type": "display_data"
    }
   ],
   "source": [
    "# save your answers in Q4_1_1_a_ans_rows, Q4_1_1_a_ans_columns\n"
   ]
  },
  {
   "cell_type": "markdown",
   "id": "d2cfd18e",
   "metadata": {},
   "source": [
    "### 1. (b)"
   ]
  },
  {
   "cell_type": "code",
   "execution_count": null,
   "id": "fa8a298f",
   "metadata": {},
   "outputs": [],
   "source": [
    "# save your answers in Q4_1_1_b_ans_rows, Q4_1_1_b_ans_columns\n"
   ]
  },
  {
   "cell_type": "markdown",
   "id": "f2c0b5e8",
   "metadata": {},
   "source": [
    "### 1. (c)"
   ]
  },
  {
   "cell_type": "code",
   "execution_count": 1,
   "id": "9674d13e",
   "metadata": {},
   "outputs": [],
   "source": [
    "# save your answers in Q4_1_1_c_ans"
   ]
  },
  {
   "cell_type": "markdown",
   "id": "15f832d1",
   "metadata": {},
   "source": [
    "### 2"
   ]
  },
  {
   "cell_type": "code",
   "execution_count": null,
   "id": "9b0ae4b2",
   "metadata": {},
   "outputs": [],
   "source": []
  },
  {
   "cell_type": "markdown",
   "id": "7ab1d727",
   "metadata": {},
   "source": [
    "### 3. (a)"
   ]
  },
  {
   "cell_type": "code",
   "execution_count": null,
   "id": "8b0f509c",
   "metadata": {},
   "outputs": [],
   "source": []
  },
  {
   "cell_type": "markdown",
   "id": "4475109f",
   "metadata": {},
   "source": [
    "### 3. (b)"
   ]
  },
  {
   "cell_type": "code",
   "execution_count": null,
   "id": "79d8f15d",
   "metadata": {},
   "outputs": [],
   "source": []
  },
  {
   "cell_type": "markdown",
   "id": "f9703592",
   "metadata": {},
   "source": [
    "## 4.2. The Matrix of the Linear Map\n"
   ]
  },
  {
   "cell_type": "markdown",
   "id": "43d0f33d",
   "metadata": {},
   "source": [
    "### 1"
   ]
  },
  {
   "cell_type": "code",
   "execution_count": null,
   "id": "a9565057",
   "metadata": {},
   "outputs": [],
   "source": []
  },
  {
   "cell_type": "markdown",
   "id": "698b1662",
   "metadata": {},
   "source": [
    "## 4.3. Adjoint Operator"
   ]
  },
  {
   "cell_type": "markdown",
   "id": "012bab3a",
   "metadata": {},
   "source": [
    "### 1.(a)"
   ]
  },
  {
   "cell_type": "code",
   "execution_count": null,
   "id": "845431af",
   "metadata": {},
   "outputs": [],
   "source": [
    "function \n",
    "    \n",
    "     \n",
    "end"
   ]
  },
  {
   "cell_type": "markdown",
   "id": "03226854",
   "metadata": {},
   "source": [
    "### 1.(b)"
   ]
  },
  {
   "cell_type": "code",
   "execution_count": null,
   "id": "fe66926f",
   "metadata": {},
   "outputs": [],
   "source": [
    "function \n",
    "    \n",
    "    \n",
    "end"
   ]
  },
  {
   "cell_type": "markdown",
   "id": "81d8188c",
   "metadata": {},
   "source": [
    "### 1.(c)"
   ]
  },
  {
   "cell_type": "code",
   "execution_count": null,
   "id": "65eac935",
   "metadata": {},
   "outputs": [],
   "source": [
    "function \n",
    "    \n",
    "    \n",
    "end"
   ]
  },
  {
   "cell_type": "markdown",
   "id": "7b10eb50",
   "metadata": {},
   "source": [
    "### 2.(a)"
   ]
  },
  {
   "cell_type": "code",
   "execution_count": null,
   "id": "048b8657",
   "metadata": {},
   "outputs": [],
   "source": [
    "function \n",
    "    \n",
    "    \n",
    "end"
   ]
  },
  {
   "cell_type": "markdown",
   "id": "ffef7d0e",
   "metadata": {},
   "source": [
    "### 2.(b)"
   ]
  },
  {
   "cell_type": "code",
   "execution_count": null,
   "id": "dcf31960",
   "metadata": {},
   "outputs": [],
   "source": [
    "function \n",
    "    \n",
    "    \n",
    "end"
   ]
  },
  {
   "cell_type": "markdown",
   "id": "4974e0f5",
   "metadata": {},
   "source": [
    "### 2.(c)"
   ]
  },
  {
   "cell_type": "code",
   "execution_count": null,
   "id": "ece750ae",
   "metadata": {},
   "outputs": [],
   "source": [
    "function \n",
    "    \n",
    "    \n",
    "end"
   ]
  },
  {
   "cell_type": "markdown",
   "id": "28a8c4a0",
   "metadata": {},
   "source": [
    "### 2.(d)"
   ]
  },
  {
   "cell_type": "code",
   "execution_count": null,
   "id": "89bfa2f7",
   "metadata": {},
   "outputs": [],
   "source": []
  },
  {
   "cell_type": "markdown",
   "id": "ce64ecc7",
   "metadata": {},
   "source": [
    "### 3.(a)"
   ]
  },
  {
   "cell_type": "code",
   "execution_count": null,
   "id": "141b4d9c",
   "metadata": {},
   "outputs": [],
   "source": [
    "function \n",
    "    \n",
    "    \n",
    "end"
   ]
  },
  {
   "cell_type": "markdown",
   "id": "103a86aa",
   "metadata": {},
   "source": [
    "### 3.(b)"
   ]
  },
  {
   "cell_type": "code",
   "execution_count": null,
   "id": "e3304cfb",
   "metadata": {},
   "outputs": [],
   "source": [
    "function \n",
    "    \n",
    "    \n",
    "end"
   ]
  },
  {
   "cell_type": "markdown",
   "id": "ec4ead04",
   "metadata": {},
   "source": [
    "### 3.(c)"
   ]
  },
  {
   "cell_type": "code",
   "execution_count": null,
   "id": "73bfa4ff",
   "metadata": {},
   "outputs": [],
   "source": [
    "function \n",
    "    \n",
    "    \n",
    "end"
   ]
  },
  {
   "cell_type": "markdown",
   "id": "abaf2c78",
   "metadata": {},
   "source": [
    "### 4.(a)"
   ]
  },
  {
   "cell_type": "code",
   "execution_count": null,
   "id": "fa045fa7",
   "metadata": {},
   "outputs": [],
   "source": [
    "function \n",
    "    \n",
    "    \n",
    "end"
   ]
  },
  {
   "cell_type": "markdown",
   "id": "2fcd436b",
   "metadata": {},
   "source": [
    "### 4.(b)"
   ]
  },
  {
   "cell_type": "code",
   "execution_count": null,
   "id": "0a3a4a42",
   "metadata": {},
   "outputs": [],
   "source": [
    "function \n",
    "    \n",
    "    \n",
    "end"
   ]
  },
  {
   "cell_type": "markdown",
   "id": "e098a3a8",
   "metadata": {},
   "source": [
    "### 4.(c)"
   ]
  },
  {
   "cell_type": "code",
   "execution_count": null,
   "id": "d03e51e3",
   "metadata": {},
   "outputs": [],
   "source": [
    "function \n",
    "    \n",
    "    \n",
    "end"
   ]
  },
  {
   "cell_type": "markdown",
   "id": "7d003fd1",
   "metadata": {},
   "source": [
    "### 5.(a)"
   ]
  },
  {
   "cell_type": "code",
   "execution_count": null,
   "id": "2eda581b",
   "metadata": {},
   "outputs": [],
   "source": [
    "function \n",
    "    \n",
    "    \n",
    "end"
   ]
  },
  {
   "cell_type": "markdown",
   "id": "f24d4b75",
   "metadata": {},
   "source": [
    "### 5.(b)"
   ]
  },
  {
   "cell_type": "code",
   "execution_count": null,
   "id": "373798ec",
   "metadata": {},
   "outputs": [],
   "source": [
    "function \n",
    "    \n",
    "    \n",
    "end"
   ]
  },
  {
   "cell_type": "markdown",
   "id": "492be364",
   "metadata": {},
   "source": [
    "## 5.1. The Netflix Problem"
   ]
  },
  {
   "cell_type": "markdown",
   "id": "c33fdbea",
   "metadata": {},
   "source": [
    "### 1.(a)"
   ]
  },
  {
   "cell_type": "code",
   "execution_count": null,
   "id": "429f57cd",
   "metadata": {},
   "outputs": [],
   "source": [
    "function \n",
    "    \n",
    "     \n",
    "end"
   ]
  },
  {
   "cell_type": "markdown",
   "id": "a40dfed0",
   "metadata": {},
   "source": [
    "### 1.(b)"
   ]
  },
  {
   "cell_type": "code",
   "execution_count": null,
   "id": "852fa07b",
   "metadata": {},
   "outputs": [],
   "source": [
    "function \n",
    "    \n",
    "     \n",
    "end"
   ]
  },
  {
   "cell_type": "markdown",
   "id": "b4acd99e",
   "metadata": {},
   "source": [
    "### 1.(c)"
   ]
  },
  {
   "cell_type": "code",
   "execution_count": null,
   "id": "a6110d6d",
   "metadata": {},
   "outputs": [],
   "source": [
    "function \n",
    "    \n",
    "     \n",
    "end"
   ]
  },
  {
   "cell_type": "markdown",
   "id": "17c72a40",
   "metadata": {},
   "source": [
    "## 5.2. Estimation Accuracy"
   ]
  },
  {
   "cell_type": "markdown",
   "id": "452bb2ae",
   "metadata": {},
   "source": [
    "### 1.(a)"
   ]
  },
  {
   "cell_type": "code",
   "execution_count": null,
   "id": "04490d9a",
   "metadata": {},
   "outputs": [],
   "source": []
  },
  {
   "cell_type": "markdown",
   "id": "d7825a65",
   "metadata": {},
   "source": [
    "### 1.(c)"
   ]
  },
  {
   "cell_type": "code",
   "execution_count": null,
   "id": "1cfd159e",
   "metadata": {},
   "outputs": [],
   "source": []
  },
  {
   "cell_type": "markdown",
   "id": "55d7cb6c",
   "metadata": {},
   "source": [
    "### 1.(b)"
   ]
  },
  {
   "cell_type": "code",
   "execution_count": null,
   "id": "2aa3918e",
   "metadata": {},
   "outputs": [],
   "source": []
  },
  {
   "cell_type": "markdown",
   "id": "ba47ad79",
   "metadata": {},
   "source": [
    "## 5.3. LS Recovery from Convolution"
   ]
  },
  {
   "cell_type": "markdown",
   "id": "78fbc144",
   "metadata": {},
   "source": [
    "### 1.(a)"
   ]
  },
  {
   "cell_type": "code",
   "execution_count": null,
   "id": "0273cacb",
   "metadata": {},
   "outputs": [],
   "source": [
    "function \n",
    "    \n",
    "     \n",
    "end"
   ]
  },
  {
   "cell_type": "markdown",
   "id": "64365f71",
   "metadata": {},
   "source": [
    "### 1.(b)"
   ]
  },
  {
   "cell_type": "code",
   "execution_count": null,
   "id": "20477c47",
   "metadata": {},
   "outputs": [],
   "source": []
  },
  {
   "cell_type": "markdown",
   "id": "4ef04fd2",
   "metadata": {},
   "source": [
    "### 2.(a)"
   ]
  },
  {
   "cell_type": "code",
   "execution_count": null,
   "id": "e6c9ffae",
   "metadata": {},
   "outputs": [],
   "source": [
    "function \n",
    "    \n",
    "     \n",
    "end"
   ]
  },
  {
   "cell_type": "markdown",
   "id": "9068c40f",
   "metadata": {},
   "source": [
    "### 2.(b)"
   ]
  },
  {
   "cell_type": "code",
   "execution_count": null,
   "id": "398adbdc",
   "metadata": {},
   "outputs": [],
   "source": []
  },
  {
   "cell_type": "markdown",
   "id": "88d01763",
   "metadata": {},
   "source": [
    "## 5.4. LS Recovery for MRI"
   ]
  },
  {
   "cell_type": "markdown",
   "id": "3956e602",
   "metadata": {},
   "source": [
    "### 1.(a)"
   ]
  },
  {
   "cell_type": "code",
   "execution_count": null,
   "id": "c7a8699d",
   "metadata": {},
   "outputs": [],
   "source": [
    "function \n",
    "    \n",
    "     \n",
    "end"
   ]
  },
  {
   "cell_type": "markdown",
   "id": "753b6f32",
   "metadata": {},
   "source": [
    "### 1.(b)"
   ]
  },
  {
   "cell_type": "code",
   "execution_count": null,
   "id": "7f5c5b99",
   "metadata": {},
   "outputs": [],
   "source": []
  }
 ],
 "metadata": {
  "kernelspec": {
   "display_name": "Julia 1.9.3",
   "language": "julia",
   "name": "julia-1.9"
  },
  "language_info": {
   "file_extension": ".jl",
   "mimetype": "application/julia",
   "name": "julia",
   "version": "1.9.3"
  }
 },
 "nbformat": 4,
 "nbformat_minor": 5
}

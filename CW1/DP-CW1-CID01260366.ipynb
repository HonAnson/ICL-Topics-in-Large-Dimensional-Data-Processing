{
 "cells": [
  {
   "cell_type": "markdown",
   "id": "5a6b0940",
   "metadata": {},
   "source": [
    "# Coursework 1 \n",
    "\n",
    "### PLAGIARISM/COLLUSION DECLARATION\n",
    "\n",
    " \n",
    "\n",
    "Coursework submitted for assessment must be the original work of you and your group. Assignments are subjected to regular checks for plagiarism and/or collusion. Plagiarism is the presentation of another person’s thoughts or words (those outside your group) as if they were your own. Collusion involves obtaining help from someone outside your group to complete your work. In preparing your coursework, you should not seek help, or copy from any other person or source, including the\n",
    "\n",
    "Internet, without proper and explicit acknowledgement.\n",
    "\n",
    " \n",
    "\n",
    "There is a procedure in place for you to declare individual contributions within your group for courswork. You must declare the contributions fairly and accurately.\n",
    "\n",
    " \n",
    "\n",
    "You must not disclose your solutions or insights related to coursework with anyone else, including future students or the Internet.\n",
    "\n",
    " \n",
    "\n",
    "By acknowledging the the statements above, you are declaring that both this and all subsequent pieces of coursework are, and will remain, the original work of you and your group.\n",
    "\n",
    " \n",
    "\n",
    "* Submissions will not be accepted without the aforementioned declaration.\n",
    "\n",
    " \n",
    "\n",
    "* Members of a group are deemed to have collective responsibility for the integrity for work submitted and are liable for any penalty imposed, proportionate to their contributions."
   ]
  },
  {
   "cell_type": "code",
   "execution_count": 1,
   "id": "156ebb80",
   "metadata": {},
   "outputs": [
    {
     "name": "stderr",
     "output_type": "stream",
     "text": [
      "\u001b[32m\u001b[1m   Resolving\u001b[22m\u001b[39m package versions...\n"
     ]
    },
    {
     "name": "stderr",
     "output_type": "stream",
     "text": [
      "\u001b[32m\u001b[1m  No Changes\u001b[22m\u001b[39m to `C:\\Users\\honan\\.julia\\environments\\v1.9\\Project.toml`\n",
      "\u001b[32m\u001b[1m  No Changes\u001b[22m\u001b[39m to `C:\\Users\\honan\\.julia\\environments\\v1.9\\Manifest.toml`\n"
     ]
    },
    {
     "name": "stderr",
     "output_type": "stream",
     "text": [
      "\u001b[32m\u001b[1m   Resolving\u001b[22m\u001b[39m package versions...\n",
      "\u001b[32m\u001b[1m  No Changes\u001b[22m\u001b[39m to `C:\\Users\\honan\\.julia\\environments\\v1.9\\Project.toml`\n",
      "\u001b[32m\u001b[1m  No Changes\u001b[22m\u001b[39m to `C:\\Users\\honan\\.julia\\environments\\v1.9\\Manifest.toml`\n"
     ]
    },
    {
     "name": "stderr",
     "output_type": "stream",
     "text": [
      "\u001b[32m\u001b[1m   Resolving\u001b[22m\u001b[39m package versions...\n"
     ]
    },
    {
     "name": "stderr",
     "output_type": "stream",
     "text": [
      "\u001b[32m\u001b[1m  No Changes\u001b[22m\u001b[39m to `C:\\Users\\honan\\.julia\\environments\\v1.9\\Project.toml`\n",
      "\u001b[32m\u001b[1m  No Changes\u001b[22m\u001b[39m to `C:\\Users\\honan\\.julia\\environments\\v1.9\\Manifest.toml`\n"
     ]
    },
    {
     "name": "stderr",
     "output_type": "stream",
     "text": [
      "\u001b[32m\u001b[1m   Resolving\u001b[22m\u001b[39m package versions...\n"
     ]
    },
    {
     "name": "stderr",
     "output_type": "stream",
     "text": [
      "\u001b[32m\u001b[1m  No Changes\u001b[22m\u001b[39m to `C:\\Users\\honan\\.julia\\environments\\v1.9\\Project.toml`\n",
      "\u001b[32m\u001b[1m  No Changes\u001b[22m\u001b[39m to `C:\\Users\\honan\\.julia\\environments\\v1.9\\Manifest.toml`"
     ]
    },
    {
     "name": "stderr",
     "output_type": "stream",
     "text": [
      "\n"
     ]
    },
    {
     "name": "stderr",
     "output_type": "stream",
     "text": [
      "\u001b[32m\u001b[1m   Resolving\u001b[22m\u001b[39m package versions...\n"
     ]
    },
    {
     "name": "stderr",
     "output_type": "stream",
     "text": [
      "\u001b[32m\u001b[1m  No Changes\u001b[22m\u001b[39m to `C:\\Users\\honan\\.julia\\environments\\v1.9\\Project.toml`\n",
      "\u001b[32m\u001b[1m  No Changes\u001b[22m\u001b[39m to `C:\\Users\\honan\\.julia\\environments\\v1.9\\Manifest.toml`\n"
     ]
    }
   ],
   "source": [
    "import Pkg\n",
    "Pkg.add(\"DSP\")\n",
    "Pkg.add(\"FFTW\")\n",
    "Pkg.add(\"LinearOperators\")\n",
    "Pkg.add(\"IterativeSolvers\")\n",
    "Pkg.add(\"LinearMaps\")\n",
    "\n",
    "using JLD2,FileIO\n",
    "using LinearAlgebra\n",
    "using LinearMaps\n",
    "using LinearOperators\n",
    "using IterativeSolvers\n"
   ]
  },
  {
   "cell_type": "code",
   "execution_count": 2,
   "id": "b570716e",
   "metadata": {},
   "outputs": [
    {
     "data": {
      "text/plain": [
       "CourseWork_1"
      ]
     },
     "metadata": {},
     "output_type": "display_data"
    }
   ],
   "source": [
    "# Run this code before you start doing the coursework\n",
    "\n",
    "Base.@kwdef mutable struct CourseWork_1\n",
    "    CID::Int\n",
    "    Plagiarism_declare::Union{Missing,Bool}\n",
    "    Demo_willing::Union{Missing,Bool}\n",
    "    \n",
    "    # 4.1. Trace and Inner Product of Matrices\n",
    "    \n",
    "    Q4_1_1_data_m::Int\n",
    "    Q4_1_1_data_n::Int\n",
    "    \n",
    "    Q4_1_1_a_ans_rows::Union{Missing,Int}\n",
    "    Q4_1_1_a_ans_columns::Union{Missing,Int}\n",
    "    Q4_1_1_b_ans_rows::Union{Missing,Int}\n",
    "    Q4_1_1_b_ans_columns::Union{Missing,Int}\n",
    "    Q4_1_1_c_ans::Union{Missing,Bool}\n",
    "    \n",
    "    Q4_1_2_ans::Union{Missing,Bool}\n",
    "    \n",
    "    Q4_1_3_data_k::Int\n",
    "    Q4_1_3_data_l::Int\n",
    "    Q4_1_3_data_m::Int\n",
    "    Q4_1_3_data_n::Int\n",
    "\n",
    "    Q4_1_3_a_ans_Urows::Union{Missing,Int}\n",
    "    Q4_1_3_a_ans_Ucolumns::Union{Missing,Int}\n",
    "    Q4_1_3_a_ans_Vrows::Union{Missing,Int}\n",
    "    Q4_1_3_a_ans_Vcolumns::Union{Missing,Int}\n",
    "    Q4_1_3_b_ans::Union{Missing,Bool}\n",
    "    \n",
    "    # 4.2. The Matrix of the Linear Map\n",
    "    \n",
    "    Q4_2_1_ans::Union{Missing,Bool}\n",
    "    \n",
    "    # 4.3. Adjoint Operator\n",
    "    \n",
    "    Q4_3_1_data_n::Int\n",
    "    Q4_3_1_data_Omega::Vector{Int}\n",
    "    Q4_3_1_data_x::Vector\n",
    "   \n",
    "    Q4_3_1_a_ans_Operator::Union{Missing,Matrix}\n",
    "    Q4_3_1_a_ans_AdjointOperator::Union{Missing,Matrix}\n",
    "    Q4_3_1_b_ans_y::Union{Missing,Vector}\n",
    "    Q4_3_1_c_ans_z::Union{Missing,Vector}\n",
    "    \n",
    "    \n",
    "    Q4_3_2_data_p::Int\n",
    "    Q4_3_2_data_q::Int\n",
    "    Q4_3_2_data_x::Vector\n",
    "    \n",
    "    Q4_3_2_a_ans_Operator::Union{Missing,Matrix}\n",
    "    Q4_3_2_a_ans_AdjointOperator::Union{Missing,Matrix}\n",
    "    Q4_3_2_b_ans_H::Union{Missing,Matrix}\n",
    "    Q4_3_2_c_ans_z::Union{Missing,Vector}\n",
    "    Q4_3_2_d_ans::Union{Missing,Vector}\n",
    "    \n",
    "    Q4_3_3_data_h::Vector\n",
    "    Q4_3_3_data_x::Vector\n",
    "    \n",
    "    Q4_3_3_a_ans_Operator::Union{Missing,Matrix}\n",
    "    Q4_3_3_a_ans_AdjointOperator::Union{Missing,Matrix}\n",
    "    Q4_3_3_b_ans_y::Union{Missing,Vector}\n",
    "    Q4_3_3_c_ans_z::Union{Missing,Vector}\n",
    "    \n",
    "    Q4_3_4_data_h::Vector\n",
    "    Q4_3_4_data_x::Vector\n",
    "    \n",
    "    Q4_3_4_a_ans_Operator::Union{Missing,Matrix}\n",
    "    Q4_3_4_a_ans_AdjointOperator::Union{Missing,Matrix}\n",
    "    Q4_3_4_b_ans_y::Union{Missing,Vector}\n",
    "    Q4_3_4_c_ans_z::Union{Missing,Vector}\n",
    "    \n",
    "    Q4_3_5_data_X::Matrix{Float64}\n",
    "    Q4_3_5_data_Omega::Matrix\n",
    "    \n",
    "    Q4_3_5_a_ans_O1::Union{Missing,Matrix}\n",
    "    Q4_3_5_a_ans_O2::Union{Missing,Matrix}\n",
    "    Q4_3_5_a_ans_O3::Union{Missing,Vector}\n",
    "    Q4_3_5_b_ans_O1::Union{Missing,Matrix}\n",
    "    Q4_3_5_b_ans_O2::Union{Missing,Matrix}\n",
    "    Q4_3_5_b_ans_O3::Union{Missing,Matrix}\n",
    "    \n",
    "    # 5.1. The Netflix Problem\n",
    "    \n",
    "    Q5_1_data_y::Vector\n",
    "    Q5_1_data_Omega::Matrix\n",
    "    Q5_1_data_Uini::Matrix{Float64}\n",
    "    \n",
    "    Q5_1_a_ans_V::Union{Missing,Matrix}\n",
    "    Q5_1_b_ans_U::Union{Missing,Matrix}\n",
    "    Q5_1_c_ans_U::Union{Missing,Matrix}\n",
    "    Q5_1_c_ans_V::Union{Missing,Matrix}\n",
    "    \n",
    "    \n",
    "    # 5.2. Estimation Accuracy\n",
    "    \n",
    "    Q5_2_data_A::Matrix{Float64}\n",
    "    \n",
    "    Q5_2_a_ans_w::Union{Missing,Vector}\n",
    "    Q5_2_a_ans_err::Union{Missing,Float64}\n",
    "    Q5_2_b_ans_w::Union{Missing,Vector}\n",
    "    Q5_2_b_ans_err::Union{Missing,Float64}\n",
    "    Q5_2_c_ans_err::Union{Missing,Float64}\n",
    "    \n",
    "    # 5.3. LS Recovery from Convolution\n",
    "    \n",
    "    Q5_3_data_y::Vector\n",
    "    Q5_3_data_h::Vector\n",
    "    Q5_3_data_Omega::Vector\n",
    "    Q5_3_data_n::Int\n",
    "    Q5_3_data_alpha::Float64\n",
    "    Q5_3_data_u::Vector\n",
    "    Q5_3_data_v::Vector\n",
    "    \n",
    "    Q5_3_1_a_ans_A::Union{Missing,Matrix}\n",
    "    Q5_3_1_a_ans_b::Union{Missing,Vector}\n",
    "    Q5_3_1_b_ans_x::Union{Missing,Vector}\n",
    "    Q5_3_2_a_ans_uAv::Union{Missing,Float64}\n",
    "    Q5_3_2_a_ans_bu::Union{Missing,Float64}\n",
    "    Q5_3_2_b_ans_x::Union{Missing,Vector}\n",
    "    \n",
    "    # 5.4. LS Recovery for MRI\n",
    "    \n",
    "    Q5_4_data_X::Matrix\n",
    "    Q5_4_data_Omega::Matrix\n",
    "    Q5_4_data_alpha::Float64\n",
    "    Q5_4_data_u::Vector{Float64}\n",
    "    Q5_4_data_v::Vector{Float64}\n",
    "    Q5_4_data_z::Vector{Float64}\n",
    "    \n",
    "    Q5_4_1_a_ans_y::Union{Missing,Vector}\n",
    "    Q5_4_1_b_ans_uAv::Union{Missing,ComplexF64}\n",
    "    Q5_4_1_b_ans_bz::Union{Missing,ComplexF64}\n",
    "    Q5_4_1_c_ans_X_hat::Union{Missing,Matrix}\n",
    "end"
   ]
  },
  {
   "cell_type": "code",
   "execution_count": 3,
   "id": "30132ba3",
   "metadata": {},
   "outputs": [],
   "source": [
    "# Download and upload data from JLD file, refer to https://juliaio.github.io/JLD2.jl/dev/\n",
    "\n",
    "\n",
    "# Example\n",
    "\n",
    "A = JLD2.load(\"Chin Young Anson, Hon1260366StudentFile.jld2\");\n",
    "\n",
    "A = A[ \"CourseWork_1\" ];\n",
    "\n",
    "A.Demo_willing = true;\n",
    "\n",
    " \n",
    "jldopen(\"Chin Young Anson, Hon1260366StudentFile.jld2\", \"w\") do file\n",
    "\n",
    "   write(file, \"CourseWork_1\", A)\n",
    "\n",
    "end"
   ]
  },
  {
   "cell_type": "code",
   "execution_count": 4,
   "id": "96e81064",
   "metadata": {},
   "outputs": [
    {
     "name": "stdout",
     "output_type": "stream",
     "text": [
      "missing"
     ]
    }
   ],
   "source": [
    "\n",
    "show(A.Q5_2_a_ans_w)"
   ]
  },
  {
   "cell_type": "markdown",
   "id": "6861a416",
   "metadata": {},
   "source": [
    "## 4.1. Trace and Inner Product of Matrices\n"
   ]
  },
  {
   "cell_type": "markdown",
   "id": "90b22aba",
   "metadata": {},
   "source": [
    "### 1. (a)"
   ]
  },
  {
   "cell_type": "code",
   "execution_count": 5,
   "id": "ee609657",
   "metadata": {},
   "outputs": [
    {
     "data": {
      "text/plain": [
       "22"
      ]
     },
     "metadata": {},
     "output_type": "display_data"
    }
   ],
   "source": [
    "# save your answers in Q4_1_1_a_ans_rows, Q4_1_1_a_ans_columns\n",
    "A.Q4_1_1_a_ans_rows = A.Q4_1_1_data_m\n",
    "A.Q4_1_1_a_ans_columns = A.Q4_1_1_data_m"
   ]
  },
  {
   "cell_type": "markdown",
   "id": "d2cfd18e",
   "metadata": {},
   "source": [
    "### 1. (b)"
   ]
  },
  {
   "cell_type": "code",
   "execution_count": 6,
   "id": "fa8a298f",
   "metadata": {},
   "outputs": [
    {
     "data": {
      "text/plain": [
       "96"
      ]
     },
     "metadata": {},
     "output_type": "display_data"
    }
   ],
   "source": [
    "# save your answers in Q4_1_1_b_ans_rows, Q4_1_1_b_ans_columns\n",
    "A.Q4_1_1_b_ans_rows = A.Q4_1_1_data_n\n",
    "A.Q4_1_1_b_ans_columns = A.Q4_1_1_data_n"
   ]
  },
  {
   "cell_type": "code",
   "execution_count": 7,
   "id": "d9e04963",
   "metadata": {},
   "outputs": [
    {
     "data": {
      "text/plain": [
       "96"
      ]
     },
     "metadata": {},
     "output_type": "display_data"
    }
   ],
   "source": [
    "A.Q4_1_1_b_ans_columns"
   ]
  },
  {
   "cell_type": "markdown",
   "id": "f2c0b5e8",
   "metadata": {},
   "source": [
    "### 1. (c)"
   ]
  },
  {
   "cell_type": "code",
   "execution_count": 8,
   "id": "9674d13e",
   "metadata": {},
   "outputs": [
    {
     "data": {
      "text/plain": [
       "true"
      ]
     },
     "metadata": {},
     "output_type": "display_data"
    }
   ],
   "source": [
    "# save your answers in Q4_1_1_c_ans\n",
    "A.Q4_1_1_c_ans = true"
   ]
  },
  {
   "cell_type": "markdown",
   "id": "15f832d1",
   "metadata": {},
   "source": [
    "### 2"
   ]
  },
  {
   "cell_type": "code",
   "execution_count": 9,
   "id": "9b0ae4b2",
   "metadata": {},
   "outputs": [
    {
     "data": {
      "text/plain": [
       "true"
      ]
     },
     "metadata": {},
     "output_type": "display_data"
    }
   ],
   "source": [
    "A.Q4_1_2_ans = true"
   ]
  },
  {
   "cell_type": "markdown",
   "id": "7ab1d727",
   "metadata": {},
   "source": [
    "### 3. (a)"
   ]
  },
  {
   "cell_type": "code",
   "execution_count": 10,
   "id": "8b0f509c",
   "metadata": {},
   "outputs": [
    {
     "data": {
      "text/plain": [
       "69"
      ]
     },
     "metadata": {},
     "output_type": "display_data"
    }
   ],
   "source": [
    "A.Q4_1_3_a_ans_Urows = A.Q4_1_3_data_m\n",
    "A.Q4_1_3_a_ans_Ucolumns = A.Q4_1_3_data_k\n",
    "A.Q4_1_3_a_ans_Vrows = A.Q4_1_3_data_n\n",
    "A.Q4_1_3_a_ans_Vcolumns = A.Q4_1_3_data_l"
   ]
  },
  {
   "cell_type": "code",
   "execution_count": 11,
   "id": "acfb6037",
   "metadata": {},
   "outputs": [
    {
     "name": "stdout",
     "output_type": "stream",
     "text": [
      "Q4_1_3_data_k = 72\n",
      "Q4_1_3_data_l = 69\n",
      "Q4_1_3_data_m = 73\n",
      "Q4_1_3_data_n = 34\n"
     ]
    }
   ],
   "source": [
    "print(\"Q4_1_3_data_k = \" , A.Q4_1_3_data_k, \"\\n\")\n",
    "print(\"Q4_1_3_data_l = \" , A.Q4_1_3_data_l, \"\\n\")\n",
    "print(\"Q4_1_3_data_m = \" , A.Q4_1_3_data_m, \"\\n\")\n",
    "print(\"Q4_1_3_data_n = \" , A.Q4_1_3_data_n, \"\\n\")"
   ]
  },
  {
   "cell_type": "markdown",
   "id": "4475109f",
   "metadata": {},
   "source": [
    "### 3. (b)"
   ]
  },
  {
   "cell_type": "code",
   "execution_count": 12,
   "id": "79d8f15d",
   "metadata": {},
   "outputs": [
    {
     "data": {
      "text/plain": [
       "true"
      ]
     },
     "metadata": {},
     "output_type": "display_data"
    }
   ],
   "source": [
    "A.Q4_1_3_b_ans = true"
   ]
  },
  {
   "cell_type": "markdown",
   "id": "f9703592",
   "metadata": {},
   "source": [
    "## 4.2. The Matrix of the Linear Map\n"
   ]
  },
  {
   "cell_type": "markdown",
   "id": "43d0f33d",
   "metadata": {},
   "source": [
    "### 1"
   ]
  },
  {
   "cell_type": "code",
   "execution_count": 13,
   "id": "a9565057",
   "metadata": {},
   "outputs": [
    {
     "data": {
      "text/plain": [
       "true"
      ]
     },
     "metadata": {},
     "output_type": "display_data"
    }
   ],
   "source": [
    "A.Q4_2_1_ans = true"
   ]
  },
  {
   "cell_type": "markdown",
   "id": "698b1662",
   "metadata": {},
   "source": [
    "## 4.3. Adjoint Operator"
   ]
  },
  {
   "cell_type": "markdown",
   "id": "012bab3a",
   "metadata": {},
   "source": [
    "### 1.(a)"
   ]
  },
  {
   "cell_type": "code",
   "execution_count": 14,
   "id": "845431af",
   "metadata": {},
   "outputs": [
    {
     "data": {
      "text/plain": [
       "([0.0 0.0 … 0.0 0.0; 0.0 0.0 … 0.0 0.0; … ; 0.0 0.0 … 0.0 0.0; 0.0 0.0 … 1.0 0.0], [0.0 0.0 … 0.0 0.0; 0.0 0.0 … 0.0 0.0; … ; 0.0 0.0 … 0.0 1.0; 0.0 0.0 … 0.0 0.0])"
      ]
     },
     "metadata": {},
     "output_type": "display_data"
    }
   ],
   "source": [
    "function SubSampl_Op(n,Omega)\n",
    "    #build an m = Omega.length * n matrix, call it M, which is the linear map\n",
    "    m = zeros(length(Omega),n)\n",
    "    #fill in ones in matrix, where M[i,Omega[i]] = 1\n",
    "    for i in 1:length(Omega)\n",
    "        m[i,Omega[i]] = 1\n",
    "    end\n",
    "    #return the matrix\n",
    "    return m, transpose(m)\n",
    "end\n",
    "\n",
    "A.Q4_3_1_a_ans_Operator , A.Q4_3_1_a_ans_AdjointOperator = \n",
    "SubSampl_Op(\n",
    "    A.Q4_3_1_data_n,\n",
    "    A.Q4_3_1_data_Omega\n",
    "    )"
   ]
  },
  {
   "cell_type": "code",
   "execution_count": 15,
   "id": "f2d6002f",
   "metadata": {},
   "outputs": [],
   "source": [
    "#print(\"Q4_3_1_data_n = \" , A[\"CourseWork_1\"].Q4_3_1_data_n, \"\\n\")\n",
    "#print(\"Q4_3_1_data_Omega = \" , A[\"CourseWork_1\"].Q4_3_1_data_Omega, \"\\n\")\n",
    "#print(\"Q4_3_1_data_x = \" , A[\"CourseWork_1\"].Q4_3_1_data_x, \"\\n\")\n",
    "#test:\n",
    "#y = A[\"CourseWork_1\"].Q4_3_1_a_ans_Operator*A[\"CourseWork_1\"].Q4_3_1_data_x\n",
    "#print(y)"
   ]
  },
  {
   "cell_type": "code",
   "execution_count": 16,
   "id": "240ee3f2",
   "metadata": {},
   "outputs": [
    {
     "data": {
      "text/plain": [
       "35-element Vector{Float64}:\n",
       " -0.7120263375637099\n",
       " -0.3350809296111196\n",
       " -0.10569899740463622\n",
       " -0.7025129961596984\n",
       "  1.2830149847033867\n",
       " -0.7176318751925367\n",
       " -1.1166279172153384\n",
       "  1.3518746859672155\n",
       " -1.2785399384565972\n",
       "  0.5559971550784112\n",
       "  ⋮\n",
       " -0.2225617304775508\n",
       " -0.2588815665080058\n",
       " -1.0776861194782485\n",
       "  0.7674149491198085\n",
       " -0.8271655141893217\n",
       "  0.0850861512165227\n",
       "  0.8653510720115296\n",
       " -1.3106676748148585\n",
       "  0.050138419750105315"
      ]
     },
     "metadata": {},
     "output_type": "display_data"
    }
   ],
   "source": [
    "#test:\n",
    "A.Q4_3_1_a_ans_Operator*A.Q4_3_1_data_x"
   ]
  },
  {
   "cell_type": "markdown",
   "id": "03226854",
   "metadata": {},
   "source": [
    "### 1.(b)"
   ]
  },
  {
   "cell_type": "code",
   "execution_count": 17,
   "id": "fe66926f",
   "metadata": {},
   "outputs": [
    {
     "data": {
      "text/plain": [
       "35-element Vector{Float64}:\n",
       " -0.7120263375637099\n",
       " -0.3350809296111196\n",
       " -0.10569899740463622\n",
       " -0.7025129961596984\n",
       "  1.2830149847033867\n",
       " -0.7176318751925367\n",
       " -1.1166279172153384\n",
       "  1.3518746859672155\n",
       " -1.2785399384565972\n",
       "  0.5559971550784112\n",
       "  ⋮\n",
       " -0.2225617304775508\n",
       " -0.2588815665080058\n",
       " -1.0776861194782485\n",
       "  0.7674149491198085\n",
       " -0.8271655141893217\n",
       "  0.0850861512165227\n",
       "  0.8653510720115296\n",
       " -1.3106676748148585\n",
       "  0.050138419750105315"
      ]
     },
     "metadata": {},
     "output_type": "display_data"
    }
   ],
   "source": [
    "function Subsample(x,Omega)\n",
    "    output = zeros(length(Omega))\n",
    "    #loop through Omega and fill in y with x[omega[i]]\n",
    "    for i in 1:length(Omega)\n",
    "        output[i] = x[Omega[i]]\n",
    "    end \n",
    "    return output\n",
    "end\n",
    "\n",
    "\n",
    "#run the function to assign to answer\n",
    "#Q4_3_1_b_ans_y::Union{Missing,Vector}\n",
    "A.Q4_3_1_b_ans_y = Subsample(A.Q4_3_1_data_x,A.Q4_3_1_data_Omega)"
   ]
  },
  {
   "cell_type": "markdown",
   "id": "81d8188c",
   "metadata": {},
   "source": [
    "### 1.(c)"
   ]
  },
  {
   "cell_type": "code",
   "execution_count": 18,
   "id": "65eac935",
   "metadata": {},
   "outputs": [
    {
     "data": {
      "text/plain": [
       "90-element Vector{Float64}:\n",
       "  0.0\n",
       "  0.0\n",
       "  0.0\n",
       "  0.0\n",
       "  0.0\n",
       "  0.0\n",
       " -0.7120263375637099\n",
       " -0.3350809296111196\n",
       "  0.0\n",
       "  0.0\n",
       "  ⋮\n",
       "  0.0\n",
       "  0.0\n",
       "  0.0850861512165227\n",
       "  0.8653510720115296\n",
       "  0.0\n",
       "  0.0\n",
       " -1.3106676748148585\n",
       "  0.050138419750105315\n",
       "  0.0"
      ]
     },
     "metadata": {},
     "output_type": "display_data"
    }
   ],
   "source": [
    "function Subsample_adj(y,Omega,n)\n",
    "    z = zeros(n)\n",
    "    for i in 1:length(Omega)\n",
    "        z[Omega[i]] = y[i]\n",
    "    end\n",
    "    return z\n",
    "end\n",
    "\n",
    "#test:\n",
    "A.Q4_3_1_c_ans_z = Subsample_adj(A.Q4_3_1_b_ans_y,A.Q4_3_1_data_Omega,A.Q4_3_1_data_n)\n",
    "#Q4_3_1_c_ans_z::Union{Missing,Vector}\n",
    "\n"
   ]
  },
  {
   "cell_type": "markdown",
   "id": "7b10eb50",
   "metadata": {},
   "source": [
    "### 2.(a)"
   ]
  },
  {
   "cell_type": "code",
   "execution_count": 19,
   "id": "048b8657",
   "metadata": {},
   "outputs": [
    {
     "data": {
      "text/plain": [
       "([1.0 0.0 … 0.0 0.0; 0.0 1.0 … 0.0 0.0; … ; 0.0 0.0 … 1.0 0.0; 0.0 0.0 … 0.0 1.0], [1.0 0.0 … 0.0 0.0; 0.0 1.0 … 0.0 0.0; … ; 0.0 0.0 … 1.0 0.0; 0.0 0.0 … 0.0 1.0])"
      ]
     },
     "metadata": {},
     "output_type": "display_data"
    }
   ],
   "source": [
    "function Q4_3_2_a_ans(p, q)\n",
    "\n",
    "    output = zeros(p*q,p+q-1)\n",
    "    output_adj = zeros(p+q-1,p*q)\n",
    "    m = 1\n",
    "\n",
    "    for i in 1:q\n",
    "        for j in 1:p\n",
    "            output[m,i+j-1] = 1 #fill in ones into operator accordingly\n",
    "            m+=1 \n",
    "        end\n",
    "    end\n",
    "\n",
    "    return output, transpose(output)\n",
    "end\n",
    "\n",
    "\n",
    "#assign to answer\n",
    "A.Q4_3_2_a_ans_Operator, A.Q4_3_2_a_ans_AdjointOperator = \n",
    "Q4_3_2_a_ans(\n",
    "    A.Q4_3_2_data_p,\n",
    "    A.Q4_3_2_data_q\n",
    ")\n",
    "#Q4_3_2_a_ans_AdjointOperator::Union{Missing,Matrix}\n"
   ]
  },
  {
   "cell_type": "code",
   "execution_count": 20,
   "id": "8667da0e",
   "metadata": {},
   "outputs": [
    {
     "data": {
      "text/plain": [
       "63×93 Matrix{Float64}:\n",
       " -0.703016    0.767841    0.391556   …  -0.0652388  -1.13269   -1.02731\n",
       "  0.767841    0.391556    2.06689       -1.13269    -1.02731   -0.869131\n",
       "  0.391556    2.06689    -0.381678      -1.02731    -0.869131   2.03767\n",
       "  2.06689    -0.381678   -0.39857       -0.869131    2.03767    0.231659\n",
       " -0.381678   -0.39857     0.479802       2.03767     0.231659   0.779107\n",
       " -0.39857     0.479802   -2.06458    …   0.231659    0.779107  -2.85532\n",
       "  0.479802   -2.06458     0.311218       0.779107   -2.85532    1.61624\n",
       " -2.06458     0.311218   -1.60753       -2.85532     1.61624    0.888969\n",
       "  0.311218   -1.60753    -0.408357       1.61624     0.888969  -0.488583\n",
       " -1.60753    -0.408357    0.151226       0.888969   -0.488583   0.645388\n",
       "  ⋮                                  ⋱   ⋮                     \n",
       "  2.68556    -0.721596    1.71901       -0.102503    0.968977  -0.629898\n",
       " -0.721596    1.71901    -1.97256    …   0.968977   -0.629898  -0.592585\n",
       "  1.71901    -1.97256    -0.299998      -0.629898   -0.592585  -0.953948\n",
       " -1.97256    -0.299998    0.733415      -0.592585   -0.953948   1.67025\n",
       " -0.299998    0.733415   -0.0561198     -0.953948    1.67025   -1.51498\n",
       "  0.733415   -0.0561198  -0.0104026      1.67025    -1.51498    2.10365\n",
       " -0.0561198  -0.0104026  -0.583919   …  -1.51498     2.10365   -0.209115\n",
       " -0.0104026  -0.583919    0.68025        2.10365    -0.209115   1.53537\n",
       " -0.583919    0.68025     2.55052       -0.209115    1.53537   -2.15855"
      ]
     },
     "metadata": {},
     "output_type": "display_data"
    }
   ],
   "source": [
    "#test the operator\n",
    "vect = A.Q4_3_2_a_ans_Operator*A.Q4_3_2_data_x\n",
    "m = vect[:,:]\n",
    "reshape(m,63,93)\n",
    "#looking good"
   ]
  },
  {
   "cell_type": "code",
   "execution_count": 21,
   "id": "4fd91515",
   "metadata": {},
   "outputs": [
    {
     "data": {
      "text/plain": [
       "6850.4006511862335"
      ]
     },
     "metadata": {},
     "output_type": "display_data"
    }
   ],
   "source": [
    "#make vector x first\n",
    "vect_x = A.Q4_3_2_data_x\n",
    "\n",
    "#make a vector y for testing\n",
    "vect_y = vect_x\n",
    "\n",
    "#transform them individually\n",
    "vect_y_transform = A.Q4_3_2_a_ans_Operator*vect_y\n",
    "vect_x_transform = A.Q4_3_2_a_ans_Operator*vect_x\n",
    "\n",
    "#take inner product\n",
    "transpose(vect_x_transform)*vect_y_transform\n",
    "\n",
    "#6850.4006511862335"
   ]
  },
  {
   "cell_type": "code",
   "execution_count": 22,
   "id": "156d4a83",
   "metadata": {},
   "outputs": [
    {
     "data": {
      "text/plain": [
       "155-element Vector{Float64}:\n",
       "  -0.7030158807938457\n",
       "   1.535682022686232\n",
       "   1.1746691120748582\n",
       "   8.267564946627187\n",
       "  -1.9083909219122193\n",
       "  -2.3914211218080244\n",
       "   3.3586156917812717\n",
       " -16.51667312175439\n",
       "   2.800960902327336\n",
       " -16.07525425093906\n",
       "   ⋮\n",
       "  -5.6690849450876035\n",
       "  -4.740682869063179\n",
       "  -6.677637220012744\n",
       "  10.0215198055596\n",
       "  -7.574875373889979\n",
       "   8.414598040735248\n",
       "  -0.6273441973984029\n",
       "   3.0707426937953914\n",
       "  -2.1585486519157375"
      ]
     },
     "metadata": {},
     "output_type": "display_data"
    }
   ],
   "source": [
    "#now, test the original vector x times adjoint transform of transformed y\n",
    "vect_y_adj = A.Q4_3_2_a_ans_AdjointOperator*vect_y_transform\n",
    "vect_y_adj\n",
    "\n",
    "#6850.4006511862335"
   ]
  },
  {
   "cell_type": "markdown",
   "id": "ffef7d0e",
   "metadata": {},
   "source": [
    "### 2.(b)"
   ]
  },
  {
   "cell_type": "code",
   "execution_count": 23,
   "id": "dcf31960",
   "metadata": {},
   "outputs": [
    {
     "data": {
      "text/plain": [
       "63×93 Matrix{Float64}:\n",
       " -0.703016    0.767841    0.391556   …  -0.0652388  -1.13269   -1.02731\n",
       "  0.767841    0.391556    2.06689       -1.13269    -1.02731   -0.869131\n",
       "  0.391556    2.06689    -0.381678      -1.02731    -0.869131   2.03767\n",
       "  2.06689    -0.381678   -0.39857       -0.869131    2.03767    0.231659\n",
       " -0.381678   -0.39857     0.479802       2.03767     0.231659   0.779107\n",
       " -0.39857     0.479802   -2.06458    …   0.231659    0.779107  -2.85532\n",
       "  0.479802   -2.06458     0.311218       0.779107   -2.85532    1.61624\n",
       " -2.06458     0.311218   -1.60753       -2.85532     1.61624    0.888969\n",
       "  0.311218   -1.60753    -0.408357       1.61624     0.888969  -0.488583\n",
       " -1.60753    -0.408357    0.151226       0.888969   -0.488583   0.645388\n",
       "  ⋮                                  ⋱   ⋮                     \n",
       "  2.68556    -0.721596    1.71901       -0.102503    0.968977  -0.629898\n",
       " -0.721596    1.71901    -1.97256    …   0.968977   -0.629898  -0.592585\n",
       "  1.71901    -1.97256    -0.299998      -0.629898   -0.592585  -0.953948\n",
       " -1.97256    -0.299998    0.733415      -0.592585   -0.953948   1.67025\n",
       " -0.299998    0.733415   -0.0561198     -0.953948    1.67025   -1.51498\n",
       "  0.733415   -0.0561198  -0.0104026      1.67025    -1.51498    2.10365\n",
       " -0.0561198  -0.0104026  -0.583919   …  -1.51498     2.10365   -0.209115\n",
       " -0.0104026  -0.583919    0.68025        2.10365    -0.209115   1.53537\n",
       " -0.583919    0.68025     2.55052       -0.209115    1.53537   -2.15855"
      ]
     },
     "metadata": {},
     "output_type": "display_data"
    }
   ],
   "source": [
    "function Q4_3_2_b(p,q,x)\n",
    "    H = zeros(p*q,1)\n",
    "    idx = 1\n",
    "    for i in 1:q\n",
    "      for j in 1:p\n",
    "        H[idx] = x[i+j-1]\n",
    "        idx += 1 \n",
    "      end\n",
    "    end\n",
    "    return reshape(H,p,q)\n",
    "end\n",
    "\n",
    "#Q4_3_2_b_ans_H::Union{Missing,Matrix}\n",
    "A.Q4_3_2_b_ans_H = Q4_3_2_b(\n",
    "    A.Q4_3_2_data_p,\n",
    "    A.Q4_3_2_data_q,\n",
    "    A.Q4_3_2_data_x\n",
    ")\n",
    "\n"
   ]
  },
  {
   "cell_type": "markdown",
   "id": "4974e0f5",
   "metadata": {},
   "source": [
    "### 2.(c)"
   ]
  },
  {
   "cell_type": "code",
   "execution_count": 24,
   "id": "ece750ae",
   "metadata": {},
   "outputs": [
    {
     "data": {
      "text/plain": [
       "155-element Vector{Float64}:\n",
       "  -0.7030158807938457\n",
       "   1.535682022686232\n",
       "   1.1746691120748582\n",
       "   8.267564946627187\n",
       "  -1.9083909219122193\n",
       "  -2.3914211218080244\n",
       "   3.3586156917812717\n",
       " -16.51667312175439\n",
       "   2.800960902327336\n",
       " -16.075254250939064\n",
       "   ⋮\n",
       "  -5.6690849450876035\n",
       "  -4.740682869063179\n",
       "  -6.677637220012743\n",
       "  10.021519805559603\n",
       "  -7.574875373889979\n",
       "   8.414598040735248\n",
       "  -0.6273441973984029\n",
       "   3.0707426937953914\n",
       "  -2.1585486519157375"
      ]
     },
     "metadata": {},
     "output_type": "display_data"
    }
   ],
   "source": [
    "function Q4_3_2_c(p,q,H)\n",
    "    \n",
    "    output = zeros(p+q-1)\n",
    "    minpq = min(p,q)\n",
    "\n",
    "\n",
    "    #collect each term in matrixx Q4_3_2_b_ans_H\n",
    "    v = zeros(p+q-1)\n",
    "    for i in 1:p\n",
    "        v[i] = H[i,1]\n",
    "    end\n",
    "    for i in 1:q-1\n",
    "        v[p+i] = H[p,i+1]\n",
    "    end\n",
    "\n",
    "    help = zeros(p+q-1)\n",
    "    for i in 1:minpq\n",
    "        help[i] = i\n",
    "        help[p+q-i] = i\n",
    "    end\n",
    "    for i in minpq+1:p+q-minpq\n",
    "        help[i] = minpq\n",
    "    end\n",
    "\n",
    "    j = 0\n",
    "    for i in 1:p+q-1\n",
    "        output[i] = v[i] * help[i]\n",
    "    end\n",
    "\n",
    "\n",
    "    return output\n",
    "end\n",
    "\n",
    "A.Q4_3_2_c_ans_z = Q4_3_2_c(\n",
    "    A.Q4_3_2_data_p,\n",
    "    A.Q4_3_2_data_q,\n",
    "    A.Q4_3_2_b_ans_H\n",
    ")\n",
    "\n",
    "#Q4_3_2_c_ans_z::Union{Missing,Vector}\n"
   ]
  },
  {
   "cell_type": "code",
   "execution_count": 25,
   "id": "486b0e6c",
   "metadata": {},
   "outputs": [
    {
     "data": {
      "text/plain": [
       "155-element Vector{Float64}:\n",
       "  0.0\n",
       "  0.0\n",
       "  0.0\n",
       "  0.0\n",
       "  0.0\n",
       "  0.0\n",
       "  0.0\n",
       "  0.0\n",
       "  0.0\n",
       " -3.552713678800501e-15\n",
       "  ⋮\n",
       "  0.0\n",
       "  0.0\n",
       "  8.881784197001252e-16\n",
       "  1.7763568394002505e-15\n",
       "  0.0\n",
       "  0.0\n",
       "  0.0\n",
       "  0.0\n",
       "  0.0"
      ]
     },
     "metadata": {},
     "output_type": "display_data"
    }
   ],
   "source": [
    "A.Q4_3_2_c_ans_z - vect_y_adj"
   ]
  },
  {
   "cell_type": "markdown",
   "id": "28a8c4a0",
   "metadata": {},
   "source": [
    "### 2.(d)"
   ]
  },
  {
   "cell_type": "code",
   "execution_count": 26,
   "id": "89bfa2f7",
   "metadata": {},
   "outputs": [
    {
     "data": {
      "text/plain": [
       "155-element Vector{Float64}:\n",
       "  1.0\n",
       "  2.0\n",
       "  3.0\n",
       "  4.0\n",
       "  5.0\n",
       "  6.0\n",
       "  7.0\n",
       "  8.0\n",
       "  9.0\n",
       " 10.0\n",
       "  ⋮\n",
       "  9.0\n",
       "  8.0\n",
       "  7.0\n",
       "  6.000000000000001\n",
       "  5.0\n",
       "  4.0\n",
       "  3.0000000000000004\n",
       "  2.0\n",
       "  1.0"
      ]
     },
     "metadata": {},
     "output_type": "display_data"
    }
   ],
   "source": [
    "A.Q4_3_2_d_ans = A.Q4_3_2_c_ans_z ./ A.Q4_3_2_data_x\n",
    "\n"
   ]
  },
  {
   "cell_type": "markdown",
   "id": "ce64ecc7",
   "metadata": {},
   "source": [
    "### 3.(a)"
   ]
  },
  {
   "cell_type": "code",
   "execution_count": 27,
   "id": "141b4d9c",
   "metadata": {},
   "outputs": [
    {
     "data": {
      "text/plain": [
       "([1.3824927555505953 0.0 … 0.0 0.0; -0.5103166046164548 1.3824927555505953 … 0.0 0.0; … ; 0.0 0.0 … -0.5954076268360049 1.4418340630763695; 0.0 0.0 … 0.0 -0.5954076268360049], [1.3824927555505953 -0.5103166046164548 … 0.0 0.0; 0.0 1.3824927555505953 … 0.0 0.0; … ; 0.0 0.0 … -0.5954076268360049 0.0; 0.0 0.0 … 1.4418340630763695 -0.5954076268360049])"
      ]
     },
     "metadata": {},
     "output_type": "display_data"
    }
   ],
   "source": [
    "function Convolution(x,h)\n",
    "    n=length(x)\n",
    "    m=length(h)\n",
    "    C_h=zeros(n+m-1,n)\n",
    "    for i in 1:(n+m-1)\n",
    "        for j in 1:n\n",
    "            if i-j>=0 && i-j<m\n",
    "                C_h[i,j]=h[i-j+1]\n",
    "            end\n",
    "        end\n",
    "    end\n",
    "    C_star=transpose(C_h)\n",
    "    return C_h,C_star\n",
    "end\n",
    "A.Q4_3_3_a_ans_Operator,A.Q4_3_3_a_ans_AdjointOperator = Convolution(A.Q4_3_3_data_x,A.Q4_3_3_data_h)"
   ]
  },
  {
   "cell_type": "markdown",
   "id": "103a86aa",
   "metadata": {},
   "source": [
    "### 3.(b)"
   ]
  },
  {
   "cell_type": "code",
   "execution_count": 28,
   "id": "e3304cfb",
   "metadata": {},
   "outputs": [
    {
     "data": {
      "text/plain": [
       "30-element Vector{Float64}:\n",
       "  0.34718847379108875\n",
       " -1.2037466115407542\n",
       "  1.2143237704132197\n",
       " -0.8471708509259193\n",
       "  0.21167344856642728\n",
       "  3.2408012713515277\n",
       "  0.6000918278214773\n",
       "  0.5409199682492275\n",
       "  2.3811466674810604\n",
       " -2.2237756862166327\n",
       "  ⋮\n",
       " -0.022969189555171243\n",
       " -2.9153057871158228\n",
       "  1.1226247740081816\n",
       " -2.280458054916075\n",
       "  0.8419779301022432\n",
       " -3.2712458940538798\n",
       "  1.8311920634633472\n",
       " -0.5352228267139241\n",
       " -0.04900675846325167"
      ]
     },
     "metadata": {},
     "output_type": "display_data"
    }
   ],
   "source": [
    "function find3by(x,h)\n",
    "    n=length(x)\n",
    "    m=length(h)\n",
    "    y=zeros(n+m-1)\n",
    "    for t in 1:n+m-1\n",
    "        for tau in max(1,t+1-n):min(t,m,n)\n",
    "            y[t]+=x[t+1-tau]*h[tau]\n",
    "        end\n",
    "    end\n",
    "    return y\n",
    "end\n",
    "A.Q4_3_3_b_ans_y=find3by(A.Q4_3_3_data_x,A.Q4_3_3_data_h)"
   ]
  },
  {
   "cell_type": "markdown",
   "id": "ec4ead04",
   "metadata": {},
   "source": [
    "### 3.(c)"
   ]
  },
  {
   "cell_type": "code",
   "execution_count": 29,
   "id": "73bfa4ff",
   "metadata": {},
   "outputs": [
    {
     "data": {
      "text/plain": [
       "17-element Vector{Float64}:\n",
       "  -0.6694613947132696\n",
       "  -6.8800835916907275\n",
       "   6.003516101366196\n",
       "   7.916746540405512\n",
       " -10.370132093904317\n",
       "  32.10665575363984\n",
       "   5.597247955218237\n",
       "   2.0833467022322765\n",
       "   0.9979008161259771\n",
       "  10.99806129575536\n",
       " -19.316733749680562\n",
       "  21.927495498115704\n",
       "  -6.660649428009175\n",
       "   8.339631950670569\n",
       " -18.033903348795953\n",
       "  20.5098866386054\n",
       " -17.519123657614617"
      ]
     },
     "metadata": {},
     "output_type": "display_data"
    }
   ],
   "source": [
    "function find3cz(y,h)\n",
    "    m=length(h)\n",
    "    n=length(y)-m+1\n",
    "    z=zeros(n)\n",
    "    for t in 1:n\n",
    "        for tau in 1:m\n",
    "            z[t]+=y[t+tau-1]*h[tau]\n",
    "        end\n",
    "    end\n",
    "    return z\n",
    "end\n",
    "Z_free = A.Q4_3_3_c_ans_z=find3cz(A.Q4_3_3_b_ans_y,A.Q4_3_3_data_h)"
   ]
  },
  {
   "cell_type": "markdown",
   "id": "abaf2c78",
   "metadata": {},
   "source": [
    "### 4.(a)"
   ]
  },
  {
   "cell_type": "code",
   "execution_count": 30,
   "id": "fa045fa7",
   "metadata": {},
   "outputs": [
    {
     "data": {
      "text/plain": [
       "([0.9500237407025717 2.2523378283132285 … -0.3355742560381149 -1.252622449487755; -1.252622449487755 0.9500237407025717 … -1.0779405511934164 -0.3355742560381149; … ; -0.7442819493207524 -0.5762169532073635 … 0.9500237407025717 2.2523378283132285; 2.2523378283132285 -0.7442819493207524 … -1.252622449487755 0.9500237407025717], [0.9500237407025717 -1.252622449487755 … -0.7442819493207524 2.2523378283132285; 2.2523378283132285 0.9500237407025717 … -0.5762169532073635 -0.7442819493207524; … ; -0.3355742560381149 -1.0779405511934164 … 0.9500237407025717 -1.252622449487755; -1.252622449487755 -0.3355742560381149 … 2.2523378283132285 0.9500237407025717])"
      ]
     },
     "metadata": {},
     "output_type": "display_data"
    }
   ],
   "source": [
    "function Cyclic(x,h)\n",
    "    n=length(x)\n",
    "    C_h=zeros(n,n)\n",
    "    for i in 1:n\n",
    "        for j in 1:n\n",
    "            k=i+1-j\n",
    "            if k<=0\n",
    "                k=n+k\n",
    "            end\n",
    "            C_h[i,k]=h[j]\n",
    "        end\n",
    "    end\n",
    "    C_star=transpose(C_h)\n",
    "    return C_h,C_star \n",
    "end\n",
    "\n",
    "A.Q4_3_4_a_ans_Operator,A.Q4_3_4_a_ans_AdjointOperator=Cyclic(A.Q4_3_4_data_x,A.Q4_3_4_data_h)"
   ]
  },
  {
   "cell_type": "markdown",
   "id": "2fcd436b",
   "metadata": {},
   "source": [
    "### 4.(b)"
   ]
  },
  {
   "cell_type": "code",
   "execution_count": 31,
   "id": "0a3a4a42",
   "metadata": {},
   "outputs": [
    {
     "data": {
      "text/plain": [
       "142-element Vector{Float64}:\n",
       "  -0.6505373784033195\n",
       "  17.62741253034949\n",
       "  -0.16099701667292926\n",
       "  15.91581493269945\n",
       "  13.078120412775444\n",
       "  11.240466792931896\n",
       " -20.39868062058624\n",
       "   0.2816123254526924\n",
       "  -3.172618311774635\n",
       "   0.32601355043535385\n",
       "   ⋮\n",
       "  -4.4971743585573565\n",
       "  -8.75309808871373\n",
       "   9.650725697430005\n",
       " -15.844227065531346\n",
       "   3.893551011069385\n",
       "  -2.552353170774595\n",
       "   6.962053168975658\n",
       "  -9.103331523740948\n",
       " -13.93975454296985"
      ]
     },
     "metadata": {},
     "output_type": "display_data"
    }
   ],
   "source": [
    "import DSP\n",
    "function find4by(x,h)\n",
    "    n=length(x)\n",
    "    y=zeros(n)\n",
    "    x_ex=repeat(x, outer=(3,))\n",
    "    y=DSP.conv(x_ex,h)\n",
    "    y_ans=y[n+1:2n]\n",
    "    return y_ans\n",
    "end\n",
    "A.Q4_3_4_b_ans_y = find4by(A.Q4_3_4_data_x,A.Q4_3_4_data_h)"
   ]
  },
  {
   "cell_type": "markdown",
   "id": "e098a3a8",
   "metadata": {},
   "source": [
    "### 4.(c)"
   ]
  },
  {
   "cell_type": "code",
   "execution_count": 32,
   "id": "d03e51e3",
   "metadata": {},
   "outputs": [
    {
     "data": {
      "text/plain": [
       "142-element Vector{Float64}:\n",
       " -285.4178889536644\n",
       " -213.8557786586268\n",
       "   20.825571705360137\n",
       "  115.47778899008901\n",
       "   61.440398215620576\n",
       " -364.2334472579603\n",
       "   34.18014406875943\n",
       "   50.06381340742321\n",
       "  -65.00215441817535\n",
       "  189.2023532884148\n",
       "    ⋮\n",
       " -188.01254045179405\n",
       "   67.43031876578027\n",
       "   89.61976611092582\n",
       "  -94.09717466451669\n",
       " -227.05493821917602\n",
       "  300.42608973802515\n",
       "    8.141598775171197\n",
       " -225.03428107948713\n",
       " -568.3838990156075"
      ]
     },
     "metadata": {},
     "output_type": "display_data"
    }
   ],
   "source": [
    "function find4cz(y,h)\n",
    "    n=length(y)\n",
    "    z=zeros(n)\n",
    "    h=reverse(h)\n",
    "    h_ex=repeat(h, outer=(3,))\n",
    "    z=DSP.conv(y,h_ex)\n",
    "    z_ans=z[n:2n-1]\n",
    "    return z_ans\n",
    "end\n",
    "A.Q4_3_4_c_ans_z=find4cz(A.Q4_3_4_b_ans_y,A.Q4_3_4_data_h)"
   ]
  },
  {
   "cell_type": "markdown",
   "id": "7d003fd1",
   "metadata": {},
   "source": [
    "### 5.(a)"
   ]
  },
  {
   "cell_type": "code",
   "execution_count": 33,
   "id": "2eda581b",
   "metadata": {},
   "outputs": [
    {
     "data": {
      "text/plain": [
       "(ComplexF64[7991.164705882353 + 0.0im -3910.3010220423803 - 118.45124788344212im … -973.8855047234892 + 141.34581545030696im -3910.3010220423803 + 118.45124788344212im; -2637.6352164198715 - 414.0041161037336im 957.7537395017742 + 94.45223731386422im … 798.124782536756 + 307.38513700791464im 793.0829983834138 - 53.28594654502898im; … ; -1043.7904716544533 + 361.30523924569184im 737.0745236966186 - 278.1445179789142im … 160.3770987030368 - 54.3496634065702im 669.8075516813126 - 205.11240051499183im; -2637.6352164198715 + 414.0041161037336im 793.0829983834138 + 53.28594654502898im … 787.9458401059704 - 479.0693778240184im 957.7537395017742 - 94.45223731386422im], ComplexF64[33.17647058823525 + 0.0im -20.304382996097743 - 2.547913451843277im … 13.218450597843688 + 9.53767103916979im -20.304382996097743 + 2.547913451843277im; 1.1761498993100856 - 14.410057649895519im 9.175202157078726 + 17.212898158882485im … 56.94905777747435 - 47.62593481259198im -48.806498188098516 + 38.4589659098732im; … ; -20.776731199914238 + 19.323919964404258im 15.260625167195736 - 12.433390098261027im … 7.349025830816853 + 6.873436199354451im 13.98806509147674 - 22.71894992360614im; 1.1761498993100856 + 14.410057649895519im -48.806498188098516 - 38.4589659098732im … 10.977029556417335 + 34.433043850437045im 9.175202157078726 - 17.212898158882485im], ComplexF64[-17.42056134227032 + 32.44440332651461im, -22.063647746943634 + 12.210703844754395im, -33.04950484138708 - 9.15295816044527im, 5.950822360951733 + 32.050712800486956im, 64.42331852554608 + 43.070442242396595im, 47.01078994042125 - 22.88889966453182im, -57.927054206501595 - 76.1934150918358im, -13.064595400533523 + 12.800891236585809im, 36.452913175130874 + 13.936399848904514im, -14.844058514122999 + 28.784413878013694im  …  60.382137622216376 + 44.69698223567729im, 20.85854511656379 - 13.379594689636752im, 0.9436419569002759 + 4.65172835968888im, 15.504365873071468 + 5.528506807616626im, 12.231512006122546 - 52.23238386912558im, 2.891811860348122 - 17.62375584149244im, -13.22276646130294 + 23.51748009605899im, 8.360934928214824 - 9.308808496243346im, -8.096972784266377 - 18.07949288308729im, -30.40201811076488 - 17.18302539130611im])"
      ]
     },
     "metadata": {},
     "output_type": "display_data"
    }
   ],
   "source": [
    "import FFTW\n",
    "function MRI(x,omega)\n",
    "    m,n=size(x)\n",
    "    O1= FFTW.fft(x)\n",
    "    O2= FFTW.fftshift(O1)\n",
    "    O3= zeros(ComplexF64,m,n)\n",
    "    for i in 1:m\n",
    "        for j in 1:n\n",
    "            if omega[i,j]==1\n",
    "                O3[i,j]=O2[i,j]\n",
    "            end\n",
    "        end\n",
    "    end\n",
    "    O3=vec(O3)\n",
    "    O3 = filter(x -> x != 0, vec(O3))\n",
    "    return O1,O2,O3\n",
    "end\n",
    "A.Q4_3_5_a_ans_O1,\n",
    "A.Q4_3_5_a_ans_O2,\n",
    "A.Q4_3_5_a_ans_O3=\n",
    "MRI(\n",
    "    A.Q4_3_5_data_X,\n",
    "    A.Q4_3_5_data_Omega\n",
    ")"
   ]
  },
  {
   "cell_type": "markdown",
   "id": "f24d4b75",
   "metadata": {},
   "source": [
    "### 5.(b)"
   ]
  },
  {
   "cell_type": "code",
   "execution_count": 35,
   "id": "373798ec",
   "metadata": {},
   "outputs": [
    {
     "data": {
      "text/plain": [
       "(ComplexF64[1.4829670885574e-311 + 0.0im 1.4829670865386e-311 + 0.0im … 5.0e-324 + 0.0im 5.0e-324 + 0.0im; 0.0 + 0.0im 0.0 + 0.0im … -2.336084390963e-310 + 0.0im 5.0e-324 + 0.0im; … ; 1.4829679604894e-311 + 0.0im 1.69759663277e-313 + 0.0im … 5.0e-324 + 0.0im 5.0e-324 + 0.0im; 0.0 + 0.0im 0.0 + 0.0im … 5.0e-324 + 0.0im 5.0e-324 + 0.0im], ComplexF64[5.0e-324 + 0.0im 5.0e-324 + 0.0im … 5.0e-324 + 0.0im 5.0e-324 + 0.0im; 5.0e-324 + 0.0im 5.0e-324 + 0.0im … 5.0e-324 + 0.0im 5.0e-324 + 0.0im; … ; 5.0e-324 + 0.0im 5.0e-324 + 0.0im … 5.0e-324 + 0.0im 5.0e-324 + 0.0im; 5.0e-324 + 0.0im 5.0e-324 + 0.0im … 5.0e-324 + 0.0im 5.0e-324 + 0.0im], ComplexF64[7.324137824005206e-12 + 1.2207027055843866e-11im 3.157753230847771e-12 - 1.0855790102968261e-11im … -9.808537577076357e-12 + 8.650011185524506e-12im -1.7195804826218854e-12 - 9.893030119948128e-12im; -1.7931569423756955e-11 - 1.7346393418882222e-11im 2.3009513091701223e-11 + 1.616373821384744e-11im … 8.209304385717608e-13 + 9.668180053680096e-12im 1.1552227334802966e-11 + 7.166358104168818e-12im; … ; -0.0035485958757080754 + 0.005846900405709048im 0.0037633025331710365 - 0.0036305071650493776im … -0.0033570224676805066 - 0.0002978476265387531im -0.0025552694915965827 - 0.00656563545913695im; 0.0006262927584848275 - 0.0005108270162418414im 0.0008544302980393333 + 0.0008997128215014307im … 8.163017246231316e-5 - 0.0007771919593228013im 0.0005856706925210536 + 0.00037512778770816964im])"
      ]
     },
     "metadata": {},
     "output_type": "display_data"
    }
   ],
   "source": [
    "import FFTW\n",
    "function IvMRI(y,omega)\n",
    "    m,n=size(omega)\n",
    "\n",
    "    vec_omega = vec(omega)\n",
    "    O1 = complex(Array{Float64}(undef, length(vec_omega)))\n",
    "    j = 1\n",
    "    for i in 1:length(vec_omega)\n",
    "        if vec_omega[i] != 0\n",
    "            O1[i] = round(y[j]; digits = 8)\n",
    "            j+=1\n",
    "        end\n",
    "    end\n",
    "    O1=reshape(O1, m,n)\n",
    "    O2=FFTW.ifftshift(O1)\n",
    "    O3=FFTW.ifft(O2)\n",
    "    return O1,O2,O3\n",
    "end\n",
    "A.Q4_3_5_b_ans_O1,\n",
    "A.Q4_3_5_b_ans_O2,\n",
    "A.Q4_3_5_b_ans_O3=\n",
    "IvMRI(\n",
    "    A.Q4_3_5_a_ans_O3,\n",
    "    A.Q4_3_5_data_Omega\n",
    ")"
   ]
  },
  {
   "cell_type": "markdown",
   "id": "492be364",
   "metadata": {},
   "source": [
    "## 5.1. The Netflix Problem"
   ]
  },
  {
   "cell_type": "markdown",
   "id": "c33fdbea",
   "metadata": {},
   "source": [
    "### 1.(a)"
   ]
  },
  {
   "cell_type": "code",
   "execution_count": 37,
   "id": "d6a2ace5",
   "metadata": {},
   "outputs": [
    {
     "data": {
      "text/plain": [
       "437×10 adjoint(::Matrix{Float64}) with eltype Float64:\n",
       "  0.0502317    0.0281982   0.172274    0.271618   …  -0.127534    -0.335034\n",
       "  0.229298     0.324551    0.0185116   0.210246      -0.483392     0.138116\n",
       "  0.147375     0.235051   -0.294833    0.232546      -0.0748486    0.301312\n",
       " -0.087545    -0.0239002   0.169446    0.130266       0.00010314  -0.204198\n",
       "  0.0392621    0.0740349  -0.412865   -0.13049        0.322348    -0.112906\n",
       " -0.392681     0.332684    0.0953439   0.226482   …  -0.471666    -0.0533835\n",
       "  0.0774202   -0.0127447  -0.0886845  -0.0650795      0.295829     0.313306\n",
       "  0.161588     0.112577    0.393306    0.166357      -0.454215     0.256181\n",
       "  0.250072    -0.277306   -0.166693    0.179071      -0.0494303   -0.0484946\n",
       " -0.0133386   -0.029201    0.337616    0.0747999     -0.148557     0.241051\n",
       "  ⋮                                               ⋱               \n",
       "  0.0365293    0.402609   -0.255723    0.0592544     -0.238078     0.210013\n",
       " -0.113949    -0.12069     0.343671    0.121582      -0.0859441    0.285115\n",
       "  0.139435     0.341457    0.277017   -0.160623   …  -0.154151     0.0957228\n",
       " -0.104804     0.107335    0.191228   -0.0237264      0.225761    -0.098253\n",
       " -0.054833    -0.285341    0.0200862  -0.11755        0.129895    -0.0528661\n",
       " -0.0408194   -0.0619605  -0.135641   -0.0860319     -0.0857526   -0.0272405\n",
       "  0.00850267   0.0396502   0.179704   -0.0297324     -0.378399     0.289219\n",
       " -0.124727    -0.318253    0.270772    0.0906913  …  -0.170576     0.286427\n",
       " -0.490866     0.17296     0.124963    0.0748297     -0.0791342   -0.0211417"
      ]
     },
     "metadata": {},
     "output_type": "display_data"
    }
   ],
   "source": [
    "function update_V(y, Omega, U)\n",
    "    #basically, the idea is to select relavent U rows for each column of V' base on sparsity matrix, then compute least square for each column of V'\n",
    "    #Let the operator matrix be M (which is actually the observation matrix)\n",
    "    m , n = size(Omega)\n",
    "    r = size(U,2)\n",
    "    k = 1   #for incrementing through y\n",
    "    \n",
    "    #initialize output\n",
    "    V_new = zeros(r,n)\n",
    "    \n",
    "    #NOTE: m = height of m, n = height of V\n",
    "    for j in 1:n    #along each column of omega same column = same v\n",
    "        M_temp = zeros(1,r)\n",
    "        little_y = vec([])\n",
    "        for i in 1:m        #along each row of omega\n",
    "            if Omega[i,j] == 1\n",
    "                append!(little_y, y[k])\n",
    "                M_temp = [M_temp;U[i,:]']\n",
    "                k+=1\n",
    "            end\n",
    "        end\n",
    "        M_temp = M_temp[2:end,:]\n",
    "        V_col = (inv(M_temp'M_temp+I*1e-10))* M_temp' * little_y   #perturbate to avoid singularity\n",
    "        \n",
    "        V_new[:,j] = V_col\n",
    "    end\n",
    "\n",
    "    return V_new'\n",
    "end\n",
    "\n",
    "    A.Q5_1_a_ans_V = \n",
    "    update_V(\n",
    "        A.Q5_1_data_y,\n",
    "        A.Q5_1_data_Omega,\n",
    "        A.Q5_1_data_Uini\n",
    "    )"
   ]
  },
  {
   "cell_type": "markdown",
   "id": "a40dfed0",
   "metadata": {},
   "source": [
    "### 1.(b)"
   ]
  },
  {
   "cell_type": "code",
   "execution_count": 38,
   "id": "852fa07b",
   "metadata": {},
   "outputs": [
    {
     "data": {
      "text/plain": [
       "458×10 Matrix{Float64}:\n",
       "  0.541509    -1.1926      1.02761    …  -0.119129  -4.68132     0.313116\n",
       "  0.607825    -1.45745    -1.13906        1.2786    -3.05908     0.0248713\n",
       "  0.00516628  -0.289921    0.0226983      0.902324  -1.56529     1.70394\n",
       " -0.317398    -0.742435    1.52624        1.05935   -0.894362    0.0681758\n",
       " -0.336443     1.98809    -0.0465536     -1.85611   -0.140559   -0.39134\n",
       " -0.697516     1.37119    -0.533764   …  -1.0838     0.0189006   0.194695\n",
       " -2.14557      0.128673    1.4762        -1.37251    2.69487     0.0994025\n",
       "  0.785696    -2.52063     1.74457       -0.91928    3.18971    -0.20666\n",
       "  0.728699    -1.62322     0.521954       1.27096    2.33866    -1.03882\n",
       " -1.42543     -0.696411    0.605105       0.173015   0.0100235   0.632471\n",
       "  ⋮                                   ⋱                         \n",
       " -0.828922     0.0763181   1.20315       -0.259662   1.25623     0.0303646\n",
       " -1.00991      1.61799     0.891561   …   0.276728   1.27044     0.0723607\n",
       " -0.195666    -2.19759     1.00028        0.289059  -1.95177     1.56818\n",
       " -0.195669     0.523475    1.37272       -0.959581  -0.603115    0.426891\n",
       " -0.933217     0.488083    0.244635      -1.54571   -0.397701   -0.469079\n",
       " -1.15586     -0.330736   -0.776272      -2.0887    -0.774518   -0.254192\n",
       "  0.843693     0.0717283  -0.972586   …  -0.073741   2.01869     0.553755\n",
       "  0.398468    -0.277567   -1.32404        0.857918   2.09063     0.783107\n",
       "  0.3418      -0.333943    0.409336       0.409835   1.30182     0.447425"
      ]
     },
     "metadata": {},
     "output_type": "display_data"
    }
   ],
   "source": [
    "function update_U(y, Omega, V)\n",
    "    #Same idea as above\n",
    "    #Let the operator matrix be M (which is actually the observation matrix)\n",
    "    m , n = size(Omega)\n",
    "    r = size(V,2)\n",
    "    V = V'  #make v easier to work on\n",
    "    #initialize output\n",
    "    U_new = zeros(m,r)\n",
    "\n",
    "    #reshape y because we are workign on a different index\n",
    "    i = 1\n",
    "    \n",
    "    #NOTE: m = height of m, n = height of V\n",
    "    for i in 1:m    \n",
    "        M_temp = zeros(r,1)\n",
    "        little_y = vec([])\n",
    "        for j in 1:n        \n",
    "            if Omega[1,j] == 1\n",
    "                idx = sum(Omega[:,1:j-1]) + sum(Omega[1:i,j])   #find index of corrsponding y element\n",
    "                append!(little_y, y[idx])\n",
    "                M_temp = hcat(M_temp,V[:,j])\n",
    "                \n",
    "            end\n",
    "        end\n",
    "        M_temp = M_temp[:,2:end]\n",
    "        U_row = little_y' * M_temp' * inv(M_temp * M_temp'+I*1e-10) #perturbate to avoid singularity\n",
    "        U_new[i,:] = U_row\n",
    "    end\n",
    "\n",
    "    return U_new\n",
    "end\n",
    "\n",
    "    A.Q5_1_b_ans_U= \n",
    "    update_U(\n",
    "        A.Q5_1_data_y,\n",
    "        A.Q5_1_data_Omega,\n",
    "        A.Q5_1_a_ans_V\n",
    "    )\n",
    "\n"
   ]
  },
  {
   "cell_type": "markdown",
   "id": "b4acd99e",
   "metadata": {},
   "source": [
    "### 1.(c)"
   ]
  },
  {
   "cell_type": "code",
   "execution_count": 39,
   "id": "a6110d6d",
   "metadata": {},
   "outputs": [
    {
     "name": "stdout",
     "output_type": "stream",
     "text": [
      "Iteration 1: 965.7351876007737"
     ]
    },
    {
     "name": "stdout",
     "output_type": "stream",
     "text": [
      "\n",
      "Iteration 2: 939.6415950578867"
     ]
    },
    {
     "name": "stdout",
     "output_type": "stream",
     "text": [
      "\n",
      "Iteration 3: 934.8028479785607\n"
     ]
    },
    {
     "name": "stdout",
     "output_type": "stream",
     "text": [
      "Iteration 4: 933.0050342409867\n"
     ]
    },
    {
     "name": "stdout",
     "output_type": "stream",
     "text": [
      "Iteration 5: 931.9267653913695\n"
     ]
    },
    {
     "name": "stdout",
     "output_type": "stream",
     "text": [
      "Iteration 6: 931.2262476393527\n"
     ]
    },
    {
     "name": "stdout",
     "output_type": "stream",
     "text": [
      "Iteration 7: 930.8122687368265"
     ]
    },
    {
     "name": "stdout",
     "output_type": "stream",
     "text": [
      "\n",
      "Iteration 8: 930.591125309271\n"
     ]
    },
    {
     "name": "stdout",
     "output_type": "stream",
     "text": [
      "Iteration 9: 930.4866806948411\n"
     ]
    },
    {
     "name": "stdout",
     "output_type": "stream",
     "text": [
      "Iteration 10: 930.4508341798141\n"
     ]
    },
    {
     "data": {
      "text/plain": [
       "([0.46300126277479753 -0.6492349805763934 … -0.5889535922788757 0.4763726218587261; 0.13696452834330894 -0.5687412497234333 … -0.4436336447822415 0.26913084028554635; … ; 0.831732836767152 -0.4304975013679283 … 0.36110141693905484 0.09150088139716372; 0.4513224939274724 -0.27666590101666144 … -0.04033885253759613 -0.30233729486325844], [-0.009960625305494578 -0.7075484000010013 … 0.5910683334112277 -0.34625508964789; -0.9401449500726705 0.8875365668414129 … -0.05908307954228109 -1.0936873112468994; … ; 0.3862369794721708 -0.20169082151734147 … 0.5145097725481547 -0.09874437020658211; -0.27031772756064537 -0.06603999147630629 … 0.5126475751812177 -1.017035976666391])"
      ]
     },
     "metadata": {},
     "output_type": "display_data"
    }
   ],
   "source": [
    "function alt_min(iter, y, Omega,U_init)\n",
    "    U = U_init\n",
    "    V = zeros(size(Omega,2),size(U,2))\n",
    "    \n",
    "    for i in 1:iter\n",
    "        V_new = update_V(y, Omega, U)\n",
    "        V = V_new\n",
    "        U_new = update_U(y, Omega, V)\n",
    "        U = U_new\n",
    "\n",
    "        #if i%10 == 0 #calculate loss every 10 iteration\n",
    "            UV = U*V'\n",
    "            PUV = Omega.*UV\n",
    "            PUV_vec = vec(PUV)\n",
    "            nonzeros = filter(x -> x != 0, PUV_vec)\n",
    "            loss = norm(y - nonzeros)\n",
    "            print(\"Iteration \",i,\": \")\n",
    "            print(loss)\n",
    "            print(\"\\n\")\n",
    "        #end\n",
    "    end\n",
    "    return U,V\n",
    "end\n",
    "\n",
    "A.Q5_1_c_ans_U,\n",
    "A.Q5_1_c_ans_V = \n",
    "alt_min(\n",
    "    10,\n",
    "    A.Q5_1_data_y,\n",
    "    A.Q5_1_data_Omega,\n",
    "    A.Q5_1_data_Uini\n",
    ")\n",
    "\n"
   ]
  },
  {
   "cell_type": "markdown",
   "id": "17c72a40",
   "metadata": {},
   "source": [
    "## 5.2. Estimation Accuracy"
   ]
  },
  {
   "cell_type": "markdown",
   "id": "452bb2ae",
   "metadata": {},
   "source": [
    "### 1.(a)"
   ]
  },
  {
   "cell_type": "code",
   "execution_count": 40,
   "id": "04490d9a",
   "metadata": {},
   "outputs": [
    {
     "data": {
      "text/plain": [
       "([0.22462675001189797, 0.21495238082128526, 0.2398948505308106, 0.17943971925068794, 0.21217436539822704, 0.2400556190048166, 0.24477615792376342, 0.23300155836784375, 0.2775232744113097, 0.19268792906483145, 0.20667162404858858, 0.2600211240347275, 0.2163596253846917, 0.1998757392736415, 0.24078424219820502, 0.2391999896705241, 0.19073744712580215, 0.2583587668700048, 0.2591966968066494], 0.00010643435146375388)"
      ]
     },
     "metadata": {},
     "output_type": "display_data"
    }
   ],
   "source": [
    "function find_best_w(A)\n",
    "    # Get SVD of A\n",
    "    U, E, V = svd(inv(A))\n",
    "    \n",
    "    # choose last column (with smallest eigen value)\n",
    "    best_w = V[:, end]\n",
    "\n",
    "    # error = \n",
    "    error = norm(A\\best_w)* norm(A\\best_w)\n",
    "    return best_w, error\n",
    "end \n",
    "\n",
    "\n",
    "A.Q5_2_a_ans_w,\n",
    "A.Q5_2_a_ans_err = \n",
    "find_best_w(\n",
    "    A.Q5_2_data_A \n",
    ")\n",
    "\n"
   ]
  },
  {
   "cell_type": "code",
   "execution_count": 41,
   "id": "470697a1",
   "metadata": {},
   "outputs": [
    {
     "data": {
      "text/plain": [
       "0.00010643435146375388"
      ]
     },
     "metadata": {},
     "output_type": "display_data"
    }
   ],
   "source": [
    "A.Q5_2_a_ans_err"
   ]
  },
  {
   "cell_type": "markdown",
   "id": "d7825a65",
   "metadata": {},
   "source": [
    "### 1.(b)"
   ]
  },
  {
   "cell_type": "code",
   "execution_count": 42,
   "id": "1cfd159e",
   "metadata": {},
   "outputs": [
    {
     "data": {
      "text/plain": [
       "([-0.1298506588418091, 0.12624284972335906, 0.29822631693782875, -0.3675950891229983, -0.19485981127347754, -0.0996474186280977, -0.2631646886963739, 0.030831303598845266, 0.1131145881608186, -0.22329581218080272, 0.10580302166656079, 0.031457645994407715, 0.26438609790528456, -0.5171352135272335, -0.056556786667946786, 0.09159087246452602, 0.2469793108130403, 0.37397046775835424, -0.020528214931650905], 5.74042484932142e6)"
      ]
     },
     "metadata": {},
     "output_type": "display_data"
    }
   ],
   "source": [
    "function find_worst_w(A)\n",
    "    # Get SVD of A\n",
    "    U, E, V = svd(inv(A))\n",
    "    \n",
    "    # choose first column (with biggest eigen value)\n",
    "    worst_w = V[:, 1]\n",
    "\n",
    "    # error is easy to find\n",
    "    error = norm(A\\worst_w)*norm(A\\worst_w)\n",
    "    return worst_w, error\n",
    "end \n",
    "\n",
    "A.Q5_2_b_ans_w,\n",
    "A.Q5_2_b_ans_err = \n",
    "find_worst_w(\n",
    "    A.Q5_2_data_A \n",
    ")\n",
    "\n"
   ]
  },
  {
   "cell_type": "code",
   "execution_count": 53,
   "id": "00eefa30",
   "metadata": {},
   "outputs": [
    {
     "data": {
      "text/plain": [
       "5.74042484932142e6"
      ]
     },
     "metadata": {},
     "output_type": "display_data"
    }
   ],
   "source": [
    "A.Q5_2_b_ans_err\n"
   ]
  },
  {
   "cell_type": "markdown",
   "id": "55d7cb6c",
   "metadata": {},
   "source": [
    "### 1.(c)"
   ]
  },
  {
   "cell_type": "code",
   "execution_count": 54,
   "id": "2aa3918e",
   "metadata": {},
   "outputs": [
    {
     "data": {
      "text/plain": [
       "302213.3175277133"
      ]
     },
     "metadata": {},
     "output_type": "display_data"
    }
   ],
   "source": [
    "# average error\n",
    "function average_error(A)\n",
    "    sum = 0\n",
    "    for i in 1:size(A,2)\n",
    "        error = 0\n",
    "        U, E, V = svd(inv(A))\n",
    "        #for each noise\n",
    "        w = V[:,i]\n",
    "        #calculate error\n",
    "        error = norm(A\\w)*norm(A\\w)\n",
    "        sum += error\n",
    "    end\n",
    "    avg_error = sum / size(A,1)\n",
    "    return avg_error \n",
    "end\n",
    "\n",
    "A.Q5_2_c_ans_err =\n",
    "average_error(\n",
    "    A.Q5_2_data_A \n",
    ")\n"
   ]
  },
  {
   "cell_type": "markdown",
   "id": "ba47ad79",
   "metadata": {},
   "source": [
    "## 5.3. LS Recovery from Convolution"
   ]
  },
  {
   "cell_type": "markdown",
   "id": "78fbc144",
   "metadata": {},
   "source": [
    "### 1.(a)"
   ]
  },
  {
   "cell_type": "code",
   "execution_count": 55,
   "id": "0273cacb",
   "metadata": {},
   "outputs": [
    {
     "data": {
      "text/plain": [
       "([58.58295690708637 16.749593606704543 … -8.543642336511715 2.944019978314911; 16.749593606704543 81.97414348242744 … -1.7888451225898336 3.382344204571132; … ; -8.543642336511715 -1.7888451225898336 … 70.1371201046607 11.802724893187971; 2.944019978314911 3.382344204571132 … 11.802724893187971 52.156062838153986], [-69.53828854742798, -173.70282395222205, 68.02940717907882, 87.82656217754106, 105.01011580268937, -82.29628114500485, 27.990285549601616, 35.80108482638736, 47.63359426380435, -90.44024974873224  …  51.964166381064956, 22.13599268170875, -36.48992152928214, -11.505692973005765, -194.32868159388516, -116.12801383503677, 26.703281592845098, 117.11984970259122, 122.38418026362703, -98.38141712432262])"
      ]
     },
     "metadata": {},
     "output_type": "display_data"
    }
   ],
   "source": [
    "function find_Ab(y, h, Omega, alpha, n)\n",
    "    #NOTE: dimension of x is n, which is the same as h\n",
    "    #define our output\n",
    "    A = zeros(n,n)\n",
    "    b = zeros(n)\n",
    "    #dummy varialbe x for getting cyclic convolution operator\n",
    "    x = zeros(n)\n",
    "    C1, C1_adj = Cyclic(x,h)\n",
    "    S1, S1_adj = SubSampl_Op(n, Omega)\n",
    "    #M is the overall operator on x\n",
    "    M = S1 * C1\n",
    "\n",
    "    A = transpose(M) * M - alpha * Matrix(I, n, n)\n",
    "    b = - transpose(y) * M\n",
    "    return A, transpose(b)\n",
    "end\n",
    "\n",
    "A.Q5_3_1_a_ans_A, \n",
    "A.Q5_3_1_a_ans_b = \n",
    "find_Ab(\n",
    "    A.Q5_3_data_y,\n",
    "    A.Q5_3_data_h,\n",
    "    A.Q5_3_data_Omega, \n",
    "    A.Q5_3_data_alpha, \n",
    "    A.Q5_3_data_n\n",
    ")\n",
    "\n",
    "\n",
    "#Q5_3_1_a_ans_A\n",
    "#Q5_3_1_a_ans_b"
   ]
  },
  {
   "cell_type": "markdown",
   "id": "64365f71",
   "metadata": {},
   "source": [
    "### 1(b)"
   ]
  },
  {
   "cell_type": "code",
   "execution_count": 46,
   "id": "20477c47",
   "metadata": {},
   "outputs": [
    {
     "data": {
      "text/plain": [
       "135-element Vector{Float64}:\n",
       "  0.34094877180210825\n",
       " -0.8600716274528826\n",
       "  0.12798927500187035\n",
       "  0.21133650441099414\n",
       "  0.8267088419110429\n",
       " -0.539878594671811\n",
       " -0.09827220205722605\n",
       " -0.11154584086027951\n",
       " -0.18505371860852823\n",
       " -0.2077749308133293\n",
       "  ⋮\n",
       "  0.6250567685259288\n",
       "  0.15620810996582782\n",
       " -0.43565782549336235\n",
       " -1.2888760234481316\n",
       " -0.4316232712678664\n",
       "  0.2884048284631091\n",
       "  1.2279036271681685\n",
       "  0.6660082123597082\n",
       " -0.43378982909887603"
      ]
     },
     "metadata": {},
     "output_type": "display_data"
    }
   ],
   "source": [
    "A.Q5_3_1_b_ans_x = A.Q5_3_1_a_ans_A\\A.Q5_3_1_a_ans_b"
   ]
  },
  {
   "cell_type": "markdown",
   "id": "4ef04fd2",
   "metadata": {},
   "source": [
    "### 2.(a)"
   ]
  },
  {
   "cell_type": "code",
   "execution_count": 56,
   "id": "e6c9ffae",
   "metadata": {},
   "outputs": [
    {
     "data": {
      "text/plain": [
       "-650.0147060148207"
      ]
     },
     "metadata": {},
     "output_type": "display_data"
    }
   ],
   "source": [
    "function mat_free_uAv(u,v,y,h,Omega,alpha,n)\n",
    "    #uAv is basically:\n",
    "    #get h*v\n",
    "    Hv = zeros(n) \n",
    "    Hv = find4by(h,v)       #call function in 4.4\n",
    "    #get Phv\n",
    "    PHv = Subsample(Hv, Omega)      #call function in 4.1\n",
    "    #get PtPhv\n",
    "    PtPHv = Subsample_adj(PHv,Omega,n)  #call function in 4.1\n",
    "    #get htPtPhv\n",
    "    HtPtPHv = find4cz(PtPHv,h)      #call function in 4.4 \n",
    "    #get uHtPtPhv\n",
    "    uHtPtPhv = u' * HtPtPHv\n",
    "    #get alpha * u * v\n",
    "    ualphav = alpha * u' *v\n",
    "    uAv = uHtPtPhv - ualphav  \n",
    "    return uAv\n",
    "end\n",
    "\n",
    "function mat_free_bu(u,y,h,Omega,n)\n",
    "    #bu = -y' * P * H * u\n",
    "    #we apply each operators in function form one by one\n",
    "    Hu = find4by(h,u)\n",
    "    PHu = Subsample(Hu, Omega)\n",
    "    #then multiply by y\n",
    "    yPHu = y'*PHu\n",
    "    bu = -yPHu\n",
    "    return bu\n",
    "end\n",
    "\n",
    "# Assign to answer\n",
    "A.Q5_3_2_a_ans_uAv = \n",
    "mat_free_uAv(\n",
    "     A.Q5_3_data_u,\n",
    "     A.Q5_3_data_v,\n",
    "     A.Q5_3_data_y,\n",
    "     A.Q5_3_data_h,\n",
    "     A.Q5_3_data_Omega,\n",
    "     A.Q5_3_data_alpha,\n",
    "     A.Q5_3_data_n\n",
    " )\n",
    "\n",
    " A.Q5_3_2_a_ans_bu = \n",
    " mat_free_bu(\n",
    "     A.Q5_3_data_u,\n",
    "     A.Q5_3_data_y,\n",
    "     A.Q5_3_data_h,\n",
    "     A.Q5_3_data_Omega,\n",
    "     A.Q5_3_data_n\n",
    " )\n",
    "\n",
    "#Q5_3_2_a_ans_uAv\n",
    "#Q5_3_2_a_ans_bu\n"
   ]
  },
  {
   "cell_type": "markdown",
   "id": "9068c40f",
   "metadata": {},
   "source": [
    "### 2.(b)"
   ]
  },
  {
   "cell_type": "code",
   "execution_count": 48,
   "id": "398adbdc",
   "metadata": {},
   "outputs": [
    {
     "data": {
      "text/plain": [
       "135-element Vector{Float64}:\n",
       "  0.3409487692315657\n",
       " -0.8600716162927828\n",
       "  0.12798926967868604\n",
       "  0.2113365094192934\n",
       "  0.8267088344229716\n",
       " -0.5398785913997967\n",
       " -0.09827221197580181\n",
       " -0.11154584656995407\n",
       " -0.18505373317293858\n",
       " -0.20777493191484575\n",
       "  ⋮\n",
       "  0.6250567739989742\n",
       "  0.15620811310518012\n",
       " -0.43565782910179107\n",
       " -1.2888760206058443\n",
       " -0.4316232618307871\n",
       "  0.28840482745417334\n",
       "  1.2279036230756923\n",
       "  0.6660082036887459\n",
       " -0.43378983608705834"
      ]
     },
     "metadata": {},
     "output_type": "display_data"
    }
   ],
   "source": [
    "using LinearOperators\n",
    "using IterativeSolvers\n",
    "function iterate_solve(A,b)\n",
    "    \n",
    "    Op = LinearOperator(A)\n",
    "    x = cg(Op, b)\n",
    "    return x\n",
    "end\n",
    "\n",
    "A.Q5_3_2_b_ans_x = \n",
    "iterate_solve(\n",
    "    A.Q5_3_1_a_ans_A,\n",
    "    A.Q5_3_1_a_ans_b\n",
    ")"
   ]
  },
  {
   "cell_type": "markdown",
   "id": "88d01763",
   "metadata": {},
   "source": [
    "## 5.4. LS Recovery for MRI"
   ]
  },
  {
   "cell_type": "markdown",
   "id": "43b37708",
   "metadata": {},
   "source": [
    "### 1.(a)"
   ]
  },
  {
   "cell_type": "code",
   "execution_count": 49,
   "id": "4222543d",
   "metadata": {},
   "outputs": [
    {
     "data": {
      "text/plain": [
       "133873-element Vector{ComplexF64}:\n",
       "  17.690196078431065 + 0.0im\n",
       " -2.7916380224123856 + 4.7243407481078314im\n",
       "  -5.120918035843408 - 0.4366884910380122im\n",
       "  7.2336004515712835 + 4.286073964967405im\n",
       " -1.1578716150208663 - 7.3334982787780145im\n",
       "   2.780380984161915 - 0.25837501968199783im\n",
       "  0.2132505171248209 - 7.461145119286617im\n",
       "  -4.762147570510076 + 8.339476611824278im\n",
       " -2.9175859182368513 + 1.8641863470170907im\n",
       "  0.5139426737833084 - 2.675620088016424im\n",
       "                     ⋮\n",
       "  -19.46176402884703 - 4.567088921055046im\n",
       "   30.36337821109737 + 7.384069438336155im\n",
       "  -17.21631035964856 + 5.169204053060639im\n",
       "  11.393302601280084 - 14.356025302960006im\n",
       "  20.478046478326178 - 3.158968055575315im\n",
       " -2.7767831088858657 + 5.9427612695701555im\n",
       "  -7.040162422261346 - 12.09269452294808im\n",
       "  -3.372030633065151 + 5.179175628108908im\n",
       " -15.529497348339646 + 9.587104911465644im"
      ]
     },
     "metadata": {},
     "output_type": "display_data"
    }
   ],
   "source": [
    "function find_obs_y(X, Omega)\n",
    "    O1 = FFTW.fft(X)\n",
    "    O2 = FFTW.fftshift(O1)\n",
    "    O3 = Omega .* O2        #Omega.*O2 is basically subsample and subsample_adj applied together\n",
    "    nonzeros = filter(x -> x != 0, vec(O3))\n",
    "    return nonzeros\n",
    "end \n",
    "\n",
    "A.Q5_4_1_a_ans_y =  \n",
    "find_obs_y(\n",
    "    A.Q5_4_data_X,\n",
    "    A.Q5_4_data_Omega,\n",
    ")"
   ]
  },
  {
   "cell_type": "markdown",
   "id": "3956e602",
   "metadata": {},
   "source": [
    "### 1.(b)"
   ]
  },
  {
   "cell_type": "code",
   "execution_count": 50,
   "id": "c7a8699d",
   "metadata": {},
   "outputs": [
    {
     "data": {
      "text/plain": [
       "-1.0667139488817787e8"
      ]
     },
     "metadata": {},
     "output_type": "display_data"
    }
   ],
   "source": [
    "function find_UAV(U, V, y, Omega, alpha)\n",
    "    O1 = FFTW.fft(V')\n",
    "    O2 = FFTW.fftshift(O1)\n",
    "    O2_reshape = reshape(O2, size(Omega,1), size(Omega,2))\n",
    "    O4 = Omega .* O2_reshape        #Omega .* O2 is basically subsample_adj of subsample of O2\n",
    "    O4_vec = vec(O4)\n",
    "    O5=FFTW.ifftshift(O4_vec)\n",
    "    O6=FFTW.ifft(O5)\n",
    "    alpha_over_two = alpha*U'*V     #jk, no need over two\n",
    "    output = U'*O6 + alpha_over_two\n",
    "    return real(output)\n",
    "\n",
    "end\n",
    "\n",
    "function find_bz(z,y,Omega)\n",
    "    O1 = FFTW.fft(z)\n",
    "    O2 = FFTW.fftshift(O1)\n",
    "    O2_reshape = reshape(O2, size(Omega,1), size(Omega,2))\n",
    "    O3 = Omega .* O2_reshape\n",
    "    Mz = filter(x -> x != 0, vec(O3)) #filter out zero elements in O3\n",
    "    yMz = y'*Mz\n",
    "    return real(-yMz)\n",
    "end\n",
    "\n",
    "#Assign to answers\n",
    "A.Q5_4_1_b_ans_uAv = \n",
    "find_UAV(\n",
    "    A.Q5_4_data_u,\n",
    "    A.Q5_4_data_v,\n",
    "    A.Q5_4_1_a_ans_y,\n",
    "    A.Q5_4_data_Omega,\n",
    "    A.Q5_4_data_alpha,\n",
    ")\n",
    "\n",
    "A.Q5_4_1_b_ans_bz = \n",
    "find_bz(\n",
    "    A.Q5_4_data_z,\n",
    "    A.Q5_4_1_a_ans_y,\n",
    "    A.Q5_4_data_Omega,\n",
    ")\n"
   ]
  },
  {
   "cell_type": "markdown",
   "id": "753b6f32",
   "metadata": {},
   "source": [
    "### 1.(c)"
   ]
  },
  {
   "cell_type": "code",
   "execution_count": 51,
   "id": "7f5c5b99",
   "metadata": {},
   "outputs": [
    {
     "data": {
      "text/plain": [
       "512×512 Matrix{Float64}:\n",
       " 0.228479  0.239335  0.236678  0.224692  …  0.21737   0.207665  0.211266\n",
       " 0.232344  0.247149  0.243229  0.234481     0.221064  0.212375  0.216634\n",
       " 0.237444  0.250307  0.251068  0.241891     0.224399  0.215236  0.219534\n",
       " 0.241454  0.255331  0.257867  0.250174     0.227362  0.218546  0.223218\n",
       " 0.245131  0.260027  0.264381  0.258222     0.229939  0.221522  0.226584\n",
       " 0.248462  0.264381  0.270594  0.26602   …  0.232118  0.224152  0.22962\n",
       " 0.251433  0.268379  0.276491  0.273551     0.233888  0.226422  0.232313\n",
       " 0.254032  0.272008  0.282057  0.2808       0.235236  0.22832   0.23465\n",
       " 0.256247  0.275256  0.287277  0.287749     0.236152  0.229837  0.23662\n",
       " 0.257296  0.280287  0.291366  0.295473     0.236624  0.231729  0.2393\n",
       " ⋮                                       ⋱            ⋮         \n",
       " 0.181497  0.181016  0.161409  0.138951     0.172182  0.169512  0.170583\n",
       " 0.182606  0.186466  0.167134  0.143332     0.174396  0.172801  0.172241\n",
       " 0.194294  0.201859  0.186824  0.163047  …  0.184469  0.175672  0.178389\n",
       " 0.197622  0.202524  0.188836  0.170346     0.191551  0.179306  0.180809\n",
       " 0.203693  0.208216  0.19684   0.179863     0.198955  0.188525  0.189117\n",
       " 0.213161  0.217472  0.207609  0.193407     0.202765  0.194278  0.198521\n",
       " 0.210683  0.218907  0.210358  0.195617     0.199968  0.190462  0.194871\n",
       " 0.218347  0.227229  0.221341  0.20676   …  0.208959  0.198917  0.201889\n",
       " 0.223552  0.233417  0.22912   0.215809     0.213331  0.203431  0.206709"
      ]
     },
     "metadata": {},
     "output_type": "display_data"
    }
   ],
   "source": [
    "y = A.Q5_4_1_a_ans_y\n",
    "Omega = A.Q5_4_data_Omega\n",
    "alpha = A.Q5_4_data_alpha\n",
    "\n",
    "function Map_A(X)\n",
    "    #return find_UAV(X, X, y, Omega, alpha)\n",
    "    X_reshaped = reshape(X, size(Omega))        #make sure shape of X is fitting with Omega\n",
    "    O1 = FFTW.fft(X_reshaped)\n",
    "    O2 = FFTW.fftshift(O1)\n",
    "    O3 = Omega .* O2\n",
    "    MtMx = FFTW.ifft(FFTW.ifftshift(O3))\n",
    "    output2 = MtMx - alpha*X_reshaped\n",
    "    return real(output2)\n",
    "end\n",
    "\n",
    "\n",
    "function find_Xhat(X)\n",
    "    m, n = size(X)\n",
    "    #make linear map\n",
    "    op = LinearMap(Map_A, m*n)  \n",
    "    #now get vector b\n",
    "    b = real(Array{Float64}(undef, m*n))\n",
    "    Y = Omega .* FFTW.fftshift(FFTW.fft(X))\n",
    "    b = real(FFTW.ifft(FFTW.fftshift(Y)))\n",
    "    #use cg to solve for xhat\n",
    "    xhat = Matrix{Float64}(undef,m,n)\n",
    "    xhat = cg(op, b, maxiter=1000)\n",
    "    xhat = reshape(xhat, m, n)\n",
    "    #reshape(xhat, 512,512)\n",
    "    return xhat\n",
    "end \n",
    "\n",
    "A.Q5_4_1_c_ans_X_hat = \n",
    "find_Xhat(\n",
    "    A.Q5_4_data_X\n",
    ")\n"
   ]
  }
 ],
 "metadata": {
  "kernelspec": {
   "display_name": "Julia 1.9.3",
   "language": "julia",
   "name": "julia-1.9"
  },
  "language_info": {
   "file_extension": ".jl",
   "mimetype": "application/julia",
   "name": "julia",
   "version": "1.9.3"
  }
 },
 "nbformat": 4,
 "nbformat_minor": 5
}

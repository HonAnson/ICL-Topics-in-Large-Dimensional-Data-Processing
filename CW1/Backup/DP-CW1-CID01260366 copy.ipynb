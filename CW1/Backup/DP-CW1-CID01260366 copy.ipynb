{
 "cells": [
  {
   "cell_type": "markdown",
   "id": "5a6b0940",
   "metadata": {},
   "source": [
    "# Coursework 1 \n",
    "\n",
    "### PLAGIARISM/COLLUSION DECLARATION\n",
    "\n",
    " \n",
    "\n",
    "Coursework submitted for assessment must be the original work of you and your group. Assignments are subjected to regular checks for plagiarism and/or collusion. Plagiarism is the presentation of another person’s thoughts or words (those outside your group) as if they were your own. Collusion involves obtaining help from someone outside your group to complete your work. In preparing your coursework, you should not seek help, or copy from any other person or source, including the\n",
    "\n",
    "Internet, without proper and explicit acknowledgement.\n",
    "\n",
    " \n",
    "\n",
    "There is a procedure in place for you to declare individual contributions within your group for courswork. You must declare the contributions fairly and accurately.\n",
    "\n",
    " \n",
    "\n",
    "You must not disclose your solutions or insights related to coursework with anyone else, including future students or the Internet.\n",
    "\n",
    " \n",
    "\n",
    "By acknowledging the the statements above, you are declaring that both this and all subsequent pieces of coursework are, and will remain, the original work of you and your group.\n",
    "\n",
    " \n",
    "\n",
    "* Submissions will not be accepted without the aforementioned declaration.\n",
    "\n",
    " \n",
    "\n",
    "* Members of a group are deemed to have collective responsibility for the integrity for work submitted and are liable for any penalty imposed, proportionate to their contributions."
   ]
  },
  {
   "cell_type": "code",
   "execution_count": 44,
   "id": "156ebb80",
   "metadata": {},
   "outputs": [
    {
     "name": "stderr",
     "output_type": "stream",
     "text": [
      "\u001b[32m\u001b[1m   Resolving\u001b[22m\u001b[39m package versions...\n",
      "\u001b[32m\u001b[1m  No Changes\u001b[22m\u001b[39m "
     ]
    },
    {
     "name": "stderr",
     "output_type": "stream",
     "text": [
      "to `C:\\Users\\honan\\.julia\\environments\\v1.9\\Project.toml`\n",
      "\u001b[32m\u001b[1m  No Changes\u001b[22m\u001b[39m to `C:\\Users\\honan\\.julia\\environments\\v1.9\\Manifest.toml`\n"
     ]
    },
    {
     "name": "stderr",
     "output_type": "stream",
     "text": [
      "\u001b[32m\u001b[1m   Resolving\u001b[22m\u001b[39m package versions...\n",
      "\u001b[32m\u001b[1m  No Changes\u001b[22m\u001b[39m to `C:\\Users\\honan\\.julia\\environments\\v1.9\\Project.toml`\n",
      "\u001b[32m\u001b[1m  No Changes\u001b[22m\u001b[39m to `C:\\Users\\honan\\.julia\\environments\\v1.9\\Manifest.toml`\n"
     ]
    },
    {
     "name": "stderr",
     "output_type": "stream",
     "text": [
      "\u001b[32m\u001b[1m   Resolving\u001b[22m\u001b[39m package versions...\n"
     ]
    },
    {
     "name": "stderr",
     "output_type": "stream",
     "text": [
      "\u001b[32m\u001b[1m  No Changes\u001b[22m\u001b[39m to `C:\\Users\\honan\\.julia\\environments\\v1.9\\Project.toml`\n",
      "\u001b[32m\u001b[1m  No Changes\u001b[22m\u001b[39m to `C:\\Users\\honan\\.julia\\environments\\v1.9\\Manifest.toml`\n"
     ]
    },
    {
     "name": "stderr",
     "output_type": "stream",
     "text": [
      "\u001b[32m\u001b[1m   Resolving\u001b[22m\u001b[39m package versions...\n"
     ]
    },
    {
     "name": "stderr",
     "output_type": "stream",
     "text": [
      "\u001b[32m\u001b[1m  No Changes\u001b[22m\u001b[39m to `C:\\Users\\honan\\.julia\\environments\\v1.9\\Project.toml`\n",
      "\u001b[32m\u001b[1m  No Changes\u001b[22m\u001b[39m to `C:\\Users\\honan\\.julia\\environments\\v1.9\\Manifest.toml`\n"
     ]
    }
   ],
   "source": [
    "import Pkg\n",
    "Pkg.add(\"DSP\")\n",
    "Pkg.add(\"FFTW\")\n",
    "Pkg.add(\"LinearOperators\")\n",
    "Pkg.add(\"IterativeSolvers\")\n",
    "\n",
    "using JLD2,FileIO\n",
    "using LinearAlgebra"
   ]
  },
  {
   "cell_type": "code",
   "execution_count": 45,
   "id": "b570716e",
   "metadata": {},
   "outputs": [
    {
     "data": {
      "text/plain": [
       "CourseWork_1"
      ]
     },
     "metadata": {},
     "output_type": "display_data"
    }
   ],
   "source": [
    "# Run this code before you start doing the coursework\n",
    "\n",
    "Base.@kwdef mutable struct CourseWork_1\n",
    "    CID::Int\n",
    "    Plagiarism_declare::Union{Missing,Bool}\n",
    "    Demo_willing::Union{Missing,Bool}\n",
    "    \n",
    "    # 4.1. Trace and Inner Product of Matrices\n",
    "    \n",
    "    Q4_1_1_data_m::Int\n",
    "    Q4_1_1_data_n::Int\n",
    "    \n",
    "    Q4_1_1_a_ans_rows::Union{Missing,Int}\n",
    "    Q4_1_1_a_ans_columns::Union{Missing,Int}\n",
    "    Q4_1_1_b_ans_rows::Union{Missing,Int}\n",
    "    Q4_1_1_b_ans_columns::Union{Missing,Int}\n",
    "    Q4_1_1_c_ans::Union{Missing,Bool}\n",
    "    \n",
    "    Q4_1_2_ans::Union{Missing,Bool}\n",
    "    \n",
    "    Q4_1_3_data_k::Int\n",
    "    Q4_1_3_data_l::Int\n",
    "    Q4_1_3_data_m::Int\n",
    "    Q4_1_3_data_n::Int\n",
    "\n",
    "    Q4_1_3_a_ans_Urows::Union{Missing,Int}\n",
    "    Q4_1_3_a_ans_Ucolumns::Union{Missing,Int}\n",
    "    Q4_1_3_a_ans_Vrows::Union{Missing,Int}\n",
    "    Q4_1_3_a_ans_Vcolumns::Union{Missing,Int}\n",
    "    Q4_1_3_b_ans::Union{Missing,Bool}\n",
    "    \n",
    "    # 4.2. The Matrix of the Linear Map\n",
    "    \n",
    "    Q4_2_1_ans::Union{Missing,Bool}\n",
    "    \n",
    "    # 4.3. Adjoint Operator\n",
    "    \n",
    "    Q4_3_1_data_n::Int\n",
    "    Q4_3_1_data_Omega::Vector{Int}\n",
    "    Q4_3_1_data_x::Vector\n",
    "   \n",
    "    Q4_3_1_a_ans_Operator::Union{Missing,Matrix}\n",
    "    Q4_3_1_a_ans_AdjointOperator::Union{Missing,Matrix}\n",
    "    Q4_3_1_b_ans_y::Union{Missing,Vector}\n",
    "    Q4_3_1_c_ans_z::Union{Missing,Vector}\n",
    "    \n",
    "    \n",
    "    Q4_3_2_data_p::Int\n",
    "    Q4_3_2_data_q::Int\n",
    "    Q4_3_2_data_x::Vector\n",
    "    \n",
    "    Q4_3_2_a_ans_Operator::Union{Missing,Matrix}\n",
    "    Q4_3_2_a_ans_AdjointOperator::Union{Missing,Matrix}\n",
    "    Q4_3_2_b_ans_H::Union{Missing,Matrix}\n",
    "    Q4_3_2_c_ans_z::Union{Missing,Vector}\n",
    "    Q4_3_2_d_ans::Union{Missing,Vector}\n",
    "    \n",
    "    Q4_3_3_data_h::Vector\n",
    "    Q4_3_3_data_x::Vector\n",
    "    \n",
    "    Q4_3_3_a_ans_Operator::Union{Missing,Matrix}\n",
    "    Q4_3_3_a_ans_AdjointOperator::Union{Missing,Matrix}\n",
    "    Q4_3_3_b_ans_y::Union{Missing,Vector}\n",
    "    Q4_3_3_c_ans_z::Union{Missing,Vector}\n",
    "    \n",
    "    Q4_3_4_data_h::Vector\n",
    "    Q4_3_4_data_x::Vector\n",
    "    \n",
    "    Q4_3_4_a_ans_Operator::Union{Missing,Matrix}\n",
    "    Q4_3_4_a_ans_AdjointOperator::Union{Missing,Matrix}\n",
    "    Q4_3_4_b_ans_y::Union{Missing,Vector}\n",
    "    Q4_3_4_c_ans_z::Union{Missing,Vector}\n",
    "    \n",
    "    Q4_3_5_data_X::Matrix{Float64}\n",
    "    Q4_3_5_data_Omega::Matrix\n",
    "    \n",
    "    Q4_3_5_a_ans_O1::Union{Missing,Matrix}\n",
    "    Q4_3_5_a_ans_O2::Union{Missing,Matrix}\n",
    "    Q4_3_5_a_ans_O3::Union{Missing,Vector}\n",
    "    Q4_3_5_b_ans_O1::Union{Missing,Matrix}\n",
    "    Q4_3_5_b_ans_O2::Union{Missing,Matrix}\n",
    "    Q4_3_5_b_ans_O3::Union{Missing,Matrix}\n",
    "    \n",
    "    # 5.1. The Netflix Problem\n",
    "    \n",
    "    Q5_1_data_y::Vector\n",
    "    Q5_1_data_Omega::Matrix\n",
    "    Q5_1_data_Uini::Matrix{Float64}\n",
    "    \n",
    "    Q5_1_a_ans_V::Union{Missing,Matrix}\n",
    "    Q5_1_b_ans_U::Union{Missing,Matrix}\n",
    "    Q5_1_c_ans_U::Union{Missing,Matrix}\n",
    "    Q5_1_c_ans_V::Union{Missing,Matrix}\n",
    "    \n",
    "    \n",
    "    # 5.2. Estimation Accuracy\n",
    "    \n",
    "    Q5_2_data_A::Matrix{Float64}\n",
    "    \n",
    "    Q5_2_a_ans_w::Union{Missing,Vector}\n",
    "    Q5_2_a_ans_err::Union{Missing,Float64}\n",
    "    Q5_2_b_ans_w::Union{Missing,Vector}\n",
    "    Q5_2_b_ans_err::Union{Missing,Float64}\n",
    "    Q5_2_c_ans_err::Union{Missing,Float64}\n",
    "    \n",
    "    # 5.3. LS Recovery from Convolution\n",
    "    \n",
    "    Q5_3_data_y::Vector\n",
    "    Q5_3_data_h::Vector\n",
    "    Q5_3_data_Omega::Vector\n",
    "    Q5_3_data_n::Int\n",
    "    Q5_3_data_alpha::Float64\n",
    "    Q5_3_data_u::Vector\n",
    "    Q5_3_data_v::Vector\n",
    "    \n",
    "    Q5_3_1_a_ans_A::Union{Missing,Matrix}\n",
    "    Q5_3_1_a_ans_b::Union{Missing,Vector}\n",
    "    Q5_3_1_b_ans_x::Union{Missing,Vector}\n",
    "    Q5_3_2_a_ans_uAv::Union{Missing,Float64}\n",
    "    Q5_3_2_a_ans_bu::Union{Missing,Float64}\n",
    "    Q5_3_2_b_ans_x::Union{Missing,Vector}\n",
    "    \n",
    "    # 5.4. LS Recovery for MRI\n",
    "    \n",
    "    Q5_4_data_X::Matrix\n",
    "    Q5_4_data_Omega::Matrix\n",
    "    Q5_4_data_alpha::Float64\n",
    "    Q5_4_data_u::Vector{Float64}\n",
    "    Q5_4_data_v::Vector{Float64}\n",
    "    Q5_4_data_z::Vector{Float64}\n",
    "    \n",
    "    Q5_4_1_a_ans_y::Union{Missing,Vector}\n",
    "    Q5_4_1_b_ans_uAv::Union{Missing,Float64}\n",
    "    Q5_4_1_b_ans_bz::Union{Missing,Float64}\n",
    "    Q5_4_1_c_ans_X_hat::Union{Missing,Matrix}\n",
    "end"
   ]
  },
  {
   "cell_type": "code",
   "execution_count": 46,
   "id": "30132ba3",
   "metadata": {},
   "outputs": [
    {
     "name": "stdout",
     "output_type": "stream",
     "text": [
      "done"
     ]
    }
   ],
   "source": [
    "# Download and upload data from JLD file, refer to https://juliaio.github.io/JLD2.jl/dev/\n",
    "# Example\n",
    "# A = JLD2.load(\"xxx.jld2\");\n",
    "# A = A[ \"CourseWork_1\" ];\n",
    "# A.Demo_willing = true;\n",
    "# jldopen(\"xxx.jld2\", \"w\") do file\n",
    "#    write(file, \"CourseWork_1\", A)\n",
    "\n",
    "A = JLD2.load(\"Chin Young Anson, Hon1260366StudentFile.jld2\")\n",
    "A = A[\"CourseWork_1\"];\n",
    "A.Demo_willing = true;\n",
    "\n",
    "jldopen(\"Chin Young Anson, Hon1260366StudentFile.jld2\", \"w\") do file\n",
    "    write(file, \"CourseWork_1\", A)\n",
    "    print(\"done\")\n",
    "end\n",
    "\n",
    "# end"
   ]
  },
  {
   "cell_type": "code",
   "execution_count": 47,
   "id": "96e81064",
   "metadata": {},
   "outputs": [
    {
     "name": "stdout",
     "output_type": "stream",
     "text": [
      "96"
     ]
    }
   ],
   "source": [
    "A = JLD2.load(\"Chin Young Anson, Hon1260366StudentFile.jld2\")\n",
    "show(A[\"CourseWork_1\"].Q4_1_1_data_n)"
   ]
  },
  {
   "cell_type": "markdown",
   "id": "6861a416",
   "metadata": {},
   "source": [
    "## 4.1. Trace and Inner Product of Matrices\n"
   ]
  },
  {
   "cell_type": "markdown",
   "id": "90b22aba",
   "metadata": {},
   "source": [
    "### 1. (a)"
   ]
  },
  {
   "cell_type": "code",
   "execution_count": 5,
   "id": "ee609657",
   "metadata": {},
   "outputs": [
    {
     "data": {
      "text/plain": [
       "96"
      ]
     },
     "metadata": {},
     "output_type": "display_data"
    }
   ],
   "source": [
    "# save your answers in Q4_1_1_a_ans_rows, Q4_1_1_a_ans_columns\n",
    "A[\"CourseWork_1\"].Q4_1_1_a_ans_rows = A[\"CourseWork_1\"].Q4_1_1_data_m\n",
    "A[\"CourseWork_1\"].Q4_1_1_a_ans_columns = A[\"CourseWork_1\"].Q4_1_1_data_n"
   ]
  },
  {
   "cell_type": "markdown",
   "id": "d2cfd18e",
   "metadata": {},
   "source": [
    "### 1. (b)"
   ]
  },
  {
   "cell_type": "code",
   "execution_count": 6,
   "id": "fa8a298f",
   "metadata": {},
   "outputs": [
    {
     "data": {
      "text/plain": [
       "22"
      ]
     },
     "metadata": {},
     "output_type": "display_data"
    }
   ],
   "source": [
    "# save your answers in Q4_1_1_b_ans_rows, Q4_1_1_b_ans_columns\n",
    "A[\"CourseWork_1\"].Q4_1_1_b_ans_rows = A[\"CourseWork_1\"].Q4_1_1_data_n\n",
    "A[\"CourseWork_1\"].Q4_1_1_b_ans_columns = A[\"CourseWork_1\"].Q4_1_1_data_m"
   ]
  },
  {
   "cell_type": "markdown",
   "id": "f2c0b5e8",
   "metadata": {},
   "source": [
    "### 1. (c)"
   ]
  },
  {
   "cell_type": "code",
   "execution_count": 7,
   "id": "9674d13e",
   "metadata": {},
   "outputs": [
    {
     "data": {
      "text/plain": [
       "true"
      ]
     },
     "metadata": {},
     "output_type": "display_data"
    }
   ],
   "source": [
    "# save your answers in Q4_1_1_c_ans\n",
    "A[\"CourseWork_1\"].Q4_1_1_c_ans = true"
   ]
  },
  {
   "cell_type": "markdown",
   "id": "15f832d1",
   "metadata": {},
   "source": [
    "### 2"
   ]
  },
  {
   "cell_type": "code",
   "execution_count": 8,
   "id": "9b0ae4b2",
   "metadata": {},
   "outputs": [
    {
     "data": {
      "text/plain": [
       "true"
      ]
     },
     "metadata": {},
     "output_type": "display_data"
    }
   ],
   "source": [
    "A[\"CourseWork_1\"].Q4_1_2_ans = true"
   ]
  },
  {
   "cell_type": "markdown",
   "id": "7ab1d727",
   "metadata": {},
   "source": [
    "### 3. (a)"
   ]
  },
  {
   "cell_type": "code",
   "execution_count": 9,
   "id": "8b0f509c",
   "metadata": {},
   "outputs": [
    {
     "data": {
      "text/plain": [
       "34"
      ]
     },
     "metadata": {},
     "output_type": "display_data"
    }
   ],
   "source": [
    "A[\"CourseWork_1\"].Q4_1_3_a_ans_Urows = A[\"CourseWork_1\"].Q4_1_3_data_m\n",
    "A[\"CourseWork_1\"].Q4_1_3_a_ans_Ucolumns = A[\"CourseWork_1\"].Q4_1_3_data_k\n",
    "A[\"CourseWork_1\"].Q4_1_3_a_ans_Vrows = A[\"CourseWork_1\"].Q4_1_3_data_l\n",
    "A[\"CourseWork_1\"].Q4_1_3_a_ans_Vcolumns = A[\"CourseWork_1\"].Q4_1_3_data_n"
   ]
  },
  {
   "cell_type": "code",
   "execution_count": 10,
   "id": "acfb6037",
   "metadata": {},
   "outputs": [
    {
     "name": "stdout",
     "output_type": "stream",
     "text": [
      "Q4_1_3_data_k = 72\n",
      "Q4_1_3_data_l = 69\n",
      "Q4_1_3_data_m = 73\n",
      "Q4_1_3_data_n = 34\n"
     ]
    }
   ],
   "source": [
    "print(\"Q4_1_3_data_k = \" , A[\"CourseWork_1\"].Q4_1_3_data_k, \"\\n\")\n",
    "print(\"Q4_1_3_data_l = \" , A[\"CourseWork_1\"].Q4_1_3_data_l, \"\\n\")\n",
    "print(\"Q4_1_3_data_m = \" , A[\"CourseWork_1\"].Q4_1_3_data_m, \"\\n\")\n",
    "print(\"Q4_1_3_data_n = \" , A[\"CourseWork_1\"].Q4_1_3_data_n, \"\\n\")"
   ]
  },
  {
   "cell_type": "markdown",
   "id": "4475109f",
   "metadata": {},
   "source": [
    "### 3. (b)"
   ]
  },
  {
   "cell_type": "code",
   "execution_count": 11,
   "id": "79d8f15d",
   "metadata": {},
   "outputs": [
    {
     "data": {
      "text/plain": [
       "true"
      ]
     },
     "metadata": {},
     "output_type": "display_data"
    }
   ],
   "source": [
    "A[\"CourseWork_1\"].Q4_1_3_b_ans = true"
   ]
  },
  {
   "cell_type": "markdown",
   "id": "f9703592",
   "metadata": {},
   "source": [
    "## 4.2. The Matrix of the Linear Map\n"
   ]
  },
  {
   "cell_type": "markdown",
   "id": "43d0f33d",
   "metadata": {},
   "source": [
    "### 1"
   ]
  },
  {
   "cell_type": "code",
   "execution_count": 12,
   "id": "a9565057",
   "metadata": {},
   "outputs": [
    {
     "data": {
      "text/plain": [
       "true"
      ]
     },
     "metadata": {},
     "output_type": "display_data"
    }
   ],
   "source": [
    "A[\"CourseWork_1\"].Q4_2_1_ans = true"
   ]
  },
  {
   "cell_type": "markdown",
   "id": "698b1662",
   "metadata": {},
   "source": [
    "## 4.3. Adjoint Operator"
   ]
  },
  {
   "cell_type": "markdown",
   "id": "012bab3a",
   "metadata": {},
   "source": [
    "### 1.(a)"
   ]
  },
  {
   "cell_type": "code",
   "execution_count": 80,
   "id": "845431af",
   "metadata": {},
   "outputs": [
    {
     "data": {
      "text/plain": [
       "([0.0 0.0 … 0.0 0.0; 0.0 0.0 … 0.0 0.0; … ; 0.0 0.0 … 0.0 0.0; 0.0 0.0 … 1.0 0.0], [0.0 0.0 … 0.0 0.0; 0.0 0.0 … 0.0 0.0; … ; 0.0 0.0 … 0.0 1.0; 0.0 0.0 … 0.0 0.0])"
      ]
     },
     "metadata": {},
     "output_type": "display_data"
    }
   ],
   "source": [
    "function SubSampl_Op(n,Omega)\n",
    "    #build an m = Omega.length * n matrix, call it M, which is the linear map\n",
    "    m = zeros(length(Omega),n)\n",
    "    #fill in ones in matrix, where M[i,Omega[i]] = 1\n",
    "    for i in 1:length(Omega)\n",
    "        m[i,Omega[i]] = 1\n",
    "    end\n",
    "    #return the matrix\n",
    "    return m, transpose(m)\n",
    "end\n",
    "\n",
    "A[\"CourseWork_1\"].Q4_3_1_a_ans_Operator , A[\"CourseWork_1\"].Q4_3_1_a_ans_AdjointOperator = \n",
    "SubSampl_Op(\n",
    "    A[\"CourseWork_1\"].Q4_3_1_data_n,\n",
    "    A[\"CourseWork_1\"].Q4_3_1_data_Omega\n",
    "    )"
   ]
  },
  {
   "cell_type": "code",
   "execution_count": 14,
   "id": "f2d6002f",
   "metadata": {},
   "outputs": [],
   "source": [
    "#print(\"Q4_3_1_data_n = \" , A[\"CourseWork_1\"].Q4_3_1_data_n, \"\\n\")\n",
    "#print(\"Q4_3_1_data_Omega = \" , A[\"CourseWork_1\"].Q4_3_1_data_Omega, \"\\n\")\n",
    "#print(\"Q4_3_1_data_x = \" , A[\"CourseWork_1\"].Q4_3_1_data_x, \"\\n\")\n",
    "#test:\n",
    "#y = A[\"CourseWork_1\"].Q4_3_1_a_ans_Operator*A[\"CourseWork_1\"].Q4_3_1_data_x\n",
    "#print(y)"
   ]
  },
  {
   "cell_type": "code",
   "execution_count": 15,
   "id": "240ee3f2",
   "metadata": {},
   "outputs": [
    {
     "data": {
      "text/plain": [
       "35-element Vector{Float64}:\n",
       " -0.7120263375637099\n",
       " -0.3350809296111196\n",
       " -0.10569899740463622\n",
       " -0.7025129961596984\n",
       "  1.2830149847033867\n",
       " -0.7176318751925367\n",
       " -1.1166279172153384\n",
       "  1.3518746859672155\n",
       " -1.2785399384565972\n",
       "  0.5559971550784112\n",
       "  ⋮\n",
       " -0.2225617304775508\n",
       " -0.2588815665080058\n",
       " -1.0776861194782485\n",
       "  0.7674149491198085\n",
       " -0.8271655141893217\n",
       "  0.0850861512165227\n",
       "  0.8653510720115296\n",
       " -1.3106676748148585\n",
       "  0.050138419750105315"
      ]
     },
     "metadata": {},
     "output_type": "display_data"
    }
   ],
   "source": [
    "#test:\n",
    "A[\"CourseWork_1\"].Q4_3_1_a_ans_Operator*A[\"CourseWork_1\"].Q4_3_1_data_x"
   ]
  },
  {
   "cell_type": "markdown",
   "id": "03226854",
   "metadata": {},
   "source": [
    "### 1.(b)"
   ]
  },
  {
   "cell_type": "code",
   "execution_count": 88,
   "id": "fe66926f",
   "metadata": {},
   "outputs": [
    {
     "data": {
      "text/plain": [
       "35-element Vector{Float64}:\n",
       " -0.7120263375637099\n",
       " -0.3350809296111196\n",
       " -0.10569899740463622\n",
       " -0.7025129961596984\n",
       "  1.2830149847033867\n",
       " -0.7176318751925367\n",
       " -1.1166279172153384\n",
       "  1.3518746859672155\n",
       " -1.2785399384565972\n",
       "  0.5559971550784112\n",
       "  ⋮\n",
       " -0.2225617304775508\n",
       " -0.2588815665080058\n",
       " -1.0776861194782485\n",
       "  0.7674149491198085\n",
       " -0.8271655141893217\n",
       "  0.0850861512165227\n",
       "  0.8653510720115296\n",
       " -1.3106676748148585\n",
       "  0.050138419750105315"
      ]
     },
     "metadata": {},
     "output_type": "display_data"
    }
   ],
   "source": [
    "function Subsample(x,Omega)\n",
    "    output = zeros(length(Omega))\n",
    "    #loop through Omega and fill in y with x[omega[i]]\n",
    "    for i in 1:length(Omega)\n",
    "        output[i] = x[Omega[i]]\n",
    "    end \n",
    "    return output\n",
    "end\n",
    "\n",
    "\n",
    "#run the function to assign to answer\n",
    "#Q4_3_1_b_ans_y::Union{Missing,Vector}\n",
    "A[\"CourseWork_1\"].Q4_3_1_b_ans_y = Subsample(A[\"CourseWork_1\"].Q4_3_1_data_x,A[\"CourseWork_1\"].Q4_3_1_data_Omega)"
   ]
  },
  {
   "cell_type": "markdown",
   "id": "81d8188c",
   "metadata": {},
   "source": [
    "### 1.(c)"
   ]
  },
  {
   "cell_type": "code",
   "execution_count": 89,
   "id": "65eac935",
   "metadata": {},
   "outputs": [
    {
     "data": {
      "text/plain": [
       "90-element Vector{Float64}:\n",
       "  0.0\n",
       "  0.0\n",
       "  0.0\n",
       "  0.0\n",
       "  0.0\n",
       "  0.0\n",
       " -0.7120263375637099\n",
       " -0.3350809296111196\n",
       "  0.0\n",
       "  0.0\n",
       "  ⋮\n",
       "  0.0\n",
       "  0.0\n",
       "  0.0850861512165227\n",
       "  0.8653510720115296\n",
       "  0.0\n",
       "  0.0\n",
       " -1.3106676748148585\n",
       "  0.050138419750105315\n",
       "  0.0"
      ]
     },
     "metadata": {},
     "output_type": "display_data"
    }
   ],
   "source": [
    "function Subsample_adj(y,Omega,n)\n",
    "    z = zeros(n)\n",
    "    for i in 1:length(Omega)\n",
    "        z[Omega[i]] = y[i]\n",
    "    end\n",
    "    return z\n",
    "end\n",
    "\n",
    "#test:\n",
    "A[\"CourseWork_1\"].Q4_3_1_c_ans_z = Subsample_adj(A[\"CourseWork_1\"].Q4_3_1_b_ans_y,A[\"CourseWork_1\"].Q4_3_1_data_Omega,A[\"CourseWork_1\"].Q4_3_1_data_n)\n",
    "#Q4_3_1_c_ans_z::Union{Missing,Vector}\n",
    "\n"
   ]
  },
  {
   "cell_type": "markdown",
   "id": "7b10eb50",
   "metadata": {},
   "source": [
    "### 2.(a)"
   ]
  },
  {
   "cell_type": "code",
   "execution_count": 18,
   "id": "048b8657",
   "metadata": {},
   "outputs": [
    {
     "data": {
      "text/plain": [
       "([1.0 0.0 … 0.0 0.0; 0.0 1.0 … 0.0 0.0; … ; 0.0 0.0 … 1.0 0.0; 0.0 0.0 … 0.0 1.0], [1.0 0.0 … 0.0 0.0; 0.0 1.0 … 0.0 0.0; … ; 0.0 0.0 … 1.0 0.0; 0.0 0.0 … 0.0 1.0])"
      ]
     },
     "metadata": {},
     "output_type": "display_data"
    }
   ],
   "source": [
    "function Q4_3_2_a_ans(p, q)\n",
    "\n",
    "    output = zeros(p*q,p+q-1)\n",
    "    output_adj = zeros(p+q-1,p*q)\n",
    "    m = 1\n",
    "\n",
    "    for i in 1:q\n",
    "        for j in 1:p\n",
    "            output[m,i+j-1] = 1 #fill in ones into operator accordingly\n",
    "            m+=1 \n",
    "        end\n",
    "    end\n",
    "\n",
    "    return output, transpose(output)\n",
    "end\n",
    "\n",
    "\n",
    "#assign to answer\n",
    "A[\"CourseWork_1\"].Q4_3_2_a_ans_Operator, A[\"CourseWork_1\"].Q4_3_2_a_ans_AdjointOperator = \n",
    "Q4_3_2_a_ans(\n",
    "    A[\"CourseWork_1\"].Q4_3_2_data_p,\n",
    "    A[\"CourseWork_1\"].Q4_3_2_data_q\n",
    ")\n",
    "#Q4_3_2_a_ans_AdjointOperator::Union{Missing,Matrix}\n"
   ]
  },
  {
   "cell_type": "code",
   "execution_count": 19,
   "id": "8667da0e",
   "metadata": {},
   "outputs": [
    {
     "data": {
      "text/plain": [
       "63×93 Matrix{Float64}:\n",
       " -0.703016    0.767841    0.391556   …  -0.0652388  -1.13269   -1.02731\n",
       "  0.767841    0.391556    2.06689       -1.13269    -1.02731   -0.869131\n",
       "  0.391556    2.06689    -0.381678      -1.02731    -0.869131   2.03767\n",
       "  2.06689    -0.381678   -0.39857       -0.869131    2.03767    0.231659\n",
       " -0.381678   -0.39857     0.479802       2.03767     0.231659   0.779107\n",
       " -0.39857     0.479802   -2.06458    …   0.231659    0.779107  -2.85532\n",
       "  0.479802   -2.06458     0.311218       0.779107   -2.85532    1.61624\n",
       " -2.06458     0.311218   -1.60753       -2.85532     1.61624    0.888969\n",
       "  0.311218   -1.60753    -0.408357       1.61624     0.888969  -0.488583\n",
       " -1.60753    -0.408357    0.151226       0.888969   -0.488583   0.645388\n",
       "  ⋮                                  ⋱   ⋮                     \n",
       "  2.68556    -0.721596    1.71901       -0.102503    0.968977  -0.629898\n",
       " -0.721596    1.71901    -1.97256    …   0.968977   -0.629898  -0.592585\n",
       "  1.71901    -1.97256    -0.299998      -0.629898   -0.592585  -0.953948\n",
       " -1.97256    -0.299998    0.733415      -0.592585   -0.953948   1.67025\n",
       " -0.299998    0.733415   -0.0561198     -0.953948    1.67025   -1.51498\n",
       "  0.733415   -0.0561198  -0.0104026      1.67025    -1.51498    2.10365\n",
       " -0.0561198  -0.0104026  -0.583919   …  -1.51498     2.10365   -0.209115\n",
       " -0.0104026  -0.583919    0.68025        2.10365    -0.209115   1.53537\n",
       " -0.583919    0.68025     2.55052       -0.209115    1.53537   -2.15855"
      ]
     },
     "metadata": {},
     "output_type": "display_data"
    }
   ],
   "source": [
    "#test the operator\n",
    "vect = A[\"CourseWork_1\"].Q4_3_2_a_ans_Operator*A[\"CourseWork_1\"].Q4_3_2_data_x\n",
    "m = vect[:,:]\n",
    "reshape(m,63,93)\n",
    "#looking good"
   ]
  },
  {
   "cell_type": "code",
   "execution_count": 20,
   "metadata": {},
   "outputs": [
    {
     "data": {
      "text/plain": [
       "6850.4006511862335"
      ]
     },
     "metadata": {},
     "output_type": "display_data"
    }
   ],
   "source": [
    "#make vector x first\n",
    "vect_x = A[\"CourseWork_1\"].Q4_3_2_data_x\n",
    "\n",
    "#make a vector y for testing\n",
    "vect_y = vect_x\n",
    "\n",
    "#transform them individually\n",
    "vect_y_transform = A[\"CourseWork_1\"].Q4_3_2_a_ans_Operator*vect_y\n",
    "vect_x_transform = A[\"CourseWork_1\"].Q4_3_2_a_ans_Operator*vect_x\n",
    "\n",
    "#take inner product\n",
    "transpose(vect_x_transform)*vect_y_transform\n",
    "\n",
    "#6850.4006511862335"
   ]
  },
  {
   "cell_type": "code",
   "execution_count": 21,
   "id": "156d4a83",
   "metadata": {},
   "outputs": [
    {
     "data": {
      "text/plain": [
       "155-element Vector{Float64}:\n",
       "  -0.7030158807938457\n",
       "   1.535682022686232\n",
       "   1.1746691120748582\n",
       "   8.267564946627187\n",
       "  -1.9083909219122193\n",
       "  -2.3914211218080244\n",
       "   3.3586156917812717\n",
       " -16.51667312175439\n",
       "   2.800960902327336\n",
       " -16.07525425093906\n",
       "   ⋮\n",
       "  -5.6690849450876035\n",
       "  -4.740682869063179\n",
       "  -6.677637220012744\n",
       "  10.0215198055596\n",
       "  -7.574875373889979\n",
       "   8.414598040735248\n",
       "  -0.6273441973984029\n",
       "   3.0707426937953914\n",
       "  -2.1585486519157375"
      ]
     },
     "metadata": {},
     "output_type": "display_data"
    }
   ],
   "source": [
    "#now, test the original vector x times adjoint transform of transformed y\n",
    "vect_y_adj = A[\"CourseWork_1\"].Q4_3_2_a_ans_AdjointOperator*vect_y_transform\n",
    "vect_y_adj\n",
    "\n",
    "#6850.4006511862335"
   ]
  },
  {
   "cell_type": "markdown",
   "id": "ffef7d0e",
   "metadata": {},
   "source": [
    "### 2.(b)"
   ]
  },
  {
   "cell_type": "code",
   "execution_count": 22,
   "id": "dcf31960",
   "metadata": {},
   "outputs": [
    {
     "data": {
      "text/plain": [
       "63×93 Matrix{Float64}:\n",
       " -0.703016    0.767841    0.391556   …  -0.0652388  -1.13269   -1.02731\n",
       "  0.767841    0.391556    2.06689       -1.13269    -1.02731   -0.869131\n",
       "  0.391556    2.06689    -0.381678      -1.02731    -0.869131   2.03767\n",
       "  2.06689    -0.381678   -0.39857       -0.869131    2.03767    0.231659\n",
       " -0.381678   -0.39857     0.479802       2.03767     0.231659   0.779107\n",
       " -0.39857     0.479802   -2.06458    …   0.231659    0.779107  -2.85532\n",
       "  0.479802   -2.06458     0.311218       0.779107   -2.85532    1.61624\n",
       " -2.06458     0.311218   -1.60753       -2.85532     1.61624    0.888969\n",
       "  0.311218   -1.60753    -0.408357       1.61624     0.888969  -0.488583\n",
       " -1.60753    -0.408357    0.151226       0.888969   -0.488583   0.645388\n",
       "  ⋮                                  ⋱   ⋮                     \n",
       "  2.68556    -0.721596    1.71901       -0.102503    0.968977  -0.629898\n",
       " -0.721596    1.71901    -1.97256    …   0.968977   -0.629898  -0.592585\n",
       "  1.71901    -1.97256    -0.299998      -0.629898   -0.592585  -0.953948\n",
       " -1.97256    -0.299998    0.733415      -0.592585   -0.953948   1.67025\n",
       " -0.299998    0.733415   -0.0561198     -0.953948    1.67025   -1.51498\n",
       "  0.733415   -0.0561198  -0.0104026      1.67025    -1.51498    2.10365\n",
       " -0.0561198  -0.0104026  -0.583919   …  -1.51498     2.10365   -0.209115\n",
       " -0.0104026  -0.583919    0.68025        2.10365    -0.209115   1.53537\n",
       " -0.583919    0.68025     2.55052       -0.209115    1.53537   -2.15855"
      ]
     },
     "metadata": {},
     "output_type": "display_data"
    }
   ],
   "source": [
    "function Q4_3_2_b(p,q,x)\n",
    "    H = zeros(p*q,1)\n",
    "    idx = 1\n",
    "    for i in 1:q\n",
    "      for j in 1:p\n",
    "        H[idx] = x[i+j-1]\n",
    "        idx += 1 \n",
    "      end\n",
    "    end\n",
    "    return reshape(H,p,q)\n",
    "end\n",
    "\n",
    "#Q4_3_2_b_ans_H::Union{Missing,Matrix}\n",
    "A[\"CourseWork_1\"].Q4_3_2_b_ans_H = Q4_3_2_b(\n",
    "    A[\"CourseWork_1\"].Q4_3_2_data_p,\n",
    "    A[\"CourseWork_1\"].Q4_3_2_data_q,\n",
    "    A[\"CourseWork_1\"].Q4_3_2_data_x\n",
    ")\n",
    "\n"
   ]
  },
  {
   "cell_type": "markdown",
   "id": "4974e0f5",
   "metadata": {},
   "source": [
    "### 2.(c)"
   ]
  },
  {
   "cell_type": "code",
   "execution_count": 23,
   "id": "ece750ae",
   "metadata": {},
   "outputs": [
    {
     "data": {
      "text/plain": [
       "155-element Vector{Float64}:\n",
       "  -0.7030158807938457\n",
       "   1.535682022686232\n",
       "   1.1746691120748582\n",
       "   8.267564946627187\n",
       "  -1.9083909219122193\n",
       "  -2.3914211218080244\n",
       "   3.3586156917812717\n",
       " -16.51667312175439\n",
       "   2.800960902327336\n",
       " -16.075254250939064\n",
       "   ⋮\n",
       "  -5.6690849450876035\n",
       "  -4.740682869063179\n",
       "  -6.677637220012743\n",
       "  10.021519805559603\n",
       "  -7.574875373889979\n",
       "   8.414598040735248\n",
       "  -0.6273441973984029\n",
       "   3.0707426937953914\n",
       "  -2.1585486519157375"
      ]
     },
     "metadata": {},
     "output_type": "display_data"
    }
   ],
   "source": [
    "function Q4_3_2_c(p,q,H)\n",
    "    \n",
    "    output = zeros(p+q-1)\n",
    "    minpq = min(p,q)\n",
    "\n",
    "\n",
    "    #collect each term in matrixx Q4_3_2_b_ans_H\n",
    "    v = zeros(p+q-1)\n",
    "    for i in 1:p\n",
    "        v[i] = H[i,1]\n",
    "    end\n",
    "    for i in 1:q-1\n",
    "        v[p+i] = H[p,i+1]\n",
    "    end\n",
    "\n",
    "    help = zeros(p+q-1)\n",
    "    for i in 1:minpq\n",
    "        help[i] = i\n",
    "        help[p+q-i] = i\n",
    "    end\n",
    "    for i in minpq+1:p+q-minpq\n",
    "        help[i] = minpq\n",
    "    end\n",
    "\n",
    "    j = 0\n",
    "    for i in 1:p+q-1\n",
    "        output[i] = v[i] * help[i]\n",
    "    end\n",
    "\n",
    "\n",
    "    return output\n",
    "end\n",
    "\n",
    "A[\"CourseWork_1\"].Q4_3_2_c_ans_z = Q4_3_2_c(\n",
    "    A[\"CourseWork_1\"].Q4_3_2_data_p,\n",
    "    A[\"CourseWork_1\"].Q4_3_2_data_q,\n",
    "    A[\"CourseWork_1\"].Q4_3_2_b_ans_H\n",
    ")\n",
    "\n",
    "#Q4_3_2_c_ans_z::Union{Missing,Vector}\n"
   ]
  },
  {
   "cell_type": "code",
   "execution_count": 24,
   "id": "486b0e6c",
   "metadata": {},
   "outputs": [
    {
     "data": {
      "text/plain": [
       "155-element Vector{Float64}:\n",
       "  0.0\n",
       "  0.0\n",
       "  0.0\n",
       "  0.0\n",
       "  0.0\n",
       "  0.0\n",
       "  0.0\n",
       "  0.0\n",
       "  0.0\n",
       " -3.552713678800501e-15\n",
       "  ⋮\n",
       "  0.0\n",
       "  0.0\n",
       "  8.881784197001252e-16\n",
       "  1.7763568394002505e-15\n",
       "  0.0\n",
       "  0.0\n",
       "  0.0\n",
       "  0.0\n",
       "  0.0"
      ]
     },
     "metadata": {},
     "output_type": "display_data"
    }
   ],
   "source": [
    "A[\"CourseWork_1\"].Q4_3_2_c_ans_z - vect_y_adj"
   ]
  },
  {
   "cell_type": "markdown",
   "id": "28a8c4a0",
   "metadata": {},
   "source": [
    "### 2.(d)"
   ]
  },
  {
   "cell_type": "code",
   "execution_count": 25,
   "id": "89bfa2f7",
   "metadata": {},
   "outputs": [
    {
     "data": {
      "text/plain": [
       "155-element Vector{Float64}:\n",
       "  1.0\n",
       "  2.0\n",
       "  3.0\n",
       "  4.0\n",
       "  5.0\n",
       "  6.0\n",
       "  7.0\n",
       "  8.0\n",
       "  9.0\n",
       " 10.0\n",
       "  ⋮\n",
       "  9.0\n",
       "  8.0\n",
       "  7.0\n",
       "  6.000000000000001\n",
       "  5.0\n",
       "  4.0\n",
       "  3.0000000000000004\n",
       "  2.0\n",
       "  1.0"
      ]
     },
     "metadata": {},
     "output_type": "display_data"
    }
   ],
   "source": [
    "A[\"CourseWork_1\"].Q4_3_2_d_ans = A[\"CourseWork_1\"].Q4_3_2_c_ans_z ./ A[\"CourseWork_1\"].Q4_3_2_data_x\n",
    "\n",
    "\n",
    "#Q4_3_2_d_ans::Union{Missing,Vector}"
   ]
  },
  {
   "cell_type": "markdown",
   "id": "ce64ecc7",
   "metadata": {},
   "source": [
    "### 3.(a)"
   ]
  },
  {
   "cell_type": "code",
   "execution_count": 26,
   "id": "141b4d9c",
   "metadata": {},
   "outputs": [
    {
     "data": {
      "text/plain": [
       "([1.3824927555505953 0.0 … 0.0 0.0; -0.5103166046164548 1.3824927555505953 … 0.0 0.0; … ; 0.0 0.0 … -0.5954076268360049 1.4418340630763695; 0.0 0.0 … 0.0 -0.5954076268360049], [1.3824927555505953 -0.5103166046164548 … 0.0 0.0; 0.0 1.3824927555505953 … 0.0 0.0; … ; 0.0 0.0 … -0.5954076268360049 0.0; 0.0 0.0 … 1.4418340630763695 -0.5954076268360049])"
      ]
     },
     "metadata": {},
     "output_type": "display_data"
    }
   ],
   "source": [
    "function Convolution(x,h)\n",
    "    n=length(x)\n",
    "    m=length(h)\n",
    "    C_h=zeros(n+m-1,n)\n",
    "    for i in 1:(n+m-1)\n",
    "        for j in 1:n\n",
    "            if i-j>=0 && i-j<m\n",
    "                C_h[i,j]=h[i-j+1]\n",
    "            end\n",
    "        end\n",
    "    end\n",
    "    C_star=transpose(C_h)\n",
    "    return C_h,C_star\n",
    "end\n",
    "A[\"CourseWork_1\"].Q4_3_3_a_ans_Operator,A[\"CourseWork_1\"].Q4_3_3_a_ans_AdjointOperator=Convolution(A[\"CourseWork_1\"].Q4_3_3_data_x,A[\"CourseWork_1\"].Q4_3_3_data_h)"
   ]
  },
  {
   "cell_type": "markdown",
   "id": "103a86aa",
   "metadata": {},
   "source": [
    "### 3.(b)"
   ]
  },
  {
   "cell_type": "code",
   "execution_count": 27,
   "id": "e3304cfb",
   "metadata": {},
   "outputs": [
    {
     "data": {
      "text/plain": [
       "30-element Vector{Float64}:\n",
       "  0.34718847379108875\n",
       " -1.2037466115407542\n",
       "  1.2143237704132197\n",
       " -0.8471708509259193\n",
       "  0.21167344856642728\n",
       "  3.2408012713515277\n",
       "  0.6000918278214773\n",
       "  0.5409199682492275\n",
       "  2.3811466674810604\n",
       " -2.2237756862166327\n",
       "  ⋮\n",
       " -0.022969189555171243\n",
       " -2.9153057871158228\n",
       "  1.1226247740081816\n",
       " -2.280458054916075\n",
       "  0.8419779301022432\n",
       " -3.2712458940538798\n",
       "  1.8311920634633472\n",
       " -0.5352228267139241\n",
       " -0.04900675846325167"
      ]
     },
     "metadata": {},
     "output_type": "display_data"
    }
   ],
   "source": [
    "function find3by(x,h)\n",
    "    n=length(x)\n",
    "    m=length(h)\n",
    "    y=zeros(n+m-1)\n",
    "    for t in 1:n+m-1\n",
    "        for tau in max(1,t+1-n):min(t,m,n)\n",
    "            y[t]+=x[t+1-tau]*h[tau]\n",
    "        end\n",
    "    end\n",
    "    return y\n",
    "end\n",
    "A[\"CourseWork_1\"].Q4_3_3_b_ans_y=find3by(A[\"CourseWork_1\"].Q4_3_3_data_x,A[\"CourseWork_1\"].Q4_3_3_data_h)"
   ]
  },
  {
   "cell_type": "markdown",
   "id": "ec4ead04",
   "metadata": {},
   "source": [
    "### 3.(c)"
   ]
  },
  {
   "cell_type": "code",
   "execution_count": 28,
   "id": "73bfa4ff",
   "metadata": {},
   "outputs": [
    {
     "data": {
      "text/plain": [
       "17-element Vector{Float64}:\n",
       "  -0.6694613947132696\n",
       "  -6.8800835916907275\n",
       "   6.003516101366196\n",
       "   7.916746540405512\n",
       " -10.370132093904317\n",
       "  32.10665575363984\n",
       "   5.597247955218237\n",
       "   2.0833467022322765\n",
       "   0.9979008161259771\n",
       "  10.99806129575536\n",
       " -19.316733749680562\n",
       "  21.927495498115704\n",
       "  -6.660649428009175\n",
       "   8.339631950670569\n",
       " -18.033903348795953\n",
       "  20.5098866386054\n",
       " -17.519123657614617"
      ]
     },
     "metadata": {},
     "output_type": "display_data"
    }
   ],
   "source": [
    "function find3cz(y,h)\n",
    "    m=length(h)\n",
    "    n=length(y)-m+1\n",
    "    z=zeros(n)\n",
    "    for t in 1:n\n",
    "        for tau in 1:m\n",
    "            z[t]+=y[t+tau-1]*h[tau]\n",
    "        end\n",
    "    end\n",
    "    return z\n",
    "end\n",
    "Z_free = A[\"CourseWork_1\"].Q4_3_3_c_ans_z=find3cz(A[\"CourseWork_1\"].Q4_3_3_b_ans_y,A[\"CourseWork_1\"].Q4_3_3_data_h)"
   ]
  },
  {
   "cell_type": "markdown",
   "id": "abaf2c78",
   "metadata": {},
   "source": [
    "### 4.(a)"
   ]
  },
  {
   "cell_type": "code",
   "execution_count": 76,
   "id": "fa045fa7",
   "metadata": {},
   "outputs": [
    {
     "data": {
      "text/plain": [
       "([0.9500237407025717 2.2523378283132285 … -0.3355742560381149 -1.252622449487755; -1.252622449487755 0.9500237407025717 … -1.0779405511934164 -0.3355742560381149; … ; -0.7442819493207524 -0.5762169532073635 … 0.9500237407025717 2.2523378283132285; 2.2523378283132285 -0.7442819493207524 … -1.252622449487755 0.9500237407025717], [0.9500237407025717 -1.252622449487755 … -0.7442819493207524 2.2523378283132285; 2.2523378283132285 0.9500237407025717 … -0.5762169532073635 -0.7442819493207524; … ; -0.3355742560381149 -1.0779405511934164 … 0.9500237407025717 -1.252622449487755; -1.252622449487755 -0.3355742560381149 … 2.2523378283132285 0.9500237407025717])"
      ]
     },
     "metadata": {},
     "output_type": "display_data"
    }
   ],
   "source": [
    "function Cyclic(x,h)\n",
    "    n=length(x)\n",
    "    C_h=zeros(n,n)\n",
    "    for i in 1:n\n",
    "        for j in 1:n\n",
    "            k=i+1-j\n",
    "            if k<=0\n",
    "                k=n+k\n",
    "            end\n",
    "            C_h[i,k]=h[j]\n",
    "        end\n",
    "    end\n",
    "    C_star=transpose(C_h)\n",
    "    return C_h,C_star \n",
    "end\n",
    "A[\"CourseWork_1\"].Q4_3_4_a_ans_Operator,A[\"CourseWork_1\"].Q4_3_4_a_ans_AdjointOperator=Cyclic(A[\"CourseWork_1\"].Q4_3_4_data_x,A[\"CourseWork_1\"].Q4_3_4_data_h)"
   ]
  },
  {
   "cell_type": "markdown",
   "id": "2fcd436b",
   "metadata": {},
   "source": [
    "### 4.(b)"
   ]
  },
  {
   "cell_type": "code",
   "execution_count": 30,
   "id": "0a3a4a42",
   "metadata": {},
   "outputs": [
    {
     "data": {
      "text/plain": [
       "142-element Vector{Float64}:\n",
       "  -0.6505373784033195\n",
       "  17.62741253034949\n",
       "  -0.16099701667292926\n",
       "  15.91581493269945\n",
       "  13.078120412775444\n",
       "  11.240466792931896\n",
       " -20.39868062058624\n",
       "   0.2816123254526924\n",
       "  -3.172618311774635\n",
       "   0.32601355043535385\n",
       "   ⋮\n",
       "  -4.4971743585573565\n",
       "  -8.75309808871373\n",
       "   9.650725697430005\n",
       " -15.844227065531346\n",
       "   3.893551011069385\n",
       "  -2.552353170774595\n",
       "   6.962053168975658\n",
       "  -9.103331523740948\n",
       " -13.93975454296985"
      ]
     },
     "metadata": {},
     "output_type": "display_data"
    }
   ],
   "source": [
    "import DSP\n",
    "function find4by(x,h)\n",
    "    n=length(x)\n",
    "    y=zeros(n)\n",
    "    x_ex=repeat(x, outer=(3,))\n",
    "    y=DSP.conv(x_ex,h)\n",
    "    y_ans=y[n+1:2n]\n",
    "    return y_ans\n",
    "end\n",
    "A[\"CourseWork_1\"].Q4_3_4_b_ans_y = find4by(A[\"CourseWork_1\"].Q4_3_4_data_x,A[\"CourseWork_1\"].Q4_3_4_data_h)"
   ]
  },
  {
   "cell_type": "markdown",
   "id": "e098a3a8",
   "metadata": {},
   "source": [
    "### 4.(c)"
   ]
  },
  {
   "cell_type": "code",
   "execution_count": 31,
   "id": "d03e51e3",
   "metadata": {},
   "outputs": [
    {
     "data": {
      "text/plain": [
       "142-element Vector{Float64}:\n",
       " -285.4178889536644\n",
       " -213.8557786586268\n",
       "   20.825571705360137\n",
       "  115.47778899008901\n",
       "   61.440398215620576\n",
       " -364.2334472579603\n",
       "   34.18014406875943\n",
       "   50.06381340742321\n",
       "  -65.00215441817535\n",
       "  189.2023532884148\n",
       "    ⋮\n",
       " -188.01254045179405\n",
       "   67.43031876578027\n",
       "   89.61976611092582\n",
       "  -94.09717466451669\n",
       " -227.05493821917602\n",
       "  300.42608973802515\n",
       "    8.141598775171197\n",
       " -225.03428107948713\n",
       " -568.3838990156075"
      ]
     },
     "metadata": {},
     "output_type": "display_data"
    }
   ],
   "source": [
    "function find4cz(y,h)\n",
    "    n=length(y)\n",
    "    z=zeros(n)\n",
    "    h=reverse(h)\n",
    "    h_ex=repeat(h, outer=(3,))\n",
    "    z=DSP.conv(y,h_ex)\n",
    "    z_ans=z[n:2n-1]\n",
    "    return z_ans\n",
    "end\n",
    "A[\"CourseWork_1\"].Q4_3_4_c_ans_z=find4cz(A[\"CourseWork_1\"].Q4_3_4_b_ans_y,A[\"CourseWork_1\"].Q4_3_4_data_h)"
   ]
  },
  {
   "cell_type": "markdown",
   "id": "7d003fd1",
   "metadata": {},
   "source": [
    "### 5.(a)"
   ]
  },
  {
   "cell_type": "code",
   "execution_count": 21,
   "id": "2eda581b",
   "metadata": {},
   "outputs": [
    {
     "data": {
      "text/plain": [
       "(ComplexF64[7991.164705882353 + 0.0im -3910.3010220423803 - 118.45124788344212im … -973.8855047234892 + 141.34581545030696im -3910.3010220423803 + 118.45124788344212im; -2637.6352164198715 - 414.0041161037336im 957.7537395017742 + 94.45223731386422im … 798.124782536756 + 307.38513700791464im 793.0829983834138 - 53.28594654502898im; … ; -1043.7904716544533 + 361.30523924569184im 737.0745236966186 - 278.1445179789142im … 160.3770987030368 - 54.3496634065702im 669.8075516813126 - 205.11240051499183im; -2637.6352164198715 + 414.0041161037336im 793.0829983834138 + 53.28594654502898im … 787.9458401059704 - 479.0693778240184im 957.7537395017742 - 94.45223731386422im], ComplexF64[33.17647058823525 + 0.0im -20.304382996097743 - 2.547913451843277im … 13.218450597843688 + 9.53767103916979im -20.304382996097743 + 2.547913451843277im; 1.1761498993100856 - 14.410057649895519im 9.175202157078726 + 17.212898158882485im … 56.94905777747435 - 47.62593481259198im -48.806498188098516 + 38.4589659098732im; … ; -20.776731199914238 + 19.323919964404258im 15.260625167195736 - 12.433390098261027im … 7.349025830816853 + 6.873436199354451im 13.98806509147674 - 22.71894992360614im; 1.1761498993100856 + 14.410057649895519im -48.806498188098516 - 38.4589659098732im … 10.977029556417335 + 34.433043850437045im 9.175202157078726 - 17.212898158882485im], ComplexF64[0.0 + 0.0im, 0.0 + 0.0im, 0.0 + 0.0im, 0.0 + 0.0im, 0.0 + 0.0im, 0.0 + 0.0im, 0.0 + 0.0im, 0.0 + 0.0im, 0.0 + 0.0im, 0.0 + 0.0im  …  0.0 + 0.0im, 0.0 + 0.0im, 0.0 + 0.0im, 0.0 + 0.0im, 0.0 + 0.0im, 0.0 + 0.0im, 0.0 + 0.0im, 0.0 + 0.0im, 0.0 + 0.0im, 0.0 + 0.0im])"
      ]
     },
     "metadata": {},
     "output_type": "display_data"
    }
   ],
   "source": [
    "import FFTW\n",
    "function MRI(x,omega)\n",
    "    m,n=size(x)\n",
    "    O1= FFTW.fft(x)\n",
    "    O2= FFTW.fftshift(O1)\n",
    "    O3= zeros(ComplexF64,m,n)\n",
    "    for i in 1:m\n",
    "        for j in 1:n\n",
    "            if omega[i,j]==1\n",
    "                O3[i,j]=O2[i,j]\n",
    "            end\n",
    "        end\n",
    "    end\n",
    "    O3=vec(O3)\n",
    "    return O1,O2,O3\n",
    "end\n",
    "A[\"CourseWork_1\"].Q4_3_5_a_ans_O1,A[\"CourseWork_1\"].Q4_3_5_a_ans_O2,A[\"CourseWork_1\"].Q4_3_5_a_ans_O3=MRI(A[\"CourseWork_1\"].Q4_3_5_data_X,A[\"CourseWork_1\"].Q4_3_5_data_Omega)"
   ]
  },
  {
   "cell_type": "code",
   "execution_count": 23,
   "id": "c9636f15",
   "metadata": {},
   "outputs": [
    {
     "data": {
      "text/plain": [
       "64×64 Matrix{ComplexF64}:\n",
       "   33.1765+0.0im       -20.3044-2.54791im   …   -20.3044+2.54791im\n",
       "   1.17615-14.4101im     9.1752+17.2129im       -48.8065+38.459im\n",
       "  -20.7767-19.3239im    13.9881+22.7189im        15.2606+12.4334im\n",
       "  -28.0664+33.5859im  -0.845422-9.05155im         37.214-16.0234im\n",
       "   32.2943+39.2859im   -23.8243-10.4293im        31.8874-16.3302im\n",
       "   32.0808-46.5427im   -16.0245+24.8986im   …   -5.03033+10.7977im\n",
       " -0.757764-37.5057im    60.6989-8.79246im       -51.9326-0.272931im\n",
       "  -52.9163-9.482im     0.242136+14.1726im       -3.49592+12.7333im\n",
       "  -6.82045+33.3238im   -16.9439-6.30018im        51.5543-13.2841im\n",
       " -0.326936+25.2069im    -7.8674-33.7087im        9.64384-15.6537im\n",
       "          ⋮                                 ⋱  \n",
       " -0.326936-25.2069im    9.64384+15.6537im   …    -7.8674+33.7087im\n",
       "  -6.82045-33.3238im    51.5543+13.2841im       -16.9439+6.30018im\n",
       "  -52.9163+9.482im     -3.49592-12.7333im       0.242136-14.1726im\n",
       " -0.757764+37.5057im   -51.9326+0.272931im       60.6989+8.79246im\n",
       "   32.0808+46.5427im   -5.03033-10.7977im       -16.0245-24.8986im\n",
       "   32.2943-39.2859im    31.8874+16.3302im   …   -23.8243+10.4293im\n",
       "  -28.0664-33.5859im     37.214+16.0234im      -0.845422+9.05155im\n",
       "  -20.7767+19.3239im    15.2606-12.4334im        13.9881-22.7189im\n",
       "   1.17615+14.4101im   -48.8065-38.459im          9.1752-17.2129im"
      ]
     },
     "metadata": {},
     "output_type": "display_data"
    }
   ],
   "source": [
    "A[\"CourseWork_1\"].Q4_3_5_a_ans_O2"
   ]
  },
  {
   "cell_type": "markdown",
   "id": "f24d4b75",
   "metadata": {},
   "source": [
    "### 5.(b)"
   ]
  },
  {
   "cell_type": "code",
   "execution_count": 24,
   "id": "373798ec",
   "metadata": {},
   "outputs": [
    {
     "data": {
      "text/plain": [
       "(ComplexF64[0.0 + 0.0im 0.0 + 0.0im … 0.0 + 0.0im 0.0 + 0.0im; 0.0 + 0.0im 0.0 + 0.0im … 0.0 + 0.0im 0.0 + 0.0im; … ; 0.0 + 0.0im 0.0 + 0.0im … 0.0 + 0.0im 0.0 + 0.0im; 0.0 + 0.0im 0.0 + 0.0im … 0.0 + 0.0im 0.0 + 0.0im], ComplexF64[0.0 + 0.0im 0.0 + 0.0im … 0.0 + 0.0im 0.0 + 0.0im; 0.0 + 0.0im 0.0 + 0.0im … 0.0 + 0.0im 0.0 + 0.0im; … ; 0.0 + 0.0im 0.0 + 0.0im … 0.0 + 0.0im 0.0 + 0.0im; 0.0 + 0.0im 0.0 + 0.0im … 0.0 + 0.0im 0.0 + 0.0im], ComplexF64[2.255140518769849e-16 + 2.0122792321330962e-16im -4.644782429379226e-18 + 9.712748595216184e-17im … 1.1478712669902975e-16 + 2.4177782532121835e-17im -8.573952893499919e-17 + 2.1693249916432995e-17im; 1.8388068845354155e-16 + 1.0928757898653885e-16im 1.5839194818615776e-16 + 2.1058684187257736e-17im … 1.732760322957228e-17 - 1.5680042089034587e-17im 1.199917696041167e-16 - 3.2370010532625794e-17im; … ; -0.0035485958710392528 + 0.005846900419560241im 0.0037633025336726105 - 0.0036305071681237274im … -0.003357022455418664 - 0.000297847632421272im -0.0025552694932896134 - 0.006565635481545086im; 0.0006262927476802828 - 0.0005108270146735785im 0.0008544302781459285 + 0.0008997128299725384im … 8.163017108505288e-5 - 0.000777191923621965im 0.0005856706848615946 + 0.00037512778263018424im])"
      ]
     },
     "metadata": {},
     "output_type": "display_data"
    }
   ],
   "source": [
    "import FFTW\n",
    "function IvMRI(y,omega)\n",
    "    m,n=size(omega)\n",
    "    O1=reshape(y,m,n)\n",
    "    O2=FFTW.ifftshift(O1)\n",
    "    O3=FFTW.ifft(O2)\n",
    "    return O1,O2,O3\n",
    "end\n",
    "A[\"CourseWork_1\"].Q4_3_5_b_ans_O1,A[\"CourseWork_1\"].Q4_3_5_b_ans_O2,A[\"CourseWork_1\"].Q4_3_5_b_ans_O3=IvMRI(A[\"CourseWork_1\"].Q4_3_5_a_ans_O3,A[\"CourseWork_1\"].Q4_3_5_data_Omega)"
   ]
  },
  {
   "cell_type": "markdown",
   "id": "492be364",
   "metadata": {},
   "source": [
    "## 5.1. The Netflix Problem"
   ]
  },
  {
   "cell_type": "markdown",
   "id": "c33fdbea",
   "metadata": {},
   "source": [
    "### 1.(a)"
   ]
  },
  {
   "cell_type": "code",
   "execution_count": 190,
   "id": "d6a2ace5",
   "metadata": {},
   "outputs": [
    {
     "ename": "ArgumentError",
     "evalue": "ArgumentError: number of columns of each array must match (got (10, 458))",
     "output_type": "error",
     "traceback": [
      "ArgumentError: number of columns of each array must match (got (10, 458))\n",
      "\n",
      "Stacktrace:\n",
      " [1] _typed_vcat(#unused#::Type{Float64}, A::Tuple{Matrix{Float64}, Adjoint{Float64, Vector{Float64}}})\n",
      "   @ Base .\\abstractarray.jl:1689\n",
      " [2] typed_vcat\n",
      "   @ .\\abstractarray.jl:1703 [inlined]\n",
      " [3] vcat\n",
      "   @ C:\\Users\\honan\\AppData\\Local\\Programs\\Julia-1.9.3\\share\\julia\\stdlib\\v1.9\\LinearAlgebra\\src\\special.jl:416 [inlined]\n",
      " [4] update_V(y::Vector{Float64}, Omega::Matrix{Bool}, U::Matrix{Float64})\n",
      "   @ Main d:\\13_Imperial College London\\Autumn Semester\\00_Topics in Large Dimensional Data Processing\\CW1\\DP-CW1-CID01260366.ipynb:16\n",
      " [5] top-level scope\n",
      "   @ d:\\13_Imperial College London\\Autumn Semester\\00_Topics in Large Dimensional Data Processing\\CW1\\DP-CW1-CID01260366.ipynb:31"
     ]
    }
   ],
   "source": [
    "function update_V(y, Omega, U)\n",
    "    #Let the operator matrix be M (which is actually the observation matrix)\n",
    "    m , n = size(Omega)\n",
    "    r = size(U,2)\n",
    "    k = 1   #for incrementing through y\n",
    "    #initialize output\n",
    "    V_new = zeros(r,n)\n",
    "    \n",
    "    #NOTE: m = height of m, n = height of V\n",
    "    for j in 1:n    #along each column of omega same column = same v\n",
    "        M_temp = zeros(1,r)\n",
    "        little_y = vec([])\n",
    "        for i in 1:m        #along each row of omega\n",
    "            if Omega[i,j] == 1\n",
    "                append!(little_y, y[k])\n",
    "                M_temp = [M_temp;U[i,:]']\n",
    "                k+=1\n",
    "            end\n",
    "        end\n",
    "        M_temp = M_temp[2:end,:]\n",
    "        V_col = (inv(M_temp'M_temp))* M_temp' * little_y \n",
    "        V_new[:,j] = V_col\n",
    "    end\n",
    "\n",
    "    return V_new'\n",
    "end\n",
    "\n",
    "\n",
    "\n",
    "\n",
    "    A[\"CourseWork_1\"].Q5_1_a_ans_V = \n",
    "    update_V(\n",
    "        A[\"CourseWork_1\"].Q5_1_data_y,\n",
    "        A[\"CourseWork_1\"].Q5_1_data_Omega,\n",
    "        A[\"CourseWork_1\"].Q5_1_data_Uini\n",
    "    )\n",
    "\n"
   ]
  },
  {
   "cell_type": "markdown",
   "id": "a40dfed0",
   "metadata": {},
   "source": [
    "### 1.(b)"
   ]
  },
  {
   "cell_type": "code",
   "execution_count": 195,
   "id": "852fa07b",
   "metadata": {},
   "outputs": [],
   "source": [
    "function update_U(y, Omega, V)\n",
    "    #Let the operator matrix be M (which is actually the observation matrix)\n",
    "    m , n = size(Omega)\n",
    "    r = size(V,2)\n",
    "    V = V'  #make v easier to work on\n",
    "    #initialize output\n",
    "    U_new = zeros(m,r)\n",
    "\n",
    "    #reshape y because we are workign on a different index\n",
    "\n",
    "    \n",
    "    #NOTE: m = height of m, n = height of V\n",
    "    for i in 1:m    \n",
    "        M_temp = zeros(r,1)\n",
    "        little_y = vec([])\n",
    "        for j in 1:n        \n",
    "            if Omega[i,j] == 1\n",
    "                idx = sum(Omega[:,1:n-1]) + sum(Omega[1:m,n])\n",
    "                append!(little_y, y[idx])\n",
    "                #M_temp = [M_temp:V[:,j]]\n",
    "                #k+=1\n",
    "            end\n",
    "        end\n",
    "        #M_temp = M_temp[2:end,:]\n",
    "        #V_col = (inv(M_temp'M_temp))* M_temp' * little_y \n",
    "        #V_new[:,j] = V_col\n",
    "    end\n",
    "\n",
    "    \n",
    "    \n",
    "    return \n",
    "end\n",
    "\n",
    "\n",
    "\n",
    "\n",
    "    #A[\"CourseWork_1\"].Q5_1_b_ans_U= \n",
    "    update_U(\n",
    "        A[\"CourseWork_1\"].Q5_1_data_y,\n",
    "        A[\"CourseWork_1\"].Q5_1_data_Omega,\n",
    "        A[\"CourseWork_1\"].Q5_1_a_ans_V\n",
    "    )\n",
    "\n"
   ]
  },
  {
   "cell_type": "markdown",
   "id": "b4acd99e",
   "metadata": {},
   "source": [
    "### 1.(c)"
   ]
  },
  {
   "cell_type": "code",
   "execution_count": null,
   "id": "a6110d6d",
   "metadata": {},
   "outputs": [],
   "source": [
    "\n",
    "function alternating_minimization(num_iterations, U0, y, Omega, rank_X)\n",
    "    U_i = U0\n",
    "    # Dimensions of U0\n",
    "    m, r = size(U0)\n",
    "    \n",
    "\n",
    "    # Initialize V with random values (you can adjust this)\n",
    "    V_i = randn(r, size(Omega, 2))\n",
    "    \n",
    "    \n",
    "    for i in 1:num_iterations\n",
    "        V_i = update_V(U_i, y, Omega, rank_X)\n",
    "        U_i = update_U(U_i, V_i, y, Omega, rank_X)\n",
    "    end\n",
    "    #print(\"check\")\n",
    "    return U_i * V_i\n",
    "end\n",
    "other_y= alternating_minimization(10,U_ini,y,subsampling_operator,10)\n",
    "observed_values = other_y[indices]\n",
    "observed_vector = Vector(observed_values)\n",
    "println(observed_vector)\n",
    "println(observed_values)\n",
    "#print(U_ini-new_U)\n",
    "#println(observed_vector)"
   ]
  },
  {
   "cell_type": "markdown",
   "id": "17c72a40",
   "metadata": {},
   "source": [
    "## 5.2. Estimation Accuracy"
   ]
  },
  {
   "cell_type": "markdown",
   "id": "452bb2ae",
   "metadata": {},
   "source": [
    "### 1.(a)"
   ]
  },
  {
   "cell_type": "code",
   "execution_count": null,
   "id": "04490d9a",
   "metadata": {},
   "outputs": [],
   "source": []
  },
  {
   "cell_type": "markdown",
   "id": "d7825a65",
   "metadata": {},
   "source": [
    "### 1.(c)"
   ]
  },
  {
   "cell_type": "code",
   "execution_count": null,
   "id": "1cfd159e",
   "metadata": {},
   "outputs": [],
   "source": []
  },
  {
   "cell_type": "markdown",
   "id": "55d7cb6c",
   "metadata": {},
   "source": [
    "### 1.(b)"
   ]
  },
  {
   "cell_type": "code",
   "execution_count": null,
   "id": "2aa3918e",
   "metadata": {},
   "outputs": [],
   "source": []
  },
  {
   "cell_type": "markdown",
   "id": "ba47ad79",
   "metadata": {},
   "source": [
    "## 5.3. LS Recovery from Convolution"
   ]
  },
  {
   "cell_type": "markdown",
   "id": "78fbc144",
   "metadata": {},
   "source": [
    "### 1.(a)"
   ]
  },
  {
   "cell_type": "code",
   "execution_count": 106,
   "id": "0273cacb",
   "metadata": {},
   "outputs": [
    {
     "data": {
      "text/plain": [
       "([58.58295690708637 16.749593606704543 … -8.543642336511715 2.944019978314911; 16.749593606704543 81.97414348242744 … -1.7888451225898336 3.382344204571132; … ; -8.543642336511715 -1.7888451225898336 … 70.1371201046607 11.802724893187971; 2.944019978314911 3.382344204571132 … 11.802724893187971 52.156062838153986], [-69.53828854742798, -173.70282395222205, 68.02940717907882, 87.82656217754106, 105.01011580268937, -82.29628114500485, 27.990285549601616, 35.80108482638736, 47.63359426380435, -90.44024974873224  …  51.964166381064956, 22.13599268170875, -36.48992152928214, -11.505692973005765, -194.32868159388516, -116.12801383503677, 26.703281592845098, 117.11984970259122, 122.38418026362703, -98.38141712432262])"
      ]
     },
     "metadata": {},
     "output_type": "display_data"
    }
   ],
   "source": [
    "function find_Ab(y, h, Omega, alpha, n)\n",
    "    #NOTE: dimension of x is n, which is the same as h\n",
    "    #define our output\n",
    "    A = zeros(n,n)\n",
    "    b = zeros(n)\n",
    "    #dummy varialbe x for getting cyclic convolution operator\n",
    "    x = zeros(n)\n",
    "    C1, C1_adj = Cyclic(x,h)\n",
    "    S1, S1_adj = SubSampl_Op(n, Omega)\n",
    "    #M is the overall operator on x\n",
    "    M = S1 * C1\n",
    "\n",
    "    A = transpose(M) * M - alpha * Matrix(I, n, n)\n",
    "    b = - transpose(y) * M\n",
    "\n",
    "    return A, transpose(b)\n",
    "     \n",
    "end\n",
    "\n",
    "A[\"CourseWork_1\"].Q5_3_1_a_ans_A, A[\"CourseWork_1\"].Q5_3_1_a_ans_b = find_Ab(\n",
    "    A[\"CourseWork_1\"].Q5_3_data_y,\n",
    "    A[\"CourseWork_1\"].Q5_3_data_h,\n",
    "    A[\"CourseWork_1\"].Q5_3_data_Omega, \n",
    "    A[\"CourseWork_1\"].Q5_3_data_alpha, \n",
    "    A[\"CourseWork_1\"].Q5_3_data_n)\n",
    "\n",
    "\n",
    "#Q5_3_1_a_ans_A\n",
    "#Q5_3_1_a_ans_b"
   ]
  },
  {
   "cell_type": "markdown",
   "id": "64365f71",
   "metadata": {},
   "source": [
    "### 1(b)"
   ]
  },
  {
   "cell_type": "code",
   "execution_count": 112,
   "id": "20477c47",
   "metadata": {},
   "outputs": [
    {
     "data": {
      "text/plain": [
       "135-element Vector{Float64}:\n",
       "  0.34094877180210825\n",
       " -0.8600716274528826\n",
       "  0.12798927500187035\n",
       "  0.21133650441099414\n",
       "  0.8267088419110429\n",
       " -0.539878594671811\n",
       " -0.09827220205722605\n",
       " -0.11154584086027951\n",
       " -0.18505371860852823\n",
       " -0.2077749308133293\n",
       "  ⋮\n",
       "  0.6250567685259288\n",
       "  0.15620810996582782\n",
       " -0.43565782549336235\n",
       " -1.2888760234481316\n",
       " -0.4316232712678664\n",
       "  0.2884048284631091\n",
       "  1.2279036271681685\n",
       "  0.6660082123597082\n",
       " -0.43378982909887603"
      ]
     },
     "metadata": {},
     "output_type": "display_data"
    }
   ],
   "source": [
    "A[\"CourseWork_1\"].Q5_3_1_b_ans_x = A[\"CourseWork_1\"].Q5_3_1_a_ans_A\\A[\"CourseWork_1\"].Q5_3_1_a_ans_b"
   ]
  },
  {
   "cell_type": "markdown",
   "id": "4ef04fd2",
   "metadata": {},
   "source": [
    "### 2.(a)"
   ]
  },
  {
   "cell_type": "code",
   "execution_count": 108,
   "id": "e6c9ffae",
   "metadata": {},
   "outputs": [
    {
     "data": {
      "text/plain": [
       "-650.0147060148207"
      ]
     },
     "metadata": {},
     "output_type": "display_data"
    }
   ],
   "source": [
    "function mat_free_uAv(u,v,y,h,Omega,alpha,n)\n",
    "    #uAv is basically:\n",
    "    #u' * cyc_conv * subsamp * sub_sam * cyc_conv * v - alpha * u * v\n",
    "    # or: u' * h' * P_Omega' * P_Omega * h * v - alpha *u' * v\n",
    "\n",
    "    #get h*v\n",
    "    Hv = zeros(n) \n",
    "    Hv = find4by(h,v)       #call function in 4.4\n",
    "    #get Phv\n",
    "    PHv = Subsample(Hv, Omega)      #call function in 4.1\n",
    "    #get PtPhv\n",
    "    PtPHv = Subsample_adj(PHv,Omega,n)  #call function in 4.1\n",
    "    #get htPtPhv\n",
    "    HtPtPHv = find4cz(PtPHv,h)      #call function in 4.4 \n",
    "    #get uHtPtPhv\n",
    "    uHtPtPhv = u' * HtPtPHv\n",
    "    #get alpha * u * v\n",
    "    ualphav = alpha * u' *v\n",
    "    uAv = uHtPtPhv - ualphav  \n",
    "\n",
    "    return uAv\n",
    "end\n",
    "\n",
    "function mat_free_bu(u,y,h,Omega,n)\n",
    "    #bu = -y' * P * H * u\n",
    "    \n",
    "    #we apply each operators in function form one by one\n",
    "    Hu = find4by(h,u)\n",
    "    PHu = Subsample(Hu, Omega)\n",
    "    \n",
    "    #then multiply by y\n",
    "    yPHu = y'*PHu\n",
    "\n",
    "    bu = -yPHu\n",
    "    return bu\n",
    "end\n",
    "\n",
    "# Assign to answer\n",
    "A[\"CourseWork_1\"].Q5_3_2_a_ans_uAv = \n",
    "mat_free_uAv(\n",
    "     A[\"CourseWork_1\"].Q5_3_data_u,\n",
    "     A[\"CourseWork_1\"].Q5_3_data_v,\n",
    "     A[\"CourseWork_1\"].Q5_3_data_y,\n",
    "     A[\"CourseWork_1\"].Q5_3_data_h,\n",
    "     A[\"CourseWork_1\"].Q5_3_data_Omega,\n",
    "     A[\"CourseWork_1\"].Q5_3_data_alpha,\n",
    "     A[\"CourseWork_1\"].Q5_3_data_n\n",
    " )\n",
    "\n",
    " A[\"CourseWork_1\"].Q5_3_2_a_ans_bu = \n",
    " mat_free_bu(\n",
    "     A[\"CourseWork_1\"].Q5_3_data_u,\n",
    "     A[\"CourseWork_1\"].Q5_3_data_y,\n",
    "     A[\"CourseWork_1\"].Q5_3_data_h,\n",
    "     A[\"CourseWork_1\"].Q5_3_data_Omega,\n",
    "     A[\"CourseWork_1\"].Q5_3_data_n\n",
    " )\n",
    "\n",
    "#Q5_3_2_a_ans_uAv\n",
    "#Q5_3_2_a_ans_bu\n"
   ]
  },
  {
   "cell_type": "markdown",
   "id": "9068c40f",
   "metadata": {},
   "source": [
    "### 2.(b)"
   ]
  },
  {
   "cell_type": "code",
   "execution_count": 111,
   "id": "398adbdc",
   "metadata": {},
   "outputs": [
    {
     "data": {
      "text/plain": [
       "135-element Vector{Float64}:\n",
       "  0.3409487692315657\n",
       " -0.8600716162927828\n",
       "  0.12798926967868604\n",
       "  0.2113365094192934\n",
       "  0.8267088344229716\n",
       " -0.5398785913997967\n",
       " -0.09827221197580181\n",
       " -0.11154584656995407\n",
       " -0.18505373317293858\n",
       " -0.20777493191484575\n",
       "  ⋮\n",
       "  0.6250567739989742\n",
       "  0.15620811310518012\n",
       " -0.43565782910179107\n",
       " -1.2888760206058443\n",
       " -0.4316232618307871\n",
       "  0.28840482745417334\n",
       "  1.2279036230756923\n",
       "  0.6660082036887459\n",
       " -0.43378983608705834"
      ]
     },
     "metadata": {},
     "output_type": "display_data"
    }
   ],
   "source": [
    "function iterate_solve(A,b)\n",
    "\n",
    "    \n",
    "    Op = LinearOperators.LinearOperator(A)  \n",
    "    x = cg(Op, b)\n",
    "    return x\n",
    "     \n",
    "end\n",
    "\n",
    "A[\"CourseWork_1\"].Q5_3_2_b_ans_x = \n",
    "iterate_solve(\n",
    "    A[\"CourseWork_1\"].Q5_3_1_a_ans_A,\n",
    "    A[\"CourseWork_1\"].Q5_3_1_a_ans_b\n",
    ")"
   ]
  },
  {
   "cell_type": "markdown",
   "id": "88d01763",
   "metadata": {},
   "source": [
    "## 5.4. LS Recovery for MRI"
   ]
  },
  {
   "cell_type": "markdown",
   "id": "3956e602",
   "metadata": {},
   "source": [
    "### 1.(a)"
   ]
  },
  {
   "cell_type": "code",
   "execution_count": 140,
   "id": "c7a8699d",
   "metadata": {},
   "outputs": [
    {
     "data": {
      "text/plain": [
       "135-element Vector{Float64}:\n",
       " -0.3409487692315657\n",
       "  0.8600716162927828\n",
       " -0.12798926967868604\n",
       " -0.2113365094192934\n",
       " -0.8267088344229716\n",
       "  0.5398785913997967\n",
       "  0.09827221197580181\n",
       "  0.11154584656995407\n",
       "  0.18505373317293858\n",
       "  0.20777493191484575\n",
       "  ⋮\n",
       " -0.6250567739989742\n",
       " -0.15620811310518012\n",
       "  0.43565782910179107\n",
       "  1.2888760206058443\n",
       "  0.4316232618307871\n",
       " -0.28840482745417334\n",
       " -1.2279036230756923\n",
       " -0.6660082036887459\n",
       "  0.43378983608705834"
      ]
     },
     "metadata": {},
     "output_type": "display_data"
    }
   ],
   "source": []
  },
  {
   "cell_type": "markdown",
   "id": "753b6f32",
   "metadata": {},
   "source": [
    "### 1.(b)"
   ]
  },
  {
   "cell_type": "code",
   "execution_count": null,
   "id": "7f5c5b99",
   "metadata": {},
   "outputs": [],
   "source": []
  }
 ],
 "metadata": {
  "kernelspec": {
   "display_name": "Julia 1.9.3",
   "language": "julia",
   "name": "julia-1.9"
  },
  "language_info": {
   "file_extension": ".jl",
   "mimetype": "application/julia",
   "name": "julia",
   "version": "1.9.3"
  }
 },
 "nbformat": 4,
 "nbformat_minor": 5
}

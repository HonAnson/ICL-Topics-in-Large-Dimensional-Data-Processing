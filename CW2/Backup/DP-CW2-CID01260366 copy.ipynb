{
 "cells": [
  {
   "cell_type": "markdown",
   "id": "5a6b0940",
   "metadata": {},
   "source": [
    "# Coursework 2\n",
    "\n",
    "### PLAGIARISM/COLLUSION DECLARATION\n",
    "\n",
    " \n",
    "\n",
    "Coursework submitted for assessment must be the original work of you and your group. Assignments are subjected to regular checks for plagiarism and/or collusion. Plagiarism is the presentation of another person’s thoughts or words (those outside your group) as if they were your own. Collusion involves obtaining help from someone outside your group to complete your work. In preparing your coursework, you should not seek help, or copy from any other person or source, including the\n",
    "\n",
    "Internet, without proper and explicit acknowledgement.\n",
    "\n",
    " \n",
    "\n",
    "There is a procedure in place for you to declare individual contributions within your group for courswork. You must declare the contributions fairly and accurately.\n",
    "\n",
    " \n",
    "\n",
    "You must not disclose your solutions or insights related to coursework with anyone else, including future students or the Internet.\n",
    "\n",
    " \n",
    "\n",
    "By acknowledging the the statements above, you are declaring that both this and all subsequent pieces of coursework are, and will remain, the original work of you and your group.\n",
    "\n",
    " \n",
    "\n",
    "* Submissions will not be accepted without the aforementioned declaration.\n",
    "\n",
    " \n",
    "\n",
    "* Members of a group are deemed to have collective responsibility for the integrity for work submitted and are liable for any penalty imposed, proportionate to their contributions."
   ]
  },
  {
   "cell_type": "code",
   "execution_count": 1,
   "id": "156ebb80",
   "metadata": {},
   "outputs": [],
   "source": [
    "using JLD2,FileIO\n",
    "using LinearAlgebra\n",
    "using Wavelets\n",
    "using FFTW"
   ]
  },
  {
   "cell_type": "code",
   "execution_count": 2,
   "id": "b570716e",
   "metadata": {},
   "outputs": [
    {
     "data": {
      "text/plain": [
       "CourseWork_1"
      ]
     },
     "metadata": {},
     "output_type": "display_data"
    }
   ],
   "source": [
    "# Run this code before you start doing the coursework\n",
    "\n",
    "Base.@kwdef mutable struct CourseWork_1\n",
    "    \n",
    "    CID::Int\n",
    "    Plagiarism_declare::Union{Missing,Bool}\n",
    "    Demo_willing::Union{Missing,Bool}\n",
    "    \n",
    "    # 6.1 Proximal Operator\n",
    "    \n",
    "    Q6_1_a_data_A::Matrix\n",
    "    Q6_1_a_data_b::Vector\n",
    "    Q6_1_a_data_z::Vector\n",
    "    Q6_1_a_data_gamma::Float64\n",
    "    \n",
    "    Q6_1_a_ans_x::Union{Missing,Vector}\n",
    "    \n",
    "    Q6_1_b_data_z::Vector\n",
    "    Q6_1_b_data_a::Float64\n",
    "    Q6_1_b_data_b::Float64\n",
    "    Q6_1_b_data_gamma::Float64\n",
    "    \n",
    "    Q6_1_b_ans_x::Union{Missing,Vector}\n",
    "    \n",
    "    Q6_1_c_data_z::Vector\n",
    "    Q6_1_c_data_k::Int\n",
    "    Q6_1_c_data_gamma::Float64\n",
    "    \n",
    "    Q6_1_c_ans_x::Union{Missing,Vector}\n",
    "    \n",
    "    Q6_1_d_data_z::Vector\n",
    "    Q6_1_d_data_gamma::Float64\n",
    "    \n",
    "    Q6_1_d_ans_x::Union{Missing,Vector}\n",
    "    \n",
    "    Q6_1_e_data_Z::Matrix\n",
    "    Q6_1_e_data_r::Int\n",
    "    Q6_1_e_data_gamma::Float64\n",
    "    \n",
    "    Q6_1_e_ans_X::Union{Missing,Matrix}\n",
    "    \n",
    "    Q6_1_f_data_Z::Matrix\n",
    "    Q6_1_f_data_gamma::Float64\n",
    "    \n",
    "    Q6_1_f_ans_X::Union{Missing,Matrix}\n",
    "    \n",
    "    Q6_1_g_data_Z::Matrix\n",
    "    Q6_1_g_data_gamma::Float64\n",
    "    \n",
    "    Q6_1_g_ans_X::Union{Missing,Matrix}\n",
    "    \n",
    "    Q6_1_h_data_z::Vector\n",
    "    Q6_1_h_data_gamma::Float64\n",
    "    \n",
    "    Q6_1_h_ans_x::Union{Missing,Vector}\n",
    "    \n",
    "    # 6.2 Proximal operators related to ℓ1-norm\n",
    "    \n",
    "    Q6_2_a_data_z::Vector\n",
    "    Q6_2_a_data_gamma::Float64\n",
    "    Q6_2_a_data_lambda::Float64\n",
    "    \n",
    "    Q6_2_a_ans_x::Union{Missing,Vector}\n",
    "    \n",
    "    Q6_2_b_data_z::Vector\n",
    "    Q6_2_b_data_a::Vector\n",
    "    Q6_2_b_data_gamma::Float64\n",
    "    Q6_2_b_data_lambda::Float64\n",
    "    \n",
    "    Q6_2_b_ans_x::Union{Missing,Vector}\n",
    "    \n",
    "    Q6_2_c_data_z::Vector\n",
    "    Q6_2_c_data_U::Matrix\n",
    "    Q6_2_c_data_gamma::Float64\n",
    "    Q6_2_c_data_lambda::Float64\n",
    "    \n",
    "    Q6_2_c_ans_x::Union{Missing,Vector}\n",
    "    \n",
    "    Q6_2_d_data_z::Vector\n",
    "    Q6_2_d_data_U::Matrix\n",
    "    Q6_2_d_data_gamma::Float64\n",
    "    Q6_2_d_data_lambda::Float64\n",
    "    \n",
    "    Q6_2_d_ans_x::Union{Missing,Vector}\n",
    "    \n",
    "    # 7.1 Greedy Algorithms\n",
    "    \n",
    "    Q7_1_1_data_y::Vector\n",
    "    Q7_1_1_data_A::Matrix\n",
    "    Q7_1_1_data_S::Int\n",
    "    \n",
    "    Q7_1_1_ans_x::Union{Missing,Vector}\n",
    "    \n",
    "    Q7_1_2_data_y::Vector\n",
    "    Q7_1_2_data_A::Matrix\n",
    "    Q7_1_2_data_S::Int\n",
    "    \n",
    "    Q7_1_2_ans_x::Union{Missing,Vector}\n",
    "    \n",
    "    Q7_1_3_data_y::Vector\n",
    "    Q7_1_3_data_A::Matrix\n",
    "    Q7_1_3_data_S::Int\n",
    "    \n",
    "    Q7_1_3_ans_x::Union{Missing,Vector}\n",
    "    \n",
    "    # 7.2 Proximal Gradient Method\n",
    "    \n",
    "    Q7_2_1_data_z::Vector\n",
    "    Q7_2_1_data_xini::Vector\n",
    "    Q7_2_1_data_A::Matrix\n",
    "    Q7_2_1_data_lambda::Float64\n",
    "    Q7_2_1_data_gamma::Float64\n",
    "    \n",
    "    Q7_2_1_ans_xhat::Union{Missing,Vector}\n",
    "    Q7_2_1_ans_subgradient::Union{Missing,Vector}\n",
    "    \n",
    "    Q7_2_2_data_z::Vector\n",
    "    Q7_2_2_data_A::Matrix\n",
    "    Q7_2_2_data_lambda::Float64\n",
    "    \n",
    "    Q7_2_2_ans_objfun::Union{Missing,Vector}\n",
    "    \n",
    "    # 7.3 MRI CS Recovery: Wavelet\n",
    "    \n",
    "    Q7_3_1_data_X0::Matrix\n",
    "    Q7_3_1_data_Omega::Matrix\n",
    "    Q7_3_1_data_y::Vector\n",
    "    \n",
    "    Q7_3_1_ans_gradient::Union{Missing,Matrix}\n",
    "    \n",
    "    Q7_3_2_data_lambda::Float64\n",
    "    \n",
    "    Q7_3_2_ans_X1::Union{Missing,Matrix}\n",
    "    \n",
    "    Q7_3_3_ans_X::Union{Missing,Matrix}\n",
    "    \n",
    "    # 7.4 MRI CS Recovery: DCT\n",
    "    \n",
    "    Q7_4_1_data_X0::Matrix\n",
    "    Q7_4_1_data_Omega::Matrix\n",
    "    Q7_4_1_data_y::Vector\n",
    "    Q7_4_1_data_lambda::Float64\n",
    "    \n",
    "    Q7_4_1_ans_X1::Union{Missing,Matrix}\n",
    "    \n",
    "    Q7_4_2_ans_X::Union{Missing,Matrix}\n",
    "    \n",
    "    # 7.5 MRI CS Recovery: Wavelet and DCT\n",
    "    \n",
    "    Q7_5_1_data_Z1::Matrix\n",
    "    Q7_5_1_data_Z2::Matrix\n",
    "    Q7_5_1_data_Omega::Matrix\n",
    "    Q7_5_1_data_y::Vector\n",
    "    Q7_5_1_data_lambda::Float64\n",
    "    Q7_5_1_data_alpha::Float64\n",
    "    \n",
    "    Q7_5_1_ans_X1::Union{Missing,Matrix}\n",
    "    \n",
    "    Q7_5_2_ans_Z1::Union{Missing,Matrix}\n",
    "    Q7_5_2_ans_Z2::Union{Missing,Matrix}\n",
    "    \n",
    "    Q7_5_3_ans_X::Union{Missing,Matrix}\n",
    "    \n",
    "end"
   ]
  },
  {
   "cell_type": "code",
   "execution_count": 42,
   "id": "30132ba3",
   "metadata": {},
   "outputs": [],
   "source": [
    "# Download and upload data from JLD file, refer to https://juliaio.github.io/JLD2.jl/dev/\n",
    "# Example\n",
    "A = JLD2.load(\"Laurie Johnston1705019StudentFile.jld2\");\n",
    "A = A[ \"CourseWork_1\" ];\n",
    "A.Demo_willing = true;\n"
   ]
  },
  {
   "cell_type": "code",
   "execution_count": 4,
   "metadata": {},
   "outputs": [],
   "source": [
    "jldopen(\"Laurie Johnston1705019StudentFile.jld2\", \"w\") do file\n",
    "    write(file, \"CourseWork_1\", A)\n",
    "  end"
   ]
  },
  {
   "cell_type": "markdown",
   "id": "6861a416",
   "metadata": {},
   "source": [
    "## 6.1. Proximal Operator\n"
   ]
  },
  {
   "cell_type": "markdown",
   "id": "90b22aba",
   "metadata": {},
   "source": [
    "### 1. (a)"
   ]
  },
  {
   "cell_type": "code",
   "execution_count": 5,
   "id": "ee609657",
   "metadata": {},
   "outputs": [],
   "source": [
    "# save your answers in Q6_1_a_ans_x\n",
    "function Q6_11a() "
   ]
  },
  {
   "cell_type": "markdown",
   "id": "d2cfd18e",
   "metadata": {},
   "source": [
    "### 1. (b)"
   ]
  },
  {
   "cell_type": "code",
   "execution_count": 6,
   "id": "fa8a298f",
   "metadata": {},
   "outputs": [],
   "source": [
    "# save your answers in Q6_1_b_ans_x\n"
   ]
  },
  {
   "cell_type": "markdown",
   "id": "f2c0b5e8",
   "metadata": {},
   "source": [
    "### 1. (c)"
   ]
  },
  {
   "cell_type": "code",
   "execution_count": 7,
   "id": "9674d13e",
   "metadata": {},
   "outputs": [],
   "source": [
    "# save your answers in Q6_1_c_ans_x"
   ]
  },
  {
   "cell_type": "markdown",
   "id": "1fffd292",
   "metadata": {},
   "source": [
    "### 1. (d)"
   ]
  },
  {
   "cell_type": "code",
   "execution_count": 8,
   "id": "a7ec2378",
   "metadata": {},
   "outputs": [],
   "source": []
  },
  {
   "cell_type": "markdown",
   "id": "c55f5f05",
   "metadata": {},
   "source": [
    "### 1. (e)"
   ]
  },
  {
   "cell_type": "code",
   "execution_count": 9,
   "id": "f063fef3",
   "metadata": {},
   "outputs": [],
   "source": []
  },
  {
   "cell_type": "markdown",
   "id": "9b004da2",
   "metadata": {},
   "source": [
    "### 1. (f)"
   ]
  },
  {
   "cell_type": "code",
   "execution_count": 10,
   "id": "795c5b65",
   "metadata": {},
   "outputs": [],
   "source": []
  },
  {
   "cell_type": "markdown",
   "id": "4ecfa089",
   "metadata": {},
   "source": [
    "### 1. (g)"
   ]
  },
  {
   "cell_type": "code",
   "execution_count": 11,
   "id": "d7703699",
   "metadata": {},
   "outputs": [],
   "source": []
  },
  {
   "cell_type": "markdown",
   "id": "33ce0579",
   "metadata": {},
   "source": [
    "### 1. (h)"
   ]
  },
  {
   "cell_type": "code",
   "execution_count": 12,
   "id": "53022833",
   "metadata": {},
   "outputs": [],
   "source": []
  },
  {
   "cell_type": "markdown",
   "id": "a1e983c0",
   "metadata": {},
   "source": [
    "### 2. (a)"
   ]
  },
  {
   "cell_type": "code",
   "execution_count": 13,
   "id": "3aba51e7",
   "metadata": {},
   "outputs": [],
   "source": []
  },
  {
   "cell_type": "markdown",
   "id": "c77dbbcf",
   "metadata": {},
   "source": [
    "### 2. (b)"
   ]
  },
  {
   "cell_type": "code",
   "execution_count": 14,
   "id": "fc8e419d",
   "metadata": {},
   "outputs": [],
   "source": []
  },
  {
   "cell_type": "markdown",
   "id": "c46b5dd2",
   "metadata": {},
   "source": [
    "### 2. (c)"
   ]
  },
  {
   "cell_type": "code",
   "execution_count": 15,
   "id": "8b746719",
   "metadata": {},
   "outputs": [],
   "source": []
  },
  {
   "cell_type": "markdown",
   "id": "678c1375",
   "metadata": {},
   "source": [
    "### 2. (d)"
   ]
  },
  {
   "cell_type": "code",
   "execution_count": 63,
   "id": "7916cb0d",
   "metadata": {},
   "outputs": [
    {
     "name": "stdout",
     "output_type": "stream",
     "text": [
      "20.59085435909057\n"
     ]
    }
   ],
   "source": [
    "z = A.Q6_2_d_data_z\n",
    "U = A.Q6_2_d_data_U\n",
    "gamma = A.Q6_2_d_data_gamma\n",
    "lambda = A.Q6_2_d_data_lambda\n",
    "\n",
    "# using the solution from this derivation online: https://math.stackexchange.com/questions/1961888/the-proximal-operator-of-the-l-1-norm-function \n",
    "x = U' * ((sign.(U*z) .* max.((abs.(U*z) .- (lambda * gamma)), 0.0)))\n",
    "\n",
    "# print error and have a look\n",
    "error = (lambda * norm((U*x), 1)) + ((1/(2*gamma)) * (norm((x-z), 2)^2)) \n",
    "println(error)\n",
    "\n",
    "A.Q6_2_d_ans_x = x;\n"
   ]
  },
  {
   "cell_type": "markdown",
   "id": "b46463fa",
   "metadata": {},
   "source": [
    "## 7.1. Greedy Algorithms"
   ]
  },
  {
   "cell_type": "markdown",
   "id": "9f7bae6e",
   "metadata": {},
   "source": [
    "### 1"
   ]
  },
  {
   "cell_type": "code",
   "execution_count": 17,
   "id": "e605f2a0",
   "metadata": {},
   "outputs": [],
   "source": []
  },
  {
   "cell_type": "markdown",
   "id": "53c78f0e",
   "metadata": {},
   "source": [
    "### 2"
   ]
  },
  {
   "cell_type": "code",
   "execution_count": 18,
   "id": "e1412b01",
   "metadata": {},
   "outputs": [],
   "source": []
  },
  {
   "cell_type": "markdown",
   "id": "0d2bce10",
   "metadata": {},
   "source": [
    "### 3"
   ]
  },
  {
   "cell_type": "code",
   "execution_count": 19,
   "id": "ee090674",
   "metadata": {},
   "outputs": [],
   "source": []
  },
  {
   "cell_type": "markdown",
   "id": "77c36de1",
   "metadata": {},
   "source": [
    "## 7.2. Proximal Gradient Method"
   ]
  },
  {
   "cell_type": "markdown",
   "id": "09e41bde",
   "metadata": {},
   "source": [
    "### 1"
   ]
  },
  {
   "cell_type": "code",
   "execution_count": 20,
   "id": "630f68f0",
   "metadata": {},
   "outputs": [],
   "source": []
  },
  {
   "cell_type": "markdown",
   "id": "4f5d56bb",
   "metadata": {},
   "source": [
    "### 2"
   ]
  },
  {
   "cell_type": "code",
   "execution_count": 21,
   "id": "9a058116",
   "metadata": {},
   "outputs": [],
   "source": []
  },
  {
   "cell_type": "markdown",
   "id": "526d9c1c",
   "metadata": {},
   "source": [
    "### 3"
   ]
  },
  {
   "cell_type": "code",
   "execution_count": 22,
   "id": "9beb3748",
   "metadata": {},
   "outputs": [],
   "source": []
  },
  {
   "cell_type": "markdown",
   "id": "febd0c11",
   "metadata": {},
   "source": [
    "## 7.3. MRI CS Recovery: Wavelet"
   ]
  },
  {
   "cell_type": "markdown",
   "id": "ec24e1db",
   "metadata": {},
   "source": [
    "### 1"
   ]
  },
  {
   "cell_type": "code",
   "execution_count": 8,
   "id": "fe31f310",
   "metadata": {},
   "outputs": [
    {
     "data": {
      "text/plain": [
       "IvMRI (generic function with 1 method)"
      ]
     },
     "metadata": {},
     "output_type": "display_data"
    }
   ],
   "source": [
    "# function MRI(x,omega)\n",
    "#     m,n=size(x)\n",
    "#     O1= fft(x)\n",
    "#     O2= fftshift(O1)\n",
    "#     O3= zeros(ComplexF64,m,n)\n",
    "#     for i in 1:m\n",
    "#         for j in 1:n\n",
    "#             if omega[i,j]==1\n",
    "#                 O3[i,j]=O2[i,j]\n",
    "#             end\n",
    "#         end\n",
    "#     end\n",
    "#     O3=vec(O3)\n",
    "#     O3 = filter(x -> x != 0, vec(O3))\n",
    "#     return O1,O2,O3\n",
    "# end\n",
    "\n",
    "# function IvMRI(y,omega)\n",
    "#     m,n=size(omega)\n",
    "\n",
    "#     vec_omega = vec(omega)\n",
    "#     O1 = complex(Array{Float64}(undef, length(vec_omega)))\n",
    "#     j = 1\n",
    "#     for i in 1:length(vec_omega)\n",
    "#         if vec_omega[i] != 0\n",
    "#             O1[i] = round(y[j]; digits = 8)\n",
    "#             j+=1\n",
    "#         end\n",
    "#     end\n",
    "#     O1=reshape(O1, m,n)\n",
    "#     O2=ifftshift(O1)\n",
    "#     O3=ifft(O2)\n",
    "#     return O1,O2,O3\n",
    "# end\n",
    "\n",
    "\n",
    "# Ay = \n",
    "# find_Ay(\n",
    "#     A.Q7_3_1_data_Omega,\n",
    "#     A.Q7_3_1_data_y\n",
    "# )\n",
    "\n",
    "# AAX = \n",
    "# find_AAX(\n",
    "#     A.Q7_3_1_data_Omega,\n",
    "#     A.Q7_3_1_data_X0\n",
    "# )"
   ]
  },
  {
   "cell_type": "code",
   "execution_count": 69,
   "metadata": {},
   "outputs": [
    {
     "data": {
      "text/plain": [
       "512×512 Matrix{ComplexF64}:\n",
       "  0.0383672+0.760606im    0.686698+0.0784548im  …   -0.813728-0.104892im\n",
       "     1.5176+0.214358im    0.963876-0.0289204im        2.14156-0.285411im\n",
       "   0.628935+0.151152im    0.709858+0.0448283im       0.869796-0.205352im\n",
       "   0.829263+0.217057im     1.27397-0.449533im       -0.426368+0.23571im\n",
       "   0.540524+0.248817im  -0.0394279+0.123263im       -0.113208+0.10886im\n",
       "  0.0796532+0.392576im  -0.0891086+0.323551im   …    -0.42816-0.0212641im\n",
       "    1.43034+0.330078im   -0.738538+0.0774436im      0.0182275+0.0671887im\n",
       "  -0.111325+0.203347im   -0.298139+0.364208im        0.595705-0.0029911im\n",
       "  -0.677165-0.215526im   -0.198593-0.127702im       -0.750175-0.0142763im\n",
       "   0.529782-0.343197im     1.14369-0.369069im        -1.24618+0.136909im\n",
       "           ⋮                                    ⋱  \n",
       "   0.131527+0.663346im    0.606727-0.315423im         1.41992+0.388969im\n",
       "     0.3701+0.495623im    -0.50695+0.117072im       -0.562976+0.0780068im\n",
       "   0.299432+0.167881im    -1.22638-0.403477im   …    -0.23616+0.451941im\n",
       "  -0.639859+0.670224im   -0.543057+0.815486im        -0.13972+0.395176im\n",
       "  -0.155714+0.19675im    -0.725731-0.117977im       -0.320255-0.294187im\n",
       "   -0.22673+0.407025im     -1.1016-0.0670713im     -0.0937831+0.144359im\n",
       "  -0.271822-0.104677im    0.379266-0.459426im       -0.100332-0.178509im\n",
       "   0.172346-0.787103im   -0.948251+0.418611im   …  -0.0565036+0.18067im\n",
       " -0.0173941-0.249987im    0.651698+0.0286996im       -0.81779-0.413685im"
      ]
     },
     "metadata": {},
     "output_type": "display_data"
    }
   ],
   "source": [
    "function find_Ay(Omega, y)\n",
    "    vec_omega = vec(Omega)\n",
    "    O1 = complex(Array{Float64}(undef, length(vec_omega)))\n",
    "    j = 1\n",
    "    for i in 1:length(vec_omega)\n",
    "        if vec_omega[i] != 0\n",
    "            O1[i] = y[j]\n",
    "            j+=1\n",
    "        end\n",
    "    end\n",
    "    O1 = reshape(O1,512,512)\n",
    "    O2=ifftshift(O1)\n",
    "    O3=ifft(O2)\n",
    "\n",
    "    return O3\n",
    "end\n",
    "\n",
    "function find_AAX(Omega,X)\n",
    "    O1 = fft(X)\n",
    "    O2 = fftshift(O1)\n",
    "    O4O3 = Omega .* O2\n",
    "    O5 = ifftshift(O4O3)\n",
    "    O6 = ifft(O5)\n",
    "\n",
    "    return O6\n",
    "end\n",
    "\n",
    "\n",
    "function find_grad(X, Omega, y)\n",
    "    return - find_Ay(Omega, y) + find_AAX(Omega, X)\n",
    "\n",
    "end\n",
    "\n",
    "A.Q7_3_1_ans_gradient = \n",
    "find_grad(\n",
    "    A.Q7_3_1_data_X0,\n",
    "    A.Q7_3_1_data_Omega,\n",
    "    A.Q7_3_1_data_y\n",
    ")\n",
    "\n",
    "\n"
   ]
  },
  {
   "cell_type": "markdown",
   "id": "257491c3",
   "metadata": {},
   "source": [
    "### 2"
   ]
  },
  {
   "cell_type": "code",
   "execution_count": 17,
   "metadata": {},
   "outputs": [
    {
     "data": {
      "text/plain": [
       "512×512 Matrix{ComplexF64}:\n",
       " -0.00628388+0.778281im   …    -0.856215-0.0954219im\n",
       "     1.47057+0.230216im          2.09628-0.277496im\n",
       "    0.582881+0.165845im         0.827765-0.197875im\n",
       "    0.785899+0.23034im         -0.467232+0.241427im\n",
       "     0.49917+0.265415im        -0.146792+0.115741im\n",
       "   0.0408234+0.408704im   …     -0.45498-0.0152262im\n",
       "     1.39401+0.346765im      -0.00765481+0.0762864im\n",
       "   -0.138033+0.21662im          0.579304+0.00302556im\n",
       "    -0.69235-0.204453im        -0.756772-0.010924im\n",
       "    0.516881-0.333238im         -1.25665+0.139832im\n",
       "            ⋮             ⋱  \n",
       "    0.134085+0.65223im           1.43547+0.391036im\n",
       "    0.358867+0.484271im        -0.562384+0.0764377im\n",
       "     0.28636+0.161549im   …    -0.243328+0.450327im\n",
       "   -0.652516+0.665229im        -0.148542+0.395692im\n",
       "   -0.156964+0.193722im        -0.324802-0.287826im\n",
       "     -0.2203+0.409472im       -0.0933765+0.154824im\n",
       "   -0.265767-0.0947471im       -0.100472-0.161379im\n",
       "    0.165005-0.785617im   …   -0.0661888+0.186088im\n",
       "   -0.043863-0.245366im        -0.842936-0.410386im"
      ]
     },
     "metadata": {},
     "output_type": "display_data"
    }
   ],
   "source": [
    "#NOTE: the wavelet operator is unitary\n"
   ]
  },
  {
   "cell_type": "code",
   "execution_count": 49,
   "metadata": {},
   "outputs": [
    {
     "data": {
      "text/plain": [
       "512×512 Matrix{Float64}:\n",
       "  0.050993    0.884602    1.63468     …  -0.387344    1.70118    -0.797336\n",
       "  2.35603     0.487945    0.914408        0.785467   -0.499912    2.69074\n",
       "  0.641159    1.65587    -1.75428         0.46118    -0.766145    1.64587\n",
       "  0.985662    1.45075    -0.902871       -0.594627    0.10435     0.495392\n",
       "  0.227738   -0.0854534  -0.927935       -1.85779     0.75151    -0.793389\n",
       " -0.47866    -0.131528    0.0675058   …   1.79688     0.67092    -0.509162\n",
       "  1.90157    -1.23103     1.52313         0.354436   -0.0817343  -0.22772\n",
       "  0.0643615  -0.699978    0.0288933       0.0945019   0.431125    0.523342\n",
       " -0.792352   -1.11682     1.23983         0.192795    0.144052   -1.2456\n",
       "  0.613097    1.57057     0.757151        0.435444   -1.62746    -2.39509\n",
       "  ⋮                                   ⋱               ⋮          \n",
       "  1.4367      0.780559    0.755408        1.48021     0.64596     1.64069\n",
       "  1.25417    -0.268656    1.42604         0.332753    0.0933888  -0.996121\n",
       "  0.396225   -1.14124    -0.00053358  …   0.116133   -0.459864   -0.503517\n",
       " -1.62446    -0.175463   -0.415071       -0.670711   -0.813736   -0.00319053\n",
       " -0.379022   -0.841206   -0.553004        0.0324336  -0.209632    0.200626\n",
       " -0.205917   -1.02271    -0.651966        1.95829     0.480158   -0.477427\n",
       " -0.286365    0.841014   -1.32029        -0.661251   -0.3356     -0.350869\n",
       " -0.561923   -0.786055   -0.045911    …  -0.8196     -0.0694653  -0.433863\n",
       "  0.255       0.937883   -1.03229        -1.33189     0.339642   -0.691955"
      ]
     },
     "metadata": {},
     "output_type": "display_data"
    }
   ],
   "source": [
    "idwt(dwt(A.Q7_3_1_data_X0, wavelet(WT.db4)),  wavelet(WT.db4))\n",
    "A.Q7_3_1_data_X0\n"
   ]
  },
  {
   "cell_type": "markdown",
   "id": "e7b7a294",
   "metadata": {},
   "source": [
    "### 3"
   ]
  },
  {
   "cell_type": "code",
   "execution_count": null,
   "id": "ee9a35e2",
   "metadata": {},
   "outputs": [],
   "source": [
    "S"
   ]
  },
  {
   "cell_type": "markdown",
   "id": "d56ff3b9",
   "metadata": {},
   "source": [
    "## 7.4. MRI CS Recovery: DCT"
   ]
  },
  {
   "cell_type": "markdown",
   "id": "39e4faca",
   "metadata": {},
   "source": [
    "### 1"
   ]
  },
  {
   "cell_type": "code",
   "execution_count": 52,
   "id": "ef92f2a3",
   "metadata": {},
   "outputs": [
    {
     "data": {
      "text/plain": [
       "512×512 Matrix{Float64}:\n",
       " -6.245e-17     4.44089e-16   4.44089e-16  …  -2.22045e-16  -2.22045e-16\n",
       "  4.44089e-16   1.66533e-16  -1.11022e-16     -1.66533e-16   0.0\n",
       " -7.77156e-16   0.0           2.22045e-16     -8.88178e-16   0.0\n",
       "  8.88178e-16   6.66134e-16   3.33067e-16      4.71845e-16  -6.10623e-16\n",
       "  6.38378e-16  -9.71445e-17  -5.55112e-16      2.22045e-16  -3.33067e-16\n",
       "  1.66533e-16  -1.38778e-16   3.05311e-16  …  -1.11022e-16  -6.66134e-16\n",
       "  0.0           0.0           2.22045e-16      1.249e-16    -1.38778e-16\n",
       " -4.16334e-17   3.33067e-16   2.32453e-16     -3.33067e-16  -7.77156e-16\n",
       "  1.11022e-16  -6.66134e-16   4.44089e-16     -2.77556e-17  -4.44089e-16\n",
       " -2.22045e-16  -4.44089e-16   5.55112e-16      4.44089e-16   0.0\n",
       "  ⋮                                        ⋱   ⋮            \n",
       " -2.22045e-16  -1.11022e-16   5.55112e-16     -2.22045e-16  -4.44089e-16\n",
       " -2.22045e-16  -6.10623e-16  -2.22045e-16      3.747e-16     0.0\n",
       "  6.66134e-16   0.0          -1.15793e-16  …   2.77556e-16   0.0\n",
       "  4.44089e-16  -4.44089e-16   1.66533e-16     -5.55112e-16  -4.76182e-16\n",
       "  6.66134e-16   3.33067e-16  -3.33067e-16      0.0           0.0\n",
       "  3.88578e-16   0.0           4.44089e-16     -2.77556e-16  -3.33067e-16\n",
       "  4.44089e-16  -1.11022e-16   4.44089e-16     -6.66134e-16   1.05471e-15\n",
       " -3.33067e-16  -8.88178e-16   1.249e-16    …   4.16334e-17   4.996e-16\n",
       " -5.55112e-17   6.66134e-16   4.44089e-16      5.55112e-17  -5.55112e-16"
      ]
     },
     "metadata": {},
     "output_type": "display_data"
    }
   ],
   "source": [
    "idct(dct(A.Q7_4_1_data_X0)) - A.Q7_4_1_data_X0"
   ]
  },
  {
   "cell_type": "markdown",
   "id": "caefcf63",
   "metadata": {},
   "source": [
    "### 2"
   ]
  },
  {
   "cell_type": "code",
   "execution_count": null,
   "id": "bb8db92d",
   "metadata": {},
   "outputs": [],
   "source": []
  },
  {
   "cell_type": "markdown",
   "id": "c624b2a0",
   "metadata": {},
   "source": [
    "## 7.5. MRI CS Recovery: Wavelet and DCT"
   ]
  },
  {
   "cell_type": "markdown",
   "id": "16bba95b",
   "metadata": {},
   "source": [
    "### 1"
   ]
  },
  {
   "cell_type": "code",
   "execution_count": null,
   "id": "f8cd60a8",
   "metadata": {},
   "outputs": [],
   "source": []
  },
  {
   "cell_type": "markdown",
   "id": "61340e00",
   "metadata": {},
   "source": [
    "### 2"
   ]
  },
  {
   "cell_type": "code",
   "execution_count": null,
   "id": "d0bb5032",
   "metadata": {},
   "outputs": [],
   "source": []
  }
 ],
 "metadata": {
  "kernelspec": {
   "display_name": "Julia 1.9.3",
   "language": "julia",
   "name": "julia-1.9"
  },
  "language_info": {
   "file_extension": ".jl",
   "mimetype": "application/julia",
   "name": "julia",
   "version": "1.9.3"
  }
 },
 "nbformat": 4,
 "nbformat_minor": 5
}

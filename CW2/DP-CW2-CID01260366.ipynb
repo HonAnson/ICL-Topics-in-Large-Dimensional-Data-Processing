{
 "cells": [
  {
   "cell_type": "markdown",
   "id": "5a6b0940",
   "metadata": {},
   "source": [
    "# Coursework 2\n",
    "\n",
    "### PLAGIARISM/COLLUSION DECLARATION\n",
    "\n",
    " \n",
    "\n",
    "Coursework submitted for assessment must be the original work of you and your group. Assignments are subjected to regular checks for plagiarism and/or collusion. Plagiarism is the presentation of another person’s thoughts or words (those outside your group) as if they were your own. Collusion involves obtaining help from someone outside your group to complete your work. In preparing your coursework, you should not seek help, or copy from any other person or source, including the\n",
    "\n",
    "Internet, without proper and explicit acknowledgement.\n",
    "\n",
    " \n",
    "\n",
    "There is a procedure in place for you to declare individual contributions within your group for courswork. You must declare the contributions fairly and accurately.\n",
    "\n",
    " \n",
    "\n",
    "You must not disclose your solutions or insights related to coursework with anyone else, including future students or the Internet.\n",
    "\n",
    " \n",
    "\n",
    "By acknowledging the the statements above, you are declaring that both this and all subsequent pieces of coursework are, and will remain, the original work of you and your group.\n",
    "\n",
    " \n",
    "\n",
    "* Submissions will not be accepted without the aforementioned declaration.\n",
    "\n",
    " \n",
    "\n",
    "* Members of a group are deemed to have collective responsibility for the integrity for work submitted and are liable for any penalty imposed, proportionate to their contributions."
   ]
  },
  {
   "cell_type": "code",
   "execution_count": 1,
   "id": "156ebb80",
   "metadata": {},
   "outputs": [],
   "source": [
    "using JLD2,FileIO\n",
    "using LinearAlgebra\n",
    "using Wavelets\n",
    "using FFTW"
   ]
  },
  {
   "cell_type": "code",
   "execution_count": 2,
   "id": "b570716e",
   "metadata": {},
   "outputs": [
    {
     "data": {
      "text/plain": [
       "CourseWork_1"
      ]
     },
     "metadata": {},
     "output_type": "display_data"
    }
   ],
   "source": [
    "# Run this code before you start doing the coursework\n",
    "\n",
    "Base.@kwdef mutable struct CourseWork_1\n",
    "    \n",
    "    CID::Int\n",
    "    Plagiarism_declare::Union{Missing,Bool}\n",
    "    Demo_willing::Union{Missing,Bool}\n",
    "    \n",
    "    # 6.1 Proximal Operator\n",
    "    \n",
    "    Q6_1_a_data_A::Matrix\n",
    "    Q6_1_a_data_b::Vector\n",
    "    Q6_1_a_data_z::Vector\n",
    "    Q6_1_a_data_gamma::Float64\n",
    "    \n",
    "    Q6_1_a_ans_x::Union{Missing,Vector}\n",
    "    \n",
    "    Q6_1_b_data_z::Vector\n",
    "    Q6_1_b_data_a::Float64\n",
    "    Q6_1_b_data_b::Float64\n",
    "    Q6_1_b_data_gamma::Float64\n",
    "    \n",
    "    Q6_1_b_ans_x::Union{Missing,Vector}\n",
    "    \n",
    "    Q6_1_c_data_z::Vector\n",
    "    Q6_1_c_data_k::Int\n",
    "    Q6_1_c_data_gamma::Float64\n",
    "    \n",
    "    Q6_1_c_ans_x::Union{Missing,Vector}\n",
    "    \n",
    "    Q6_1_d_data_z::Vector\n",
    "    Q6_1_d_data_gamma::Float64\n",
    "    \n",
    "    Q6_1_d_ans_x::Union{Missing,Vector}\n",
    "    \n",
    "    Q6_1_e_data_Z::Matrix\n",
    "    Q6_1_e_data_r::Int\n",
    "    Q6_1_e_data_gamma::Float64\n",
    "    \n",
    "    Q6_1_e_ans_X::Union{Missing,Matrix}\n",
    "    \n",
    "    Q6_1_f_data_Z::Matrix\n",
    "    Q6_1_f_data_gamma::Float64\n",
    "    \n",
    "    Q6_1_f_ans_X::Union{Missing,Matrix}\n",
    "    \n",
    "    Q6_1_g_data_Z::Matrix\n",
    "    Q6_1_g_data_gamma::Float64\n",
    "    \n",
    "    Q6_1_g_ans_X::Union{Missing,Matrix}\n",
    "    \n",
    "    Q6_1_h_data_z::Vector\n",
    "    Q6_1_h_data_gamma::Float64\n",
    "    \n",
    "    Q6_1_h_ans_x::Union{Missing,Vector}\n",
    "    \n",
    "    # 6.2 Proximal operators related to ℓ1-norm\n",
    "    \n",
    "    Q6_2_a_data_z::Vector\n",
    "    Q6_2_a_data_gamma::Float64\n",
    "    Q6_2_a_data_lambda::Float64\n",
    "    \n",
    "    Q6_2_a_ans_x::Union{Missing,Vector}\n",
    "    \n",
    "    Q6_2_b_data_z::Vector\n",
    "    Q6_2_b_data_a::Vector\n",
    "    Q6_2_b_data_gamma::Float64\n",
    "    Q6_2_b_data_lambda::Float64\n",
    "    \n",
    "    Q6_2_b_ans_x::Union{Missing,Vector}\n",
    "    \n",
    "    Q6_2_c_data_z::Vector\n",
    "    Q6_2_c_data_U::Matrix\n",
    "    Q6_2_c_data_gamma::Float64\n",
    "    Q6_2_c_data_lambda::Float64\n",
    "    \n",
    "    Q6_2_c_ans_x::Union{Missing,Vector}\n",
    "    \n",
    "    Q6_2_d_data_z::Vector\n",
    "    Q6_2_d_data_U::Matrix\n",
    "    Q6_2_d_data_gamma::Float64\n",
    "    Q6_2_d_data_lambda::Float64\n",
    "    \n",
    "    Q6_2_d_ans_x::Union{Missing,Vector}\n",
    "    \n",
    "    # 7.1 Greedy Algorithms\n",
    "    \n",
    "    Q7_1_1_data_y::Vector\n",
    "    Q7_1_1_data_A::Matrix\n",
    "    Q7_1_1_data_S::Int\n",
    "    \n",
    "    Q7_1_1_ans_x::Union{Missing,Vector}\n",
    "    \n",
    "    Q7_1_2_data_y::Vector\n",
    "    Q7_1_2_data_A::Matrix\n",
    "    Q7_1_2_data_S::Int\n",
    "    \n",
    "    Q7_1_2_ans_x::Union{Missing,Vector}\n",
    "    \n",
    "    Q7_1_3_data_y::Vector\n",
    "    Q7_1_3_data_A::Matrix\n",
    "    Q7_1_3_data_S::Int\n",
    "    \n",
    "    Q7_1_3_ans_x::Union{Missing,Vector}\n",
    "    \n",
    "    # 7.2 Proximal Gradient Method\n",
    "    \n",
    "    Q7_2_1_data_z::Vector\n",
    "    Q7_2_1_data_xini::Vector\n",
    "    Q7_2_1_data_A::Matrix\n",
    "    Q7_2_1_data_lambda::Float64\n",
    "    Q7_2_1_data_gamma::Float64\n",
    "    \n",
    "    Q7_2_1_ans_xhat::Union{Missing,Vector}\n",
    "    Q7_2_1_ans_subgradient::Union{Missing,Vector}\n",
    "    \n",
    "    Q7_2_2_data_z::Vector\n",
    "    Q7_2_2_data_A::Matrix\n",
    "    Q7_2_2_data_lambda::Float64\n",
    "    \n",
    "    Q7_2_2_ans_objfun::Union{Missing,Vector}\n",
    "    \n",
    "    # 7.3 MRI CS Recovery: Wavelet\n",
    "    \n",
    "    Q7_3_1_data_X0::Matrix\n",
    "    Q7_3_1_data_Omega::Matrix\n",
    "    Q7_3_1_data_y::Vector\n",
    "    \n",
    "    Q7_3_1_ans_gradient::Union{Missing,Matrix}\n",
    "    \n",
    "    Q7_3_2_data_lambda::Float64\n",
    "    \n",
    "    Q7_3_2_ans_X1::Union{Missing,Matrix}\n",
    "    \n",
    "    Q7_3_3_ans_X::Union{Missing,Matrix}\n",
    "    \n",
    "    # 7.4 MRI CS Recovery: DCT\n",
    "    \n",
    "    Q7_4_1_data_X0::Matrix\n",
    "    Q7_4_1_data_Omega::Matrix\n",
    "    Q7_4_1_data_y::Vector\n",
    "    Q7_4_1_data_lambda::Float64\n",
    "    \n",
    "    Q7_4_1_ans_X1::Union{Missing,Matrix}\n",
    "    \n",
    "    Q7_4_2_ans_X::Union{Missing,Matrix}\n",
    "    \n",
    "    # 7.5 MRI CS Recovery: Wavelet and DCT\n",
    "    \n",
    "    Q7_5_1_data_Z1::Matrix\n",
    "    Q7_5_1_data_Z2::Matrix\n",
    "    Q7_5_1_data_Omega::Matrix\n",
    "    Q7_5_1_data_y::Vector\n",
    "    Q7_5_1_data_lambda::Float64\n",
    "    Q7_5_1_data_alpha::Float64\n",
    "    \n",
    "    Q7_5_1_ans_X1::Union{Missing,Matrix}\n",
    "    \n",
    "    Q7_5_2_ans_Z1::Union{Missing,Matrix}\n",
    "    Q7_5_2_ans_Z2::Union{Missing,Matrix}\n",
    "    \n",
    "    Q7_5_3_ans_X::Union{Missing,Matrix}\n",
    "    \n",
    "end"
   ]
  },
  {
   "cell_type": "code",
   "execution_count": 3,
   "id": "30132ba3",
   "metadata": {},
   "outputs": [],
   "source": [
    "# Download and upload data from JLD file, refer to https://juliaio.github.io/JLD2.jl/dev/\n",
    "# Example\n",
    "A = JLD2.load(\"Laurie Johnston1705019StudentFile.jld2\");\n",
    "A = A[ \"CourseWork_1\" ];\n",
    "A.Demo_willing = true;\n"
   ]
  },
  {
   "cell_type": "code",
   "execution_count": 4,
   "metadata": {},
   "outputs": [],
   "source": [
    "jldopen(\"Laurie Johnston1705019StudentFile.jld2\", \"w\") do file\n",
    "    write(file, \"CourseWork_1\", A)\n",
    "  end"
   ]
  },
  {
   "cell_type": "markdown",
   "id": "6861a416",
   "metadata": {},
   "source": [
    "## 6.1. Proximal Operator\n"
   ]
  },
  {
   "cell_type": "markdown",
   "id": "90b22aba",
   "metadata": {},
   "source": [
    "### 1. (a)"
   ]
  },
  {
   "cell_type": "code",
   "execution_count": 5,
   "id": "ee609657",
   "metadata": {},
   "outputs": [],
   "source": [
    "# save your answers in Q6_1_a_ans_x\n",
    "function Q6_11a() "
   ]
  },
  {
   "cell_type": "markdown",
   "id": "d2cfd18e",
   "metadata": {},
   "source": [
    "### 1. (b)"
   ]
  },
  {
   "cell_type": "code",
   "execution_count": 6,
   "id": "fa8a298f",
   "metadata": {},
   "outputs": [],
   "source": [
    "# save your answers in Q6_1_b_ans_x\n"
   ]
  },
  {
   "cell_type": "markdown",
   "id": "f2c0b5e8",
   "metadata": {},
   "source": [
    "### 1. (c)"
   ]
  },
  {
   "cell_type": "code",
   "execution_count": 7,
   "id": "9674d13e",
   "metadata": {},
   "outputs": [],
   "source": [
    "# save your answers in Q6_1_c_ans_x"
   ]
  },
  {
   "cell_type": "markdown",
   "id": "1fffd292",
   "metadata": {},
   "source": [
    "### 1. (d)"
   ]
  },
  {
   "cell_type": "code",
   "execution_count": 8,
   "id": "a7ec2378",
   "metadata": {},
   "outputs": [],
   "source": []
  },
  {
   "cell_type": "markdown",
   "id": "c55f5f05",
   "metadata": {},
   "source": [
    "### 1. (e)"
   ]
  },
  {
   "cell_type": "code",
   "execution_count": 9,
   "id": "f063fef3",
   "metadata": {},
   "outputs": [],
   "source": []
  },
  {
   "cell_type": "markdown",
   "id": "9b004da2",
   "metadata": {},
   "source": [
    "### 1. (f)"
   ]
  },
  {
   "cell_type": "code",
   "execution_count": 10,
   "id": "795c5b65",
   "metadata": {},
   "outputs": [],
   "source": []
  },
  {
   "cell_type": "markdown",
   "id": "4ecfa089",
   "metadata": {},
   "source": [
    "### 1. (g)"
   ]
  },
  {
   "cell_type": "code",
   "execution_count": 11,
   "id": "d7703699",
   "metadata": {},
   "outputs": [],
   "source": []
  },
  {
   "cell_type": "markdown",
   "id": "33ce0579",
   "metadata": {},
   "source": [
    "### 1. (h)"
   ]
  },
  {
   "cell_type": "code",
   "execution_count": 12,
   "id": "53022833",
   "metadata": {},
   "outputs": [],
   "source": []
  },
  {
   "cell_type": "markdown",
   "id": "a1e983c0",
   "metadata": {},
   "source": [
    "### 2. (a)"
   ]
  },
  {
   "cell_type": "code",
   "execution_count": 13,
   "id": "3aba51e7",
   "metadata": {},
   "outputs": [],
   "source": []
  },
  {
   "cell_type": "markdown",
   "id": "c77dbbcf",
   "metadata": {},
   "source": [
    "### 2. (b)"
   ]
  },
  {
   "cell_type": "code",
   "execution_count": 14,
   "id": "fc8e419d",
   "metadata": {},
   "outputs": [],
   "source": []
  },
  {
   "cell_type": "markdown",
   "id": "c46b5dd2",
   "metadata": {},
   "source": [
    "### 2. (c)"
   ]
  },
  {
   "cell_type": "code",
   "execution_count": 15,
   "id": "8b746719",
   "metadata": {},
   "outputs": [],
   "source": []
  },
  {
   "cell_type": "markdown",
   "id": "678c1375",
   "metadata": {},
   "source": [
    "### 2. (d)"
   ]
  },
  {
   "cell_type": "code",
   "execution_count": 4,
   "id": "7916cb0d",
   "metadata": {},
   "outputs": [
    {
     "name": "stdout",
     "output_type": "stream",
     "text": [
      "20.59085435909057\n"
     ]
    },
    {
     "data": {
      "text/plain": [
       "79-element Vector{Float64}:\n",
       "  0.11052396078981683\n",
       "  0.02875737355864877\n",
       "  0.548789287952911\n",
       "  0.13625115850632505\n",
       "  0.14117161960855523\n",
       "  0.5263854023376945\n",
       " -0.12501025719301243\n",
       "  0.23422593606574585\n",
       "  0.2368096015062915\n",
       "  0.2997571026356275\n",
       "  ⋮\n",
       "  0.21271413665570807\n",
       "  0.2539108947616978\n",
       "  0.25975321348498603\n",
       "  0.2801926861300879\n",
       " -0.004294691130390944\n",
       " -0.017858778994156013\n",
       "  0.18357328574437531\n",
       "  0.03360353951856539\n",
       " -0.04815135142295193"
      ]
     },
     "metadata": {},
     "output_type": "display_data"
    }
   ],
   "source": [
    "z = A.Q6_2_d_data_z\n",
    "U = A.Q6_2_d_data_U\n",
    "gamma = A.Q6_2_d_data_gamma\n",
    "lambda = A.Q6_2_d_data_lambda\n",
    "\n",
    "# using the solution from this derivation online: https://math.stackexchange.com/questions/1961888/the-proximal-operator-of-the-l-1-norm-function \n",
    "x = U' * ((sign.(U*z) .* max.((abs.(U*z) .- (lambda * gamma)), 0.0)))\n",
    "\n",
    "# print error and have a look\n",
    "error = (lambda * norm((U*x), 1)) + ((1/(2*gamma)) * (norm((x-z), 2)^2)) \n",
    "println(error)\n",
    "\n",
    "A.Q6_2_d_ans_x = x\n"
   ]
  },
  {
   "cell_type": "markdown",
   "id": "b46463fa",
   "metadata": {},
   "source": [
    "## 7.1. Greedy Algorithms"
   ]
  },
  {
   "cell_type": "markdown",
   "id": "9f7bae6e",
   "metadata": {},
   "source": [
    "### 1"
   ]
  },
  {
   "cell_type": "code",
   "execution_count": 17,
   "id": "e605f2a0",
   "metadata": {},
   "outputs": [],
   "source": []
  },
  {
   "cell_type": "markdown",
   "id": "53c78f0e",
   "metadata": {},
   "source": [
    "### 2"
   ]
  },
  {
   "cell_type": "code",
   "execution_count": 18,
   "id": "e1412b01",
   "metadata": {},
   "outputs": [],
   "source": []
  },
  {
   "cell_type": "markdown",
   "id": "0d2bce10",
   "metadata": {},
   "source": [
    "### 3"
   ]
  },
  {
   "cell_type": "code",
   "execution_count": 19,
   "id": "ee090674",
   "metadata": {},
   "outputs": [],
   "source": []
  },
  {
   "cell_type": "markdown",
   "id": "77c36de1",
   "metadata": {},
   "source": [
    "## 7.2. Proximal Gradient Method"
   ]
  },
  {
   "cell_type": "markdown",
   "id": "09e41bde",
   "metadata": {},
   "source": [
    "### 1"
   ]
  },
  {
   "cell_type": "code",
   "execution_count": 20,
   "id": "630f68f0",
   "metadata": {},
   "outputs": [],
   "source": []
  },
  {
   "cell_type": "markdown",
   "id": "4f5d56bb",
   "metadata": {},
   "source": [
    "### 2"
   ]
  },
  {
   "cell_type": "code",
   "execution_count": 21,
   "id": "9a058116",
   "metadata": {},
   "outputs": [],
   "source": []
  },
  {
   "cell_type": "markdown",
   "id": "526d9c1c",
   "metadata": {},
   "source": [
    "### 3"
   ]
  },
  {
   "cell_type": "code",
   "execution_count": 22,
   "id": "9beb3748",
   "metadata": {},
   "outputs": [],
   "source": []
  },
  {
   "cell_type": "markdown",
   "id": "febd0c11",
   "metadata": {},
   "source": [
    "## 7.3. MRI CS Recovery: Wavelet"
   ]
  },
  {
   "cell_type": "markdown",
   "id": "ec24e1db",
   "metadata": {},
   "source": [
    "### 1"
   ]
  },
  {
   "cell_type": "code",
   "execution_count": 8,
   "id": "fe31f310",
   "metadata": {},
   "outputs": [
    {
     "data": {
      "text/plain": [
       "IvMRI (generic function with 1 method)"
      ]
     },
     "metadata": {},
     "output_type": "display_data"
    }
   ],
   "source": [
    "# function MRI(x,omega)\n",
    "#     m,n=size(x)\n",
    "#     O1= fft(x)\n",
    "#     O2= fftshift(O1)\n",
    "#     O3= zeros(ComplexF64,m,n)\n",
    "#     for i in 1:m\n",
    "#         for j in 1:n\n",
    "#             if omega[i,j]==1\n",
    "#                 O3[i,j]=O2[i,j]\n",
    "#             end\n",
    "#         end\n",
    "#     end\n",
    "#     O3=vec(O3)\n",
    "#     O3 = filter(x -> x != 0, vec(O3))\n",
    "#     return O1,O2,O3\n",
    "# end\n",
    "\n",
    "# function IvMRI(y,omega)\n",
    "#     m,n=size(omega)\n",
    "\n",
    "#     vec_omega = vec(omega)\n",
    "#     O1 = complex(Array{Float64}(undef, length(vec_omega)))\n",
    "#     j = 1\n",
    "#     for i in 1:length(vec_omega)\n",
    "#         if vec_omega[i] != 0\n",
    "#             O1[i] = round(y[j]; digits = 8)\n",
    "#             j+=1\n",
    "#         end\n",
    "#     end\n",
    "#     O1=reshape(O1, m,n)\n",
    "#     O2=ifftshift(O1)\n",
    "#     O3=ifft(O2)\n",
    "#     return O1,O2,O3\n",
    "# end\n",
    "\n",
    "\n",
    "# Ay = \n",
    "# find_Ay(\n",
    "#     A.Q7_3_1_data_Omega,\n",
    "#     A.Q7_3_1_data_y\n",
    "# )\n",
    "\n",
    "# AAX = \n",
    "# find_AAX(\n",
    "#     A.Q7_3_1_data_Omega,\n",
    "#     A.Q7_3_1_data_X0\n",
    "# )"
   ]
  },
  {
   "cell_type": "code",
   "execution_count": 36,
   "metadata": {},
   "outputs": [
    {
     "data": {
      "text/plain": [
       "512×512 Matrix{ComplexF64}:\n",
       "  0.0383672+0.760606im    0.686698+0.0784548im  …   -0.813728-0.104892im\n",
       "     1.5176+0.214358im    0.963876-0.0289204im        2.14156-0.285411im\n",
       "   0.628935+0.151152im    0.709858+0.0448283im       0.869796-0.205352im\n",
       "   0.829263+0.217057im     1.27397-0.449533im       -0.426368+0.23571im\n",
       "   0.540524+0.248817im  -0.0394279+0.123263im       -0.113208+0.10886im\n",
       "  0.0796532+0.392576im  -0.0891086+0.323551im   …    -0.42816-0.0212641im\n",
       "    1.43034+0.330078im   -0.738538+0.0774436im      0.0182275+0.0671887im\n",
       "  -0.111325+0.203347im   -0.298139+0.364208im        0.595705-0.0029911im\n",
       "  -0.677165-0.215526im   -0.198593-0.127702im       -0.750175-0.0142763im\n",
       "   0.529782-0.343197im     1.14369-0.369069im        -1.24618+0.136909im\n",
       "           ⋮                                    ⋱  \n",
       "   0.131527+0.663346im    0.606727-0.315423im         1.41992+0.388969im\n",
       "     0.3701+0.495623im    -0.50695+0.117072im       -0.562976+0.0780068im\n",
       "   0.299432+0.167881im    -1.22638-0.403477im   …    -0.23616+0.451941im\n",
       "  -0.639859+0.670224im   -0.543057+0.815486im        -0.13972+0.395176im\n",
       "  -0.155714+0.19675im    -0.725731-0.117977im       -0.320255-0.294187im\n",
       "   -0.22673+0.407025im     -1.1016-0.0670713im     -0.0937831+0.144359im\n",
       "  -0.271822-0.104677im    0.379266-0.459426im       -0.100332-0.178509im\n",
       "   0.172346-0.787103im   -0.948251+0.418611im   …  -0.0565036+0.18067im\n",
       " -0.0173941-0.249987im    0.651698+0.0286996im       -0.81779-0.413685im"
      ]
     },
     "metadata": {},
     "output_type": "display_data"
    }
   ],
   "source": [
    "function find_Ay(Omega, y)\n",
    "    vec_omega = vec(Omega)\n",
    "    O1 = complex(Array{Float64}(undef, length(vec_omega)))\n",
    "    j = 1\n",
    "    for i in 1:length(vec_omega)\n",
    "        if vec_omega[i] != 0\n",
    "            O1[i] = y[j]\n",
    "            j+=1\n",
    "        end\n",
    "    end\n",
    "    O1 = reshape(O1,512,512)\n",
    "    O2=ifftshift(O1)\n",
    "    O3=ifft(O2)\n",
    "\n",
    "    return O3\n",
    "end\n",
    "\n",
    "function find_AAX(X,Omega)\n",
    "    O1 = fft(X)\n",
    "    O2 = fftshift(O1)\n",
    "    O4O3 = Omega .* O2\n",
    "    O5 = ifftshift(O4O3)\n",
    "    O6 = ifft(O5)\n",
    "\n",
    "    return O6\n",
    "end\n",
    "\n",
    "\n",
    "function find_grad(X, Omega, y)\n",
    "    return - find_Ay(Omega, y) + find_AAX(X, Omega)\n",
    "\n",
    "end\n",
    "\n",
    "A.Q7_3_1_ans_gradient = \n",
    "find_grad(\n",
    "    A.Q7_3_1_data_X0,\n",
    "    A.Q7_3_1_data_Omega,\n",
    "    A.Q7_3_1_data_y\n",
    ")\n",
    "\n",
    "\n"
   ]
  },
  {
   "cell_type": "markdown",
   "id": "257491c3",
   "metadata": {},
   "source": [
    "### 2"
   ]
  },
  {
   "cell_type": "code",
   "execution_count": 41,
   "metadata": {},
   "outputs": [
    {
     "data": {
      "text/plain": [
       "512×512 Matrix{ComplexF64}:\n",
       " -15.6331-248.433im  -222.252-32.3013im  …     273.0+29.0958im\n",
       " -667.291-42.8341im  -382.175+13.1423im     -845.508+73.3246im\n",
       " -276.242-93.6797im  -299.583+2.07722im     -402.188+90.9603im\n",
       " -289.778-54.8916im  -522.193+165.323im      97.5556-116.464im\n",
       " -212.819-73.8646im  -62.3687-27.1081im      86.0676-56.4815im\n",
       " -30.3421-117.278im   35.9684-66.7953im  …   208.786+36.7204im\n",
       " -532.433-114.4im     309.327-58.2398im      56.0559+15.2443im\n",
       "  44.7583-67.9176im   149.829-101.01im      -172.849+23.7849im\n",
       "  300.666+109.535im   149.156+61.4936im      306.516+18.1334im\n",
       " -200.595+145.943im   -431.86+183.068im      509.794-1.15245im\n",
       "         ⋮                               ⋱  \n",
       " -62.4578-202.031im  -196.162+94.0698im     -611.013-118.178im\n",
       " -146.543-135.797im   198.144+20.6114im      181.348-34.8954im\n",
       " -91.8455-75.4824im    456.45+143.806im  …   82.1484-171.464im\n",
       "  266.704-254.333im   223.158-306.82im       64.9094-141.84im\n",
       "  53.7195-80.7979im   318.102+33.4948im      139.237+52.0875im\n",
       "  144.951-189.354im   422.934+13.117im       74.2439-33.9053im\n",
       "  109.138+24.0315im  -166.332+136.589im      80.4589+39.7227im\n",
       " -34.0653+272.077im   388.699-128.608im  …   25.1268-34.6655im\n",
       "  30.5382+70.4298im  -218.521+13.2786im       323.85+155.373im"
      ]
     },
     "metadata": {},
     "output_type": "display_data"
    }
   ],
   "source": [
    "#NOTE: the wavelet operator is unitary\n",
    "\n",
    "# #setup for wavelet operators\n",
    "# function W_normal(X)\n",
    "#     return dwt(X, wavelet(WT.db4))\n",
    "# end\n",
    "\n",
    "# function W_star(X)\n",
    "#     return idwt(z,  wavelet(WT.db4))\n",
    "# end\n",
    "\n",
    "function update_X(X,Omega,y,lambda)\n",
    "    #Set gamma = n as per required in question\n",
    "    m,n = size(X)\n",
    "    gamma = n\n",
    "\n",
    "    #Here we use the solution found in question 6.2d\n",
    "    z = X - gamma * find_grad(X,Omega,y)\n",
    "    a = sign.(dwt(z, wavelet(WT.db4)))\n",
    "    b = abs.(dwt(z, wavelet(WT.db4))).-(lambda*gamma)\n",
    "    c = max.(b,0)\n",
    "    X_new = idwt(a.*c,  wavelet(WT.db4))\n",
    "    return X_new\n",
    "end\n",
    "#test\n",
    "update_X(\n",
    "    A.Q7_3_1_data_X0,\n",
    "    A.Q7_3_1_data_Omega,\n",
    "    A.Q7_3_1_data_y,\n",
    "    A.Q7_3_2_data_lambda\n",
    ")"
   ]
  },
  {
   "cell_type": "code",
   "execution_count": null,
   "metadata": {},
   "outputs": [],
   "source": [
    "idwt(_,  wavelet(WT.db4))\n",
    "dwt(_, wavelet(WT.db4))"
   ]
  },
  {
   "cell_type": "code",
   "execution_count": 48,
   "metadata": {},
   "outputs": [
    {
     "data": {
      "text/plain": [
       "0.2"
      ]
     },
     "metadata": {},
     "output_type": "display_data"
    }
   ],
   "source": [
    "# norm(vec(A.Q7_3_1_data_X0),1)\n",
    "A.Q7_3_2_data_lambda"
   ]
  },
  {
   "cell_type": "markdown",
   "id": "e7b7a294",
   "metadata": {},
   "source": [
    "### 3"
   ]
  },
  {
   "cell_type": "code",
   "execution_count": 63,
   "id": "ee9a35e2",
   "metadata": {},
   "outputs": [
    {
     "name": "stdout",
     "output_type": "stream",
     "text": [
      "4.0353440691195625e104.686723022911471e10"
     ]
    },
    {
     "name": "stdout",
     "output_type": "stream",
     "text": [
      "3.375222834905798e12"
     ]
    },
    {
     "name": "stdout",
     "output_type": "stream",
     "text": [
      "1.7041651420537972e15"
     ]
    },
    {
     "name": "stdout",
     "output_type": "stream",
     "text": [
      "8.708078136577242e17"
     ]
    },
    {
     "name": "stdout",
     "output_type": "stream",
     "text": [
      "4.449827722053708e20"
     ]
    },
    {
     "name": "stdout",
     "output_type": "stream",
     "text": [
      "2.2738619657637078e23"
     ]
    },
    {
     "name": "stdout",
     "output_type": "stream",
     "text": [
      "1.1619434645050498e26"
     ]
    },
    {
     "name": "stdout",
     "output_type": "stream",
     "text": [
      "5.937531103620809e28"
     ]
    },
    {
     "name": "stdout",
     "output_type": "stream",
     "text": [
      "3.0340783939502358e31"
     ]
    },
    {
     "name": "stdout",
     "output_type": "stream",
     "text": [
      "1.5504140593085718e34"
     ]
    },
    {
     "name": "stdout",
     "output_type": "stream",
     "text": [
      "7.922615843066808e36"
     ]
    },
    {
     "name": "stdout",
     "output_type": "stream",
     "text": [
      "4.048456695807143e39"
     ]
    },
    {
     "name": "stdout",
     "output_type": "stream",
     "text": [
      "2.0687613715574516e42"
     ]
    },
    {
     "name": "stdout",
     "output_type": "stream",
     "text": [
      "1.0571370608658587e45"
     ]
    },
    {
     "name": "stdout",
     "output_type": "stream",
     "text": [
      "5.401970381024543e47"
     ]
    },
    {
     "name": "stdout",
     "output_type": "stream",
     "text": [
      "2.7604068647035437e50"
     ]
    },
    {
     "name": "stdout",
     "output_type": "stream",
     "text": [
      "1.4105679078635124e53"
     ]
    },
    {
     "name": "stdout",
     "output_type": "stream",
     "text": [
      "7.208002009182553e55"
     ]
    },
    {
     "name": "stdout",
     "output_type": "stream",
     "text": [
      "3.683289026692288e58"
     ]
    },
    {
     "data": {
      "text/plain": [
       "512×512 Matrix{ComplexF64}:\n",
       "  1.88469e52+7.48495e53im  …  -8.08815e53-1.11862e53im\n",
       "  1.77982e54+1.17821e53im      2.37932e54-3.1391e53im\n",
       "  7.76138e53+1.9648e53im       1.09801e54-2.36876e53im\n",
       "  8.78193e53+2.23758e53im       -4.577e53+2.11589e53im\n",
       "   6.1672e53+2.15052e53im     -2.44386e53+2.06044e53im\n",
       "   9.6813e52+3.74935e53im  …   -5.4973e53-3.01517e52im\n",
       "  1.52613e54+2.85431e53im      2.93615e52+4.80071e52im\n",
       " -5.86949e52+2.70825e53im      7.05961e53+2.10801e52im\n",
       " -8.50659e53-2.44166e53im     -8.10364e53-5.65902e52im\n",
       "  5.06427e53-4.24256e53im     -1.43329e54+1.17052e53im\n",
       "            ⋮              ⋱  \n",
       "   1.4005e53+6.3927e53im       1.68953e54+4.4616e53im\n",
       "  3.05849e53+4.1873e53im      -6.06748e53+5.67726e52im\n",
       "   2.6624e53+1.50265e53im  …   -2.6488e53+5.36847e53im\n",
       " -7.29432e53+7.4256e53im      -2.43438e53+4.59695e53im\n",
       " -1.74921e53+2.8625e53im      -3.60638e53-2.48766e53im\n",
       " -2.27154e53+4.91558e53im     -2.28181e53+1.73679e53im\n",
       " -3.74864e53-4.11236e52im     -2.39755e53-2.30164e53im\n",
       "  2.08059e53-8.74233e53im  …  -1.33178e53+1.77069e53im\n",
       " -2.11976e52-2.60712e53im     -9.89583e53-5.49002e53im"
      ]
     },
     "metadata": {},
     "output_type": "display_data"
    }
   ],
   "source": [
    "function A_m(x, P_Omega)\n",
    "    # Apply the 2D Fourier transform\n",
    "    F_X = fft(x)\n",
    "\n",
    "    # Apply the FFT shift\n",
    "    S_F_X = fftshift(F_X)\n",
    "\n",
    "    # Apply the sampling operator using element-wise multiplication and vectorise\n",
    "    S_F_X_Omega = vec(P_Omega .* S_F_X)\n",
    "\n",
    "    nonzeros = filter(x -> x != 0, vec(S_F_X_Omega))\n",
    "\n",
    "    # Remove the zeroes in the vector\n",
    "    return nonzeros\n",
    "end\n",
    "\n",
    "function PGM(X,Omega,y,lambda)\n",
    "    X_out = X\n",
    "    for i in 1:20\n",
    "        X_out = update_X(X_out,Omega,y,lambda)\n",
    "        loss = 0.2*norm(dwt(X_out, wavelet(WT.db4)),1)+1/2*norm(y-A_m(X,Omega))^2\n",
    "        print(loss)\n",
    "    end\n",
    "    return X_out\n",
    "end\n",
    "\n",
    "PGM(\n",
    "    A.Q7_3_1_data_X0,\n",
    "    A.Q7_3_1_data_Omega,\n",
    "    A.Q7_3_1_data_y,\n",
    "    A.Q7_3_2_data_lambda\n",
    ");\n",
    "\n",
    "#20: 1.88469e52+7.48495e53im\n",
    "#40: 2.77752e106+1.10308e108im\n",
    "#100: 8.8902e268+3.5307e270\n",
    "#1000: "
   ]
  },
  {
   "cell_type": "code",
   "execution_count": null,
   "metadata": {},
   "outputs": [],
   "source": [
    "test1 = A.Q7_3_1_data_X0\n",
    "test2 = A.Q7_3_1_data_Omega\n",
    "test3 = A.Q7_3_1_data_y\n",
    "test4 = A.Q7_3_2_data_lambda\n",
    "\n",
    "A_m(test1, test2)"
   ]
  },
  {
   "cell_type": "markdown",
   "id": "d56ff3b9",
   "metadata": {},
   "source": [
    "## 7.4. MRI CS Recovery: DCT"
   ]
  },
  {
   "cell_type": "markdown",
   "id": "39e4faca",
   "metadata": {},
   "source": [
    "### 1"
   ]
  },
  {
   "cell_type": "code",
   "execution_count": 9,
   "id": "ef92f2a3",
   "metadata": {},
   "outputs": [
    {
     "data": {
      "text/plain": [
       "512×512 Matrix{Float64}:\n",
       "  0.366237     1.19211     1.68995   …  -1.72473     2.93989    0.0413225\n",
       "  0.191618     0.0864022   0.173086     -0.366286   -0.72923   -0.0877624\n",
       " -0.833761    -0.60373    -0.475066     -0.455747    0.171652   1.77861\n",
       " -0.00229518  -1.50397     0.260725      0.0783067  -0.457845   0.652336\n",
       " -1.3232      -0.192656    1.34458      -0.0999372   1.0288     1.17025\n",
       " -0.173484     2.01038    -0.166272  …  -0.987409   -1.46616   -0.609858\n",
       " -0.784576     0.167883   -2.01815      -0.8919      0.593913  -1.33394\n",
       " -1.34002      0.314492   -0.163357     -1.29248    -0.102672   0.463854\n",
       " -0.391789     0.926161    1.04135       1.03238    -0.893262  -1.13684\n",
       "  0.888325     1.34286    -0.658242     -1.41407    -0.534837  -1.06766\n",
       "  ⋮                                  ⋱               ⋮         \n",
       "  1.10533     -0.353828   -0.458405     -0.144269   -0.294954  -0.0169346\n",
       "  0.884955    -0.0989313  -0.374721     -1.06168    -0.248588   0.10249\n",
       " -0.398815    -1.57551     0.95643   …  -0.0861295   0.568909   0.383323\n",
       "  0.736661    -0.212071    0.140038     -2.13442     0.254185   0.840298\n",
       " -0.343386     1.2314      0.512371     -0.147323    1.44752   -0.224998\n",
       " -1.22451      1.93035    -0.962695      1.06721    -0.533818   0.636793\n",
       " -0.203798    -0.274888    0.652093      0.24148     1.45348    0.0308862\n",
       "  0.30339     -0.471502    1.5306    …   0.691288   -1.43194    0.244656\n",
       "  1.2415      -0.143972   -1.0865        0.275121    0.378229   1.0634"
      ]
     },
     "metadata": {},
     "output_type": "display_data"
    }
   ],
   "source": [
    "dct(A.Q7_4_1_data_X0)"
   ]
  },
  {
   "cell_type": "markdown",
   "id": "caefcf63",
   "metadata": {},
   "source": [
    "### 2"
   ]
  },
  {
   "cell_type": "code",
   "execution_count": null,
   "id": "bb8db92d",
   "metadata": {},
   "outputs": [],
   "source": []
  },
  {
   "cell_type": "markdown",
   "id": "c624b2a0",
   "metadata": {},
   "source": [
    "## 7.5. MRI CS Recovery: Wavelet and DCT"
   ]
  },
  {
   "cell_type": "markdown",
   "id": "16bba95b",
   "metadata": {},
   "source": [
    "### 1"
   ]
  },
  {
   "cell_type": "code",
   "execution_count": null,
   "id": "f8cd60a8",
   "metadata": {},
   "outputs": [],
   "source": []
  },
  {
   "cell_type": "markdown",
   "id": "61340e00",
   "metadata": {},
   "source": [
    "### 2"
   ]
  },
  {
   "cell_type": "code",
   "execution_count": null,
   "id": "d0bb5032",
   "metadata": {},
   "outputs": [],
   "source": []
  }
 ],
 "metadata": {
  "kernelspec": {
   "display_name": "Julia 1.9.3",
   "language": "julia",
   "name": "julia-1.9"
  },
  "language_info": {
   "file_extension": ".jl",
   "mimetype": "application/julia",
   "name": "julia",
   "version": "1.9.3"
  }
 },
 "nbformat": 4,
 "nbformat_minor": 5
}
